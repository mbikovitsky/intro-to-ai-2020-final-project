{
 "cells": [
  {
   "cell_type": "code",
   "execution_count": 1,
   "outputs": [],
   "source": [
    "import numpy as np\n",
    "import pandas as pd\n",
    "from sklearn.model_selection import cross_validate\n",
    "\n",
    "from neural_net_estimators import ResidualDegradeEstimator\n",
    "from preprocessing import one_hot_encode_sequences, read_sequence_ids"
   ],
   "metadata": {
    "collapsed": false,
    "pycharm": {
     "name": "#%%\n"
    }
   }
  },
  {
   "cell_type": "code",
   "execution_count": 2,
   "outputs": [],
   "source": [
    "ESTIMATOR = ResidualDegradeEstimator\n",
    "PARAMS = {\n",
    "    'stage4_conv_channels': 198,\n",
    "    'stage3_pool_kernel_size': 8,\n",
    "    'stage2_conv_kernel_size': 3,\n",
    "    'stage1_conv_kernel_size': 7,\n",
    "    'stage1_conv_channels': 97,\n",
    "}\n",
    "DEG_MODEL = \"a_minus\"\n",
    "JOBS = 3\n",
    "FOLDS = 10\n",
    "EPOCHS = 5"
   ],
   "metadata": {
    "collapsed": false,
    "pycharm": {
     "name": "#%%\n"
    }
   }
  },
  {
   "cell_type": "markdown",
   "metadata": {
    "collapsed": true,
    "pycharm": {
     "name": "#%% md\n"
    }
   },
   "source": [
    "# Data pre-processing"
   ]
  },
  {
   "cell_type": "code",
   "execution_count": 3,
   "outputs": [
    {
     "data": {
      "text/plain": "                                                     sequence\nid                                                           \nS1_H_T1     GATCAAATGCTAAAGAAAATATTGGTTTTAGTAATAATCTCTATGC...\nS1_H_T2     ATCTGGTAAATTAGGTTGATTTCTGGTTATGGAAAAAGCGCGAAAA...\nS1_H_T3     TAACTGAGCCTTATGATTATGACATTTGACTGAAGTATTTGTTTTT...\nS1_H_T4     CTTGTGTACGACGAACTCAGAAGCCGCAAATAGGAGACTGTTTTCA...\nS1_H_T5     ATTTAAGATGTTTTCTCACGTTTGTATTCGCTTTTAATTAGGATGC...\n...                                                       ...\nS0_M_T1318  GTGGGCGGTGTGGACAGCGTGTCTGAGAGCACTGGCAGCATCCTCA...\nS0_M_T1319  GCTCGTTAACAGCTGCTGTAACTAGTCTGGCCTACAATAGTGTGAT...\nS0_M_T1320  GCTCGTTAACAGCTGCTGTAACTAGTCTGGCCTACAATAGTGTGAT...\nS0_M_T1321  AAGGGATGGTCCACATCAGAAAACTCACTAAATGTCATGTTAGAAT...\nS0_M_T1322  AAGGGATGGTCCACATCAGAAAACTCACTAAATGTCATGTTAGAAT...\n\n[90000 rows x 1 columns]",
      "text/html": "<div>\n<style scoped>\n    .dataframe tbody tr th:only-of-type {\n        vertical-align: middle;\n    }\n\n    .dataframe tbody tr th {\n        vertical-align: top;\n    }\n\n    .dataframe thead th {\n        text-align: right;\n    }\n</style>\n<table border=\"1\" class=\"dataframe\">\n  <thead>\n    <tr style=\"text-align: right;\">\n      <th></th>\n      <th>sequence</th>\n    </tr>\n    <tr>\n      <th>id</th>\n      <th></th>\n    </tr>\n  </thead>\n  <tbody>\n    <tr>\n      <th>S1_H_T1</th>\n      <td>GATCAAATGCTAAAGAAAATATTGGTTTTAGTAATAATCTCTATGC...</td>\n    </tr>\n    <tr>\n      <th>S1_H_T2</th>\n      <td>ATCTGGTAAATTAGGTTGATTTCTGGTTATGGAAAAAGCGCGAAAA...</td>\n    </tr>\n    <tr>\n      <th>S1_H_T3</th>\n      <td>TAACTGAGCCTTATGATTATGACATTTGACTGAAGTATTTGTTTTT...</td>\n    </tr>\n    <tr>\n      <th>S1_H_T4</th>\n      <td>CTTGTGTACGACGAACTCAGAAGCCGCAAATAGGAGACTGTTTTCA...</td>\n    </tr>\n    <tr>\n      <th>S1_H_T5</th>\n      <td>ATTTAAGATGTTTTCTCACGTTTGTATTCGCTTTTAATTAGGATGC...</td>\n    </tr>\n    <tr>\n      <th>...</th>\n      <td>...</td>\n    </tr>\n    <tr>\n      <th>S0_M_T1318</th>\n      <td>GTGGGCGGTGTGGACAGCGTGTCTGAGAGCACTGGCAGCATCCTCA...</td>\n    </tr>\n    <tr>\n      <th>S0_M_T1319</th>\n      <td>GCTCGTTAACAGCTGCTGTAACTAGTCTGGCCTACAATAGTGTGAT...</td>\n    </tr>\n    <tr>\n      <th>S0_M_T1320</th>\n      <td>GCTCGTTAACAGCTGCTGTAACTAGTCTGGCCTACAATAGTGTGAT...</td>\n    </tr>\n    <tr>\n      <th>S0_M_T1321</th>\n      <td>AAGGGATGGTCCACATCAGAAAACTCACTAAATGTCATGTTAGAAT...</td>\n    </tr>\n    <tr>\n      <th>S0_M_T1322</th>\n      <td>AAGGGATGGTCCACATCAGAAAACTCACTAAATGTCATGTTAGAAT...</td>\n    </tr>\n  </tbody>\n</table>\n<p>90000 rows × 1 columns</p>\n</div>"
     },
     "execution_count": 3,
     "metadata": {},
     "output_type": "execute_result"
    }
   ],
   "source": [
    "sequence_ids = read_sequence_ids(\"data/3U_sequences_final.txt\", slice(20, -20))\n",
    "sequence_ids.set_index(\"id\", inplace=True)\n",
    "sequence_ids"
   ],
   "metadata": {
    "collapsed": false,
    "pycharm": {
     "name": "#%%\n"
    }
   }
  },
  {
   "cell_type": "code",
   "execution_count": 4,
   "outputs": [
    {
     "data": {
      "text/plain": "             a_minus    a_plus\nid                            \nS0_M_T1    -1.451859 -1.835832\nS0_M_T10   -1.454664 -2.454348\nS0_M_T1001 -1.234907 -1.607485\nS0_M_T1002 -1.456286 -1.821993\nS0_M_T1005 -1.759014 -2.230668\n...              ...       ...\nS3_H_T999  -1.439637 -2.204499\nS3_H_T9992 -1.241441 -1.860766\nS3_H_T9993 -1.366652 -2.126140\nS3_H_T9996 -1.433779 -2.138346\nS3_H_T9998 -1.094680 -1.893089\n\n[43880 rows x 2 columns]",
      "text/html": "<div>\n<style scoped>\n    .dataframe tbody tr th:only-of-type {\n        vertical-align: middle;\n    }\n\n    .dataframe tbody tr th {\n        vertical-align: top;\n    }\n\n    .dataframe thead th {\n        text-align: right;\n    }\n</style>\n<table border=\"1\" class=\"dataframe\">\n  <thead>\n    <tr style=\"text-align: right;\">\n      <th></th>\n      <th>a_minus</th>\n      <th>a_plus</th>\n    </tr>\n    <tr>\n      <th>id</th>\n      <th></th>\n      <th></th>\n    </tr>\n  </thead>\n  <tbody>\n    <tr>\n      <th>S0_M_T1</th>\n      <td>-1.451859</td>\n      <td>-1.835832</td>\n    </tr>\n    <tr>\n      <th>S0_M_T10</th>\n      <td>-1.454664</td>\n      <td>-2.454348</td>\n    </tr>\n    <tr>\n      <th>S0_M_T1001</th>\n      <td>-1.234907</td>\n      <td>-1.607485</td>\n    </tr>\n    <tr>\n      <th>S0_M_T1002</th>\n      <td>-1.456286</td>\n      <td>-1.821993</td>\n    </tr>\n    <tr>\n      <th>S0_M_T1005</th>\n      <td>-1.759014</td>\n      <td>-2.230668</td>\n    </tr>\n    <tr>\n      <th>...</th>\n      <td>...</td>\n      <td>...</td>\n    </tr>\n    <tr>\n      <th>S3_H_T999</th>\n      <td>-1.439637</td>\n      <td>-2.204499</td>\n    </tr>\n    <tr>\n      <th>S3_H_T9992</th>\n      <td>-1.241441</td>\n      <td>-1.860766</td>\n    </tr>\n    <tr>\n      <th>S3_H_T9993</th>\n      <td>-1.366652</td>\n      <td>-2.126140</td>\n    </tr>\n    <tr>\n      <th>S3_H_T9996</th>\n      <td>-1.433779</td>\n      <td>-2.138346</td>\n    </tr>\n    <tr>\n      <th>S3_H_T9998</th>\n      <td>-1.094680</td>\n      <td>-1.893089</td>\n    </tr>\n  </tbody>\n</table>\n<p>43880 rows × 2 columns</p>\n</div>"
     },
     "execution_count": 4,
     "metadata": {},
     "output_type": "execute_result"
    }
   ],
   "source": [
    "deg_rates = pd.read_table(\"data/5U.seq0119.txt\",\n",
    "                          header=None,\n",
    "                          names=[\"id\", \"a_minus\", \"a_plus\"],\n",
    "                          dtype={\"id\": str},\n",
    "                          index_col=\"id\")\n",
    "deg_rates.drop(\"EMPTY\", inplace=True)\n",
    "deg_rates = np.log2(deg_rates)\n",
    "deg_rates"
   ],
   "metadata": {
    "collapsed": false,
    "pycharm": {
     "name": "#%%\n"
    }
   }
  },
  {
   "cell_type": "code",
   "execution_count": 5,
   "outputs": [
    {
     "data": {
      "text/plain": "                                                     sequence   a_minus  \\\nid                                                                        \nS1_H_T4     CTTGTGTACGACGAACTCAGAAGCCGCAAATAGGAGACTGTTTTCA... -0.942751   \nS1_H_T5     ATTTAAGATGTTTTCTCACGTTTGTATTCGCTTTTAATTAGGATGC... -1.275856   \nS1_H_T6     AGTAACGTGTACCTGCAGGTGAAGTCGATCTCTAACCTGGTGTGGA... -0.910231   \nS1_H_T9     TAGACATGTCATCTGCTGTTTAAACACATACACATCCTGGTTTGAC... -1.190536   \nS1_H_T12    ATGAAATATTCGTAAGATCTTCCAGATGCACTAAATCTATTCATAA... -1.851053   \n...                                                       ...       ...   \nS0_M_T1310  AGAGCATCATTCCTTTCTATCTGCTGCCAGAGCCACGGTGCCATTT... -1.122680   \nS0_M_T1311  GGCTATGAGACCGAGCAAGACACCATCACCAGCAAAGTCCCCACGG... -1.147905   \nS0_M_T1313  CACGAATTCAGTTCCCACGCCAAACCAGACCCCATGGCCTGCTCAG... -1.121895   \nS0_M_T1314  CACGAATTCAGTTCCCACGCCAAACCAGACCCCATGGCCTGCTCAG... -1.090127   \nS0_M_T1322  AAGGGATGGTCCACATCAGAAAACTCACTAAATGTCATGTTAGAAT... -1.814819   \n\n              a_plus  \nid                    \nS1_H_T4    -1.936773  \nS1_H_T5    -1.928951  \nS1_H_T6    -1.616127  \nS1_H_T9    -1.963307  \nS1_H_T12   -2.076432  \n...              ...  \nS0_M_T1310 -2.139236  \nS0_M_T1311 -1.450912  \nS0_M_T1313 -1.792157  \nS0_M_T1314 -1.768764  \nS0_M_T1322 -2.388733  \n\n[43880 rows x 3 columns]",
      "text/html": "<div>\n<style scoped>\n    .dataframe tbody tr th:only-of-type {\n        vertical-align: middle;\n    }\n\n    .dataframe tbody tr th {\n        vertical-align: top;\n    }\n\n    .dataframe thead th {\n        text-align: right;\n    }\n</style>\n<table border=\"1\" class=\"dataframe\">\n  <thead>\n    <tr style=\"text-align: right;\">\n      <th></th>\n      <th>sequence</th>\n      <th>a_minus</th>\n      <th>a_plus</th>\n    </tr>\n    <tr>\n      <th>id</th>\n      <th></th>\n      <th></th>\n      <th></th>\n    </tr>\n  </thead>\n  <tbody>\n    <tr>\n      <th>S1_H_T4</th>\n      <td>CTTGTGTACGACGAACTCAGAAGCCGCAAATAGGAGACTGTTTTCA...</td>\n      <td>-0.942751</td>\n      <td>-1.936773</td>\n    </tr>\n    <tr>\n      <th>S1_H_T5</th>\n      <td>ATTTAAGATGTTTTCTCACGTTTGTATTCGCTTTTAATTAGGATGC...</td>\n      <td>-1.275856</td>\n      <td>-1.928951</td>\n    </tr>\n    <tr>\n      <th>S1_H_T6</th>\n      <td>AGTAACGTGTACCTGCAGGTGAAGTCGATCTCTAACCTGGTGTGGA...</td>\n      <td>-0.910231</td>\n      <td>-1.616127</td>\n    </tr>\n    <tr>\n      <th>S1_H_T9</th>\n      <td>TAGACATGTCATCTGCTGTTTAAACACATACACATCCTGGTTTGAC...</td>\n      <td>-1.190536</td>\n      <td>-1.963307</td>\n    </tr>\n    <tr>\n      <th>S1_H_T12</th>\n      <td>ATGAAATATTCGTAAGATCTTCCAGATGCACTAAATCTATTCATAA...</td>\n      <td>-1.851053</td>\n      <td>-2.076432</td>\n    </tr>\n    <tr>\n      <th>...</th>\n      <td>...</td>\n      <td>...</td>\n      <td>...</td>\n    </tr>\n    <tr>\n      <th>S0_M_T1310</th>\n      <td>AGAGCATCATTCCTTTCTATCTGCTGCCAGAGCCACGGTGCCATTT...</td>\n      <td>-1.122680</td>\n      <td>-2.139236</td>\n    </tr>\n    <tr>\n      <th>S0_M_T1311</th>\n      <td>GGCTATGAGACCGAGCAAGACACCATCACCAGCAAAGTCCCCACGG...</td>\n      <td>-1.147905</td>\n      <td>-1.450912</td>\n    </tr>\n    <tr>\n      <th>S0_M_T1313</th>\n      <td>CACGAATTCAGTTCCCACGCCAAACCAGACCCCATGGCCTGCTCAG...</td>\n      <td>-1.121895</td>\n      <td>-1.792157</td>\n    </tr>\n    <tr>\n      <th>S0_M_T1314</th>\n      <td>CACGAATTCAGTTCCCACGCCAAACCAGACCCCATGGCCTGCTCAG...</td>\n      <td>-1.090127</td>\n      <td>-1.768764</td>\n    </tr>\n    <tr>\n      <th>S0_M_T1322</th>\n      <td>AAGGGATGGTCCACATCAGAAAACTCACTAAATGTCATGTTAGAAT...</td>\n      <td>-1.814819</td>\n      <td>-2.388733</td>\n    </tr>\n  </tbody>\n</table>\n<p>43880 rows × 3 columns</p>\n</div>"
     },
     "execution_count": 5,
     "metadata": {},
     "output_type": "execute_result"
    }
   ],
   "source": [
    "df = sequence_ids.join(deg_rates)\n",
    "df.dropna(inplace=True)\n",
    "df"
   ],
   "metadata": {
    "collapsed": false,
    "pycharm": {
     "name": "#%%\n"
    }
   }
  },
  {
   "cell_type": "code",
   "execution_count": 6,
   "outputs": [
    {
     "data": {
      "text/plain": "array([[[0., 0., 0., ..., 1., 0., 0.],\n        [1., 0., 0., ..., 0., 0., 1.],\n        [0., 0., 0., ..., 0., 0., 0.],\n        [0., 1., 1., ..., 0., 1., 0.]],\n\n       [[1., 0., 0., ..., 0., 0., 0.],\n        [0., 0., 0., ..., 1., 0., 1.],\n        [0., 0., 0., ..., 0., 0., 0.],\n        [0., 1., 1., ..., 0., 1., 0.]],\n\n       [[1., 0., 0., ..., 0., 0., 0.],\n        [0., 0., 0., ..., 0., 0., 0.],\n        [0., 1., 0., ..., 0., 0., 0.],\n        [0., 0., 1., ..., 1., 1., 1.]],\n\n       ...,\n\n       [[0., 1., 0., ..., 0., 0., 0.],\n        [1., 0., 1., ..., 0., 1., 1.],\n        [0., 0., 0., ..., 0., 0., 0.],\n        [0., 0., 0., ..., 1., 0., 0.]],\n\n       [[0., 1., 0., ..., 0., 0., 0.],\n        [1., 0., 1., ..., 0., 1., 1.],\n        [0., 0., 0., ..., 0., 0., 0.],\n        [0., 0., 0., ..., 1., 0., 0.]],\n\n       [[1., 1., 0., ..., 1., 0., 1.],\n        [0., 0., 0., ..., 0., 1., 0.],\n        [0., 0., 1., ..., 0., 0., 0.],\n        [0., 0., 0., ..., 0., 0., 0.]]], dtype=float32)"
     },
     "execution_count": 6,
     "metadata": {},
     "output_type": "execute_result"
    }
   ],
   "source": [
    "X = one_hot_encode_sequences(df[\"sequence\"])\n",
    "X"
   ],
   "metadata": {
    "collapsed": false,
    "pycharm": {
     "name": "#%%\n"
    }
   }
  },
  {
   "cell_type": "code",
   "execution_count": 7,
   "outputs": [
    {
     "data": {
      "text/plain": "array([-0.94275075, -1.2758561 , -0.9102307 , ..., -1.1218946 ,\n       -1.0901271 , -1.8148185 ], dtype=float32)"
     },
     "execution_count": 7,
     "metadata": {},
     "output_type": "execute_result"
    }
   ],
   "source": [
    "y = df[DEG_MODEL].to_numpy(np.float32)\n",
    "y"
   ],
   "metadata": {
    "collapsed": false,
    "pycharm": {
     "name": "#%%\n"
    }
   }
  },
  {
   "cell_type": "markdown",
   "source": [
    "# NN evaluation"
   ],
   "metadata": {
    "collapsed": false,
    "pycharm": {
     "name": "#%% md\n"
    }
   }
  },
  {
   "cell_type": "code",
   "execution_count": 8,
   "outputs": [
    {
     "name": "stderr",
     "output_type": "stream",
     "text": [
      "[Parallel(n_jobs=3)]: Using backend LokyBackend with 3 concurrent workers.\n",
      "[Parallel(n_jobs=3)]: Done   2 tasks      | elapsed: 17.3min\n",
      "[Parallel(n_jobs=3)]: Done   5 tasks      | elapsed: 34.6min\n",
      "[Parallel(n_jobs=3)]: Done  10 out of  10 | elapsed: 63.6min remaining:    0.0s\n",
      "[Parallel(n_jobs=3)]: Done  10 out of  10 | elapsed: 63.6min finished\n"
     ]
    }
   ],
   "source": [
    "cv_results = cross_validate(\n",
    "    estimator=ESTIMATOR(**PARAMS),\n",
    "    X=X,\n",
    "    y=y,\n",
    "    scoring=(\"neg_mean_squared_error\", \"r2\"),\n",
    "    cv=FOLDS,\n",
    "    n_jobs=JOBS,\n",
    "    pre_dispatch=JOBS,\n",
    "    verbose=10,\n",
    "    fit_params={\"training_epochs\": EPOCHS},\n",
    ")"
   ],
   "metadata": {
    "collapsed": false,
    "pycharm": {
     "name": "#%%\n"
    }
   }
  },
  {
   "cell_type": "code",
   "execution_count": 9,
   "outputs": [
    {
     "data": {
      "text/plain": "array([-0.03860554, -0.0372845 , -0.04533102, -0.03811284, -0.03746803,\n       -0.03980242, -0.03771404, -0.03929851, -0.03924485, -0.04017861])"
     },
     "execution_count": 9,
     "metadata": {},
     "output_type": "execute_result"
    }
   ],
   "source": [
    "cv_results[\"test_neg_mean_squared_error\"]"
   ],
   "metadata": {
    "collapsed": false,
    "pycharm": {
     "name": "#%%\n"
    }
   }
  },
  {
   "cell_type": "code",
   "execution_count": 10,
   "outputs": [
    {
     "data": {
      "text/plain": "array([0.36511939, 0.3793291 , 0.26029824, 0.37685461, 0.38779035,\n       0.35871659, 0.36911601, 0.34613556, 0.3528617 , 0.35308495])"
     },
     "execution_count": 10,
     "metadata": {},
     "output_type": "execute_result"
    }
   ],
   "source": [
    "cv_results[\"test_r2\"]"
   ],
   "metadata": {
    "collapsed": false,
    "pycharm": {
     "name": "#%%\n"
    }
   }
  },
  {
   "cell_type": "code",
   "execution_count": 11,
   "outputs": [
    {
     "data": {
      "text/plain": "-0.03930403739213943"
     },
     "execution_count": 11,
     "metadata": {},
     "output_type": "execute_result"
    }
   ],
   "source": [
    "np.mean(cv_results[\"test_neg_mean_squared_error\"])"
   ],
   "metadata": {
    "collapsed": false,
    "pycharm": {
     "name": "#%%\n"
    }
   }
  },
  {
   "cell_type": "code",
   "execution_count": 12,
   "outputs": [
    {
     "data": {
      "text/plain": "0.35493064982958406"
     },
     "execution_count": 12,
     "metadata": {},
     "output_type": "execute_result"
    }
   ],
   "source": [
    "np.mean(cv_results[\"test_r2\"])\n"
   ],
   "metadata": {
    "collapsed": false,
    "pycharm": {
     "name": "#%%\n"
    }
   }
  }
 ],
 "metadata": {
  "kernelspec": {
   "display_name": "Python 3",
   "language": "python",
   "name": "python3"
  },
  "language_info": {
   "codemirror_mode": {
    "name": "ipython",
    "version": 2
   },
   "file_extension": ".py",
   "mimetype": "text/x-python",
   "name": "python",
   "nbconvert_exporter": "python",
   "pygments_lexer": "ipython2",
   "version": "2.7.6"
  }
 },
 "nbformat": 4,
 "nbformat_minor": 0
}