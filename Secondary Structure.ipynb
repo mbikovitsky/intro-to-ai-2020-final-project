{
 "cells": [
  {
   "cell_type": "code",
   "execution_count": null,
   "metadata": {
    "collapsed": true
   },
   "outputs": [],
   "source": [
    "import numpy as np\n",
    "import pandas as pd\n",
    "import torch\n",
    "import torch.nn as nn\n",
    "from scipy.sparse import coo_matrix, vstack\n",
    "from sklearn.model_selection import train_test_split\n",
    "from torch import from_numpy\n",
    "from torch.utils.data import DataLoader, TensorDataset\n",
    "\n",
    "import util\n",
    "from linear_regression import Model\n",
    "from neural_net import ResidualDegrade\n",
    "from preprocessing import one_hot_encode_sequences, read_all_data, \\\n",
    "    read_original_predictions\n",
    "from util import match_parens, test_network, train_network"
   ]
  },
  {
   "cell_type": "markdown",
   "metadata": {},
   "source": [
    "# Data pre-processing"
   ]
  },
  {
   "cell_type": "code",
   "execution_count": null,
   "metadata": {},
   "outputs": [],
   "source": [
    "# Load data\n",
    "\n",
    "df = read_all_data(\"data/ss_out.txt\",\n",
    "                   \"data/3U_sequences_final.txt\",\n",
    "                   \"data/3U.models.3U.40A.seq1022_param.txt\",\n",
    "                   \"data/3U.models.3U.00A.seq1022_param.txt\")\n",
    "df"
   ]
  },
  {
   "cell_type": "code",
   "execution_count": null,
   "metadata": {},
   "outputs": [],
   "source": [
    "df.dropna(inplace=True)\n",
    "df"
   ]
  },
  {
   "cell_type": "code",
   "execution_count": null,
   "outputs": [],
   "source": [
    "# One-hot encode the secondary structure of each sequence\n",
    "\n",
    "all_pairs_matrices = vstack(df[\"secondary_structure\"].map(lambda struct: coo_matrix(match_parens(struct).reshape(-1))))\n",
    "secondary_structures = pd.DataFrame.sparse.from_spmatrix(all_pairs_matrices,\n",
    "                                                         index=df.index,\n",
    "                                                         columns=pd.RangeIndex(1, all_pairs_matrices.shape[1] + 1))\n",
    "secondary_structures"
   ],
   "metadata": {
    "collapsed": false,
    "pycharm": {
     "name": "#%%\n"
    }
   }
  },
  {
   "cell_type": "code",
   "execution_count": null,
   "metadata": {},
   "outputs": [],
   "source": [
    "sequences_tensor = one_hot_encode_sequences(df[\"sequence\"])\n",
    "sequences_tensor"
   ]
  },
  {
   "cell_type": "markdown",
   "metadata": {},
   "source": [
    "# NN"
   ]
  },
  {
   "cell_type": "code",
   "execution_count": null,
   "metadata": {},
   "outputs": [],
   "source": [
    "a_plus_net = ResidualDegrade()\n",
    "a_minus_net = ResidualDegrade()\n",
    "a_minus_net"
   ]
  },
  {
   "cell_type": "code",
   "execution_count": null,
   "outputs": [],
   "source": [
    "seq_train, \\\n",
    "seq_test, \\\n",
    "rate_a_plus_train, \\\n",
    "rate_a_plus_test, \\\n",
    "rate_a_minus_train, rate_a_minus_test = \\\n",
    "    train_test_split(sequences_tensor,\n",
    "                     df[\"log2_deg_rate_a_plus\"].to_numpy(np.float32).reshape(-1, 1),\n",
    "                     df[\"log2_deg_rate_a_minus\"].to_numpy(np.float32).reshape(-1, 1),\n",
    "                     train_size=0.9)"
   ],
   "metadata": {
    "collapsed": false,
    "pycharm": {
     "name": "#%%\n"
    }
   }
  },
  {
   "cell_type": "code",
   "execution_count": null,
   "metadata": {},
   "outputs": [],
   "source": [
    "train_loader = DataLoader(TensorDataset(from_numpy(seq_train), from_numpy(rate_a_plus_train)),\n",
    "                          batch_size=4, shuffle=True)\n",
    "optimizer = torch.optim.Adam(a_plus_net.parameters(), lr=0.001)\n",
    "train_network(a_plus_net, train_loader, 5, nn.MSELoss(), optimizer)"
   ]
  },
  {
   "cell_type": "code",
   "execution_count": null,
   "outputs": [],
   "source": [
    "train_loader = DataLoader(TensorDataset(from_numpy(seq_train), from_numpy(rate_a_minus_train)),\n",
    "                          batch_size=4, shuffle=True)\n",
    "optimizer = torch.optim.Adam(a_minus_net.parameters(), lr=0.001)\n",
    "train_network(a_minus_net, train_loader, 5, nn.MSELoss(), optimizer)"
   ],
   "metadata": {
    "collapsed": false,
    "pycharm": {
     "name": "#%%\n"
    }
   }
  },
  {
   "cell_type": "code",
   "execution_count": null,
   "metadata": {},
   "outputs": [],
   "source": [
    "test_loader = DataLoader(TensorDataset(from_numpy(seq_test), from_numpy(rate_a_plus_test)),\n",
    "                         batch_size=4, shuffle=False)\n",
    "a_plus_mse = test_network(a_plus_net, test_loader)\n",
    "a_plus_mse"
   ]
  },
  {
   "cell_type": "code",
   "execution_count": null,
   "outputs": [],
   "source": [
    "test_loader = DataLoader(TensorDataset(from_numpy(seq_test), from_numpy(rate_a_minus_test)),\n",
    "                         batch_size=4, shuffle=False)\n",
    "a_minus_mse = test_network(a_minus_net, test_loader)\n",
    "a_minus_mse"
   ],
   "metadata": {
    "collapsed": false,
    "pycharm": {
     "name": "#%%\n"
    }
   }
  },
  {
   "cell_type": "markdown",
   "source": [
    "# Linear Regression"
   ],
   "metadata": {
    "collapsed": false,
    "pycharm": {
     "name": "#%% md\n"
    }
   }
  },
  {
   "cell_type": "code",
   "execution_count": null,
   "outputs": [],
   "source": [
    "model_a_plus = Model.load(\"data/run_linear_3U_40A_dg_BEST.out.mat\")\n",
    "model_a_minus = Model.load(\"data/run_linear_3U_00Am1_dg_BEST.out.mat\")"
   ],
   "metadata": {
    "collapsed": false,
    "pycharm": {
     "name": "#%%\n"
    }
   }
  },
  {
   "cell_type": "code",
   "execution_count": null,
   "outputs": [],
   "source": [
    "prediction_a_minus = np.log2(model_a_minus.predict(df[\"sequence\"]))\n",
    "prediction_a_minus"
   ],
   "metadata": {
    "collapsed": false,
    "pycharm": {
     "name": "#%%\n"
    }
   }
  },
  {
   "cell_type": "code",
   "execution_count": null,
   "outputs": [],
   "source": [
    "prediction_a_plus = np.log2(model_a_plus.predict(df[\"sequence\"]))\n",
    "prediction_a_plus"
   ],
   "metadata": {
    "collapsed": false,
    "pycharm": {
     "name": "#%%\n"
    }
   }
  },
  {
   "cell_type": "code",
   "execution_count": null,
   "outputs": [],
   "source": [
    "prediction_df = pd.DataFrame({\"id\": df.index,\n",
    "                              \"a_minus\": prediction_a_minus.T[0],\n",
    "                              \"a_plus\": prediction_a_plus.T[0]})\n",
    "prediction_df.sort_values(by=[\"id\"], inplace=True)"
   ],
   "metadata": {
    "collapsed": false,
    "pycharm": {
     "name": "#%%\n"
    }
   }
  },
  {
   "cell_type": "code",
   "execution_count": null,
   "outputs": [],
   "source": [
    "_, a_minus_clip, a_plus_clip = read_original_predictions(\"data/models_full_dg.txt\")"
   ],
   "metadata": {
    "collapsed": false,
    "pycharm": {
     "name": "#%%\n"
    }
   }
  },
  {
   "cell_type": "code",
   "execution_count": null,
   "outputs": [],
   "source": [
    "prediction_df[\"a_minus\"].fillna(a_minus_clip, inplace=True)\n",
    "prediction_df[\"a_minus\"].clip(lower=a_minus_clip, inplace=True)\n",
    "\n",
    "prediction_df[\"a_plus\"].fillna(a_plus_clip, inplace=True)\n",
    "prediction_df[\"a_plus\"].clip(lower=a_plus_clip, inplace=True)"
   ],
   "metadata": {
    "collapsed": false,
    "pycharm": {
     "name": "#%%\n"
    }
   }
  },
  {
   "cell_type": "code",
   "execution_count": null,
   "outputs": [],
   "source": [
    "assert (prediction_df[\"id\"] == df.index).all()"
   ],
   "metadata": {
    "collapsed": false,
    "pycharm": {
     "name": "#%%\n"
    }
   }
  },
  {
   "cell_type": "code",
   "execution_count": null,
   "outputs": [],
   "source": [
    "linear_mse_a_minus = util.mse(prediction_df[\"a_minus\"].to_numpy(), df[\"log2_deg_rate_a_minus\"].to_numpy())\n",
    "linear_mse_a_minus"
   ],
   "metadata": {
    "collapsed": false,
    "pycharm": {
     "name": "#%%\n"
    }
   }
  },
  {
   "cell_type": "code",
   "execution_count": null,
   "outputs": [],
   "source": [
    "linear_mse_a_plus = util.mse(prediction_df[\"a_plus\"].to_numpy(), df[\"log2_deg_rate_a_plus\"].to_numpy())\n",
    "linear_mse_a_plus\n"
   ],
   "metadata": {
    "collapsed": false,
    "pycharm": {
     "name": "#%%\n"
    }
   }
  }
 ],
 "metadata": {
  "kernelspec": {
   "display_name": "Python 3",
   "language": "python",
   "name": "python3"
  },
  "language_info": {
   "codemirror_mode": {
    "name": "ipython",
    "version": 2
   },
   "file_extension": ".py",
   "mimetype": "text/x-python",
   "name": "python",
   "nbconvert_exporter": "python",
   "pygments_lexer": "ipython2",
   "version": "2.7.6"
  }
 },
 "nbformat": 4,
 "nbformat_minor": 0
}