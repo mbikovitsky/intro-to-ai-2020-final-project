{
 "cells": [
  {
   "cell_type": "code",
   "execution_count": 1,
   "metadata": {
    "collapsed": true
   },
   "outputs": [],
   "source": [
    "import numpy as np\n",
    "import pandas as pd\n",
    "import re\n",
    "from scipy.sparse import coo_matrix, vstack"
   ]
  },
  {
   "cell_type": "markdown",
   "metadata": {},
   "source": [
    "# Data pre-processing"
   ]
  },
  {
   "cell_type": "code",
   "execution_count": 2,
   "outputs": [],
   "source": [
    "with open(\"data/ss_out.txt\", mode=\"r\") as f:\n",
    "    raw_data = f.read()"
   ],
   "metadata": {
    "collapsed": false,
    "pycharm": {
     "name": "#%%\n"
    }
   }
  },
  {
   "cell_type": "code",
   "execution_count": 3,
   "outputs": [],
   "source": [
    "# Read file into a DataFrame\n",
    "\n",
    "PATTERN = re.compile(r\"\"\"^([UCAG]{110})\n",
    "([.()]{110}) \\( {0,2}(-?[0-9]{1,2}\\.[0-9]{2})\\)\n",
    "([.,|(){}]{110})\"\"\", re.IGNORECASE | re.MULTILINE)\n",
    "\n",
    "data = (match.groups() for match in PATTERN.finditer(raw_data))\n",
    "data = ((sequence, secondary_structure, float(free_energy), secondary_structure_prob)\n",
    "        for (sequence, secondary_structure, free_energy, secondary_structure_prob) in data)\n",
    "\n",
    "df = pd.DataFrame.from_records(data, columns=[\"sequence\", \"secondary_structure\", \"free_energy\", \"secondary_structure_prob\"])"
   ],
   "metadata": {
    "collapsed": false,
    "pycharm": {
     "name": "#%%\n"
    }
   }
  },
  {
   "cell_type": "code",
   "execution_count": 4,
   "outputs": [
    {
     "data": {
      "text/plain": "                                                sequence  \\\n0      TGTCCCCGGGTCTTCCAACGGACTGGCGTTGCCCCGGTTCACTGGG...   \n1      AGATTTTTGGTTCAATATGCTCCTTGAGTGGAGTCTTAGTGATTGC...   \n2      ACCCGGCGCCGCTCGACCCGGAGCGAGGAGTTGACCCGGAGCGAGG...   \n3      ATGAGGGCTGGAATTTGCATTGAAACACTGGTCCAGTCGCTGTGTA...   \n4      CCTTAGTGCCCTTAAAATAATGATTTAAGCATTTTACTGTATGTAT...   \n...                                                  ...   \n89995  TTGTAGCTGTCAATTGTATTTAATATACTTTTTTGTCTTTTTAATT...   \n89996  AAAACACCACTACATATGTTTCTCATAAGCGCAACTGTAGTGTTAT...   \n89997  AGGATTTTTTTTTTCACCAATGCTCTTTAATACACACTTGCCTATA...   \n89998  GGTGCTTCAAAGAGTGATTACCCACTAACTAATGAACCCAGACTGT...   \n89999  CTGCAACCATAACTCTAATTGTAGATGTGAAGAAGATTAATGACAG...   \n\n                                     secondary_structure  free_energy  \\\n0      .(.((((((((....(((((......)))))((((((....)))))...       -45.92   \n1      ........(((((.....(((((......)))))...(((((..((...       -31.17   \n2      ....((((((.((((..((((..(((....)))..))))..))))....       -41.95   \n3      .....(((((((...((........))....)))))))..(((......       -23.18   \n4      ....(.((((((((((.(((.(......((.(((((((((.(.......       -30.84   \n...                                                  ...          ...   \n89995  ((((..(((.((((((.((((((...........(((............       -18.50   \n89996  ((((((((((((((..(((..((....)).)))..))))))).......       -19.40   \n89997  .(((..((((((((.......((................))........       -20.95   \n89998  ((((..(((.....))).))))..((((..((((((((((((.(((...       -28.53   \n89999  ..(((((((..((((((...((((.(((.......((((((....(...       -20.03   \n\n                                secondary_structure_prob  \n0      .(.((((((((.,,,{{..(|||{((|{..,{{||||,,,.}))))...  \n1      ........(((((,.,..(((((......))))}...{({({..({...  \n2      ....((((((.((((..((((.,({(....})).,))))..)}}),...  \n3      ...,((((((((.,.({........}}..,,))))))).,|((,,....  \n4      ....{.(((((((((({(((.{......((.((((((((,.{.......  \n...                                                  ...  \n89995  ,{(((((((.,(({{((((.....}}}}......(((............  \n89996  ((((((((((((((..(((..,.....}}.)})..))))))).......  \n89997  ,((,((((((((({...,,,,({..............,,)}....)...  \n89998  ((((..(((.....))).))))..((((..(((((((((,((.(((...  \n89999  ..(((({({.,((((((...((((.({(.......((((((....{...  \n\n[90000 rows x 4 columns]",
      "text/html": "<div>\n<style scoped>\n    .dataframe tbody tr th:only-of-type {\n        vertical-align: middle;\n    }\n\n    .dataframe tbody tr th {\n        vertical-align: top;\n    }\n\n    .dataframe thead th {\n        text-align: right;\n    }\n</style>\n<table border=\"1\" class=\"dataframe\">\n  <thead>\n    <tr style=\"text-align: right;\">\n      <th></th>\n      <th>sequence</th>\n      <th>secondary_structure</th>\n      <th>free_energy</th>\n      <th>secondary_structure_prob</th>\n    </tr>\n  </thead>\n  <tbody>\n    <tr>\n      <th>0</th>\n      <td>TGTCCCCGGGTCTTCCAACGGACTGGCGTTGCCCCGGTTCACTGGG...</td>\n      <td>.(.((((((((....(((((......)))))((((((....)))))...</td>\n      <td>-45.92</td>\n      <td>.(.((((((((.,,,{{..(|||{((|{..,{{||||,,,.}))))...</td>\n    </tr>\n    <tr>\n      <th>1</th>\n      <td>AGATTTTTGGTTCAATATGCTCCTTGAGTGGAGTCTTAGTGATTGC...</td>\n      <td>........(((((.....(((((......)))))...(((((..((...</td>\n      <td>-31.17</td>\n      <td>........(((((,.,..(((((......))))}...{({({..({...</td>\n    </tr>\n    <tr>\n      <th>2</th>\n      <td>ACCCGGCGCCGCTCGACCCGGAGCGAGGAGTTGACCCGGAGCGAGG...</td>\n      <td>....((((((.((((..((((..(((....)))..))))..))))....</td>\n      <td>-41.95</td>\n      <td>....((((((.((((..((((.,({(....})).,))))..)}}),...</td>\n    </tr>\n    <tr>\n      <th>3</th>\n      <td>ATGAGGGCTGGAATTTGCATTGAAACACTGGTCCAGTCGCTGTGTA...</td>\n      <td>.....(((((((...((........))....)))))))..(((......</td>\n      <td>-23.18</td>\n      <td>...,((((((((.,.({........}}..,,))))))).,|((,,....</td>\n    </tr>\n    <tr>\n      <th>4</th>\n      <td>CCTTAGTGCCCTTAAAATAATGATTTAAGCATTTTACTGTATGTAT...</td>\n      <td>....(.((((((((((.(((.(......((.(((((((((.(.......</td>\n      <td>-30.84</td>\n      <td>....{.(((((((((({(((.{......((.((((((((,.{.......</td>\n    </tr>\n    <tr>\n      <th>...</th>\n      <td>...</td>\n      <td>...</td>\n      <td>...</td>\n      <td>...</td>\n    </tr>\n    <tr>\n      <th>89995</th>\n      <td>TTGTAGCTGTCAATTGTATTTAATATACTTTTTTGTCTTTTTAATT...</td>\n      <td>((((..(((.((((((.((((((...........(((............</td>\n      <td>-18.50</td>\n      <td>,{(((((((.,(({{((((.....}}}}......(((............</td>\n    </tr>\n    <tr>\n      <th>89996</th>\n      <td>AAAACACCACTACATATGTTTCTCATAAGCGCAACTGTAGTGTTAT...</td>\n      <td>((((((((((((((..(((..((....)).)))..))))))).......</td>\n      <td>-19.40</td>\n      <td>((((((((((((((..(((..,.....}}.)})..))))))).......</td>\n    </tr>\n    <tr>\n      <th>89997</th>\n      <td>AGGATTTTTTTTTTCACCAATGCTCTTTAATACACACTTGCCTATA...</td>\n      <td>.(((..((((((((.......((................))........</td>\n      <td>-20.95</td>\n      <td>,((,((((((((({...,,,,({..............,,)}....)...</td>\n    </tr>\n    <tr>\n      <th>89998</th>\n      <td>GGTGCTTCAAAGAGTGATTACCCACTAACTAATGAACCCAGACTGT...</td>\n      <td>((((..(((.....))).))))..((((..((((((((((((.(((...</td>\n      <td>-28.53</td>\n      <td>((((..(((.....))).))))..((((..(((((((((,((.(((...</td>\n    </tr>\n    <tr>\n      <th>89999</th>\n      <td>CTGCAACCATAACTCTAATTGTAGATGTGAAGAAGATTAATGACAG...</td>\n      <td>..(((((((..((((((...((((.(((.......((((((....(...</td>\n      <td>-20.03</td>\n      <td>..(((({({.,((((((...((((.({(.......((((((....{...</td>\n    </tr>\n  </tbody>\n</table>\n<p>90000 rows × 4 columns</p>\n</div>"
     },
     "execution_count": 4,
     "metadata": {},
     "output_type": "execute_result"
    }
   ],
   "source": [
    "# Drop duplicates and transform sequences by replacing U with T\n",
    "\n",
    "df.drop_duplicates(inplace=True)\n",
    "df.reset_index(drop=True, inplace=True)\n",
    "df[\"sequence\"] = df[\"sequence\"].str.replace(\"U\", \"T\")\n",
    "df"
   ],
   "metadata": {
    "collapsed": false,
    "pycharm": {
     "name": "#%%\n"
    }
   }
  },
  {
   "cell_type": "code",
   "execution_count": 5,
   "metadata": {},
   "outputs": [
    {
     "data": {
      "text/plain": "                                                            id\nsequence                                                      \nGATCAAATGCTAAAGAAAATATTGGTTTTAGTAATAATCTCTATGCT...     S1_H_T1\nATCTGGTAAATTAGGTTGATTTCTGGTTATGGAAAAAGCGCGAAAAT...     S1_H_T2\nTAACTGAGCCTTATGATTATGACATTTGACTGAAGTATTTGTTTTTA...     S1_H_T3\nCTTGTGTACGACGAACTCAGAAGCCGCAAATAGGAGACTGTTTTCAG...     S1_H_T4\nATTTAAGATGTTTTCTCACGTTTGTATTCGCTTTTAATTAGGATGCA...     S1_H_T5\n...                                                        ...\nGTGGGCGGTGTGGACAGCGTGTCTGAGAGCACTGGCAGCATCCTCAG...  S0_M_T1318\nGCTCGTTAACAGCTGCTGTAACTAGTCTGGCCTACAATAGTGTGATT...  S0_M_T1319\nGCTCGTTAACAGCTGCTGTAACTAGTCTGGCCTACAATAGTGTGATT...  S0_M_T1320\nAAGGGATGGTCCACATCAGAAAACTCACTAAATGTCATGTTAGAATC...  S0_M_T1321\nAAGGGATGGTCCACATCAGAAAACTCACTAAATGTCATGTTAGAATC...  S0_M_T1322\n\n[90000 rows x 1 columns]",
      "text/html": "<div>\n<style scoped>\n    .dataframe tbody tr th:only-of-type {\n        vertical-align: middle;\n    }\n\n    .dataframe tbody tr th {\n        vertical-align: top;\n    }\n\n    .dataframe thead th {\n        text-align: right;\n    }\n</style>\n<table border=\"1\" class=\"dataframe\">\n  <thead>\n    <tr style=\"text-align: right;\">\n      <th></th>\n      <th>id</th>\n    </tr>\n    <tr>\n      <th>sequence</th>\n      <th></th>\n    </tr>\n  </thead>\n  <tbody>\n    <tr>\n      <th>GATCAAATGCTAAAGAAAATATTGGTTTTAGTAATAATCTCTATGCTGAATTTAACTTTGGGAGATGCTGAAATTATTGAGGGTTAACATTACCGTTAAGTATTGAATCT</th>\n      <td>S1_H_T1</td>\n    </tr>\n    <tr>\n      <th>ATCTGGTAAATTAGGTTGATTTCTGGTTATGGAAAAAGCGCGAAAATGGGTCAGCAGTGTTCTTATTAAAATGAATTTCATAATAAATCAATTCAAGTAACGTGTACCTG</th>\n      <td>S1_H_T2</td>\n    </tr>\n    <tr>\n      <th>TAACTGAGCCTTATGATTATGACATTTGACTGAAGTATTTGTTTTTATTGTAATTCTGTTTATTTTTACACTTGCAAATAATTAATAAAACCAAGAAAGAGTATTTACAA</th>\n      <td>S1_H_T3</td>\n    </tr>\n    <tr>\n      <th>CTTGTGTACGACGAACTCAGAAGCCGCAAATAGGAGACTGTTTTCAGTTTTCTAGTTTGGACCCTTGCAAACAAGACCCTTTTTTGCGTCTGGTGTCGGAGGTGTTCATC</th>\n      <td>S1_H_T4</td>\n    </tr>\n    <tr>\n      <th>ATTTAAGATGTTTTCTCACGTTTGTATTCGCTTTTAATTAGGATGCAATGAAATTAAACCTTGATCTGATATTTCACTTTTCTTTAAATATAGACATGGACGAGCAGCTC</th>\n      <td>S1_H_T5</td>\n    </tr>\n    <tr>\n      <th>...</th>\n      <td>...</td>\n    </tr>\n    <tr>\n      <th>GTGGGCGGTGTGGACAGCGTGTCTGAGAGCACTGGCAGCATCCTCAGCAAGCTGGTCTGGAATGCCATCGAAGACATGGTGGCCAGCGTGGAGGACCAGGGCCTGTCTGT</th>\n      <td>S0_M_T1318</td>\n    </tr>\n    <tr>\n      <th>GCTCGTTAACAGCTGCTGTAACTAGTCTGGCCTACAATAGTGTGATTCATGTAGGACTTCTTTCATCAATTCAAAACCCCTAGAAAACGTATACAGATTATATAAGTAGG</th>\n      <td>S0_M_T1319</td>\n    </tr>\n    <tr>\n      <th>GCTCGTTAACAGCTGCTGTAACTAGTCTGGCCTACAATAGTGTGATTCATGTAGGCCTTCTTTCATCAATTCAAAACCCCTAGAAAACGTATACAGATTATATAAGTAGG</th>\n      <td>S0_M_T1320</td>\n    </tr>\n    <tr>\n      <th>AAGGGATGGTCCACATCAGAAAACTCACTAAATGTCATGTTAGAATCCCACATGGACTGCATGTGACCACCTACCATCCCTTTAGTACAAATTAAGCTATTAAAAATACA</th>\n      <td>S0_M_T1321</td>\n    </tr>\n    <tr>\n      <th>AAGGGATGGTCCACATCAGAAAACTCACTAAATGTCATGTTAGAATCCCACATGGTCTGCATGTGACCACCTACCATCCCTTTAGTACAAATTAAGCTATTAAAAATACA</th>\n      <td>S0_M_T1322</td>\n    </tr>\n  </tbody>\n</table>\n<p>90000 rows × 1 columns</p>\n</div>"
     },
     "execution_count": 5,
     "metadata": {},
     "output_type": "execute_result"
    }
   ],
   "source": [
    "# Read the sequence IDs\n",
    "\n",
    "sequence_ids = \\\n",
    "  pd.read_table(\"data/3U_sequences_final.txt\",\n",
    "                header=None,\n",
    "                names=[\"id\", \"sequence\"],\n",
    "                dtype={\"id\": str},\n",
    "                # Drop the common prefix and suffix, and upcase the string\n",
    "                converters={\"sequence\": lambda string: string[20:-20].upper()},\n",
    "                index_col=\"sequence\")\n",
    "\n",
    "assert sequence_ids.index.is_unique\n",
    "assert sequence_ids[\"id\"].is_unique\n",
    "\n",
    "sequence_ids"
   ]
  },
  {
   "cell_type": "code",
   "execution_count": 6,
   "metadata": {},
   "outputs": [
    {
     "data": {
      "text/plain": "                                                     sequence  \\\nid                                                              \nS0_M_T1     TGTCCCCGGGTCTTCCAACGGACTGGCGTTGCCCCGGTTCACTGGG...   \nS0_M_T10    AGATTTTTGGTTCAATATGCTCCTTGAGTGGAGTCTTAGTGATTGC...   \nS0_M_T100   ACCCGGCGCCGCTCGACCCGGAGCGAGGAGTTGACCCGGAGCGAGG...   \nS0_M_T1000  ATGAGGGCTGGAATTTGCATTGAAACACTGGTCCAGTCGCTGTGTA...   \nS0_M_T1001  CCTTAGTGCCCTTAAAATAATGATTTAAGCATTTTACTGTATGTAT...   \n...                                                       ...   \nS3_H_T9995  TTGTAGCTGTCAATTGTATTTAATATACTTTTTTGTCTTTTTAATT...   \nS3_H_T9996  AAAACACCACTACATATGTTTCTCATAAGCGCAACTGTAGTGTTAT...   \nS3_H_T9997  AGGATTTTTTTTTTCACCAATGCTCTTTAATACACACTTGCCTATA...   \nS3_H_T9998  GGTGCTTCAAAGAGTGATTACCCACTAACTAATGAACCCAGACTGT...   \nS3_H_T9999  CTGCAACCATAACTCTAATTGTAGATGTGAAGAAGATTAATGACAG...   \n\n                                          secondary_structure  free_energy  \\\nid                                                                           \nS0_M_T1     .(.((((((((....(((((......)))))((((((....)))))...       -45.92   \nS0_M_T10    ........(((((.....(((((......)))))...(((((..((...       -31.17   \nS0_M_T100   ....((((((.((((..((((..(((....)))..))))..))))....       -41.95   \nS0_M_T1000  .....(((((((...((........))....)))))))..(((......       -23.18   \nS0_M_T1001  ....(.((((((((((.(((.(......((.(((((((((.(.......       -30.84   \n...                                                       ...          ...   \nS3_H_T9995  ((((..(((.((((((.((((((...........(((............       -18.50   \nS3_H_T9996  ((((((((((((((..(((..((....)).)))..))))))).......       -19.40   \nS3_H_T9997  .(((..((((((((.......((................))........       -20.95   \nS3_H_T9998  ((((..(((.....))).))))..((((..((((((((((((.(((...       -28.53   \nS3_H_T9999  ..(((((((..((((((...((((.(((.......((((((....(...       -20.03   \n\n                                     secondary_structure_prob  \nid                                                             \nS0_M_T1     .(.((((((((.,,,{{..(|||{((|{..,{{||||,,,.}))))...  \nS0_M_T10    ........(((((,.,..(((((......))))}...{({({..({...  \nS0_M_T100   ....((((((.((((..((((.,({(....})).,))))..)}}),...  \nS0_M_T1000  ...,((((((((.,.({........}}..,,))))))).,|((,,....  \nS0_M_T1001  ....{.(((((((((({(((.{......((.((((((((,.{.......  \n...                                                       ...  \nS3_H_T9995  ,{(((((((.,(({{((((.....}}}}......(((............  \nS3_H_T9996  ((((((((((((((..(((..,.....}}.)})..))))))).......  \nS3_H_T9997  ,((,((((((((({...,,,,({..............,,)}....)...  \nS3_H_T9998  ((((..(((.....))).))))..((((..(((((((((,((.(((...  \nS3_H_T9999  ..(((({({.,((((((...((((.({(.......((((((....{...  \n\n[90000 rows x 4 columns]",
      "text/html": "<div>\n<style scoped>\n    .dataframe tbody tr th:only-of-type {\n        vertical-align: middle;\n    }\n\n    .dataframe tbody tr th {\n        vertical-align: top;\n    }\n\n    .dataframe thead th {\n        text-align: right;\n    }\n</style>\n<table border=\"1\" class=\"dataframe\">\n  <thead>\n    <tr style=\"text-align: right;\">\n      <th></th>\n      <th>sequence</th>\n      <th>secondary_structure</th>\n      <th>free_energy</th>\n      <th>secondary_structure_prob</th>\n    </tr>\n    <tr>\n      <th>id</th>\n      <th></th>\n      <th></th>\n      <th></th>\n      <th></th>\n    </tr>\n  </thead>\n  <tbody>\n    <tr>\n      <th>S0_M_T1</th>\n      <td>TGTCCCCGGGTCTTCCAACGGACTGGCGTTGCCCCGGTTCACTGGG...</td>\n      <td>.(.((((((((....(((((......)))))((((((....)))))...</td>\n      <td>-45.92</td>\n      <td>.(.((((((((.,,,{{..(|||{((|{..,{{||||,,,.}))))...</td>\n    </tr>\n    <tr>\n      <th>S0_M_T10</th>\n      <td>AGATTTTTGGTTCAATATGCTCCTTGAGTGGAGTCTTAGTGATTGC...</td>\n      <td>........(((((.....(((((......)))))...(((((..((...</td>\n      <td>-31.17</td>\n      <td>........(((((,.,..(((((......))))}...{({({..({...</td>\n    </tr>\n    <tr>\n      <th>S0_M_T100</th>\n      <td>ACCCGGCGCCGCTCGACCCGGAGCGAGGAGTTGACCCGGAGCGAGG...</td>\n      <td>....((((((.((((..((((..(((....)))..))))..))))....</td>\n      <td>-41.95</td>\n      <td>....((((((.((((..((((.,({(....})).,))))..)}}),...</td>\n    </tr>\n    <tr>\n      <th>S0_M_T1000</th>\n      <td>ATGAGGGCTGGAATTTGCATTGAAACACTGGTCCAGTCGCTGTGTA...</td>\n      <td>.....(((((((...((........))....)))))))..(((......</td>\n      <td>-23.18</td>\n      <td>...,((((((((.,.({........}}..,,))))))).,|((,,....</td>\n    </tr>\n    <tr>\n      <th>S0_M_T1001</th>\n      <td>CCTTAGTGCCCTTAAAATAATGATTTAAGCATTTTACTGTATGTAT...</td>\n      <td>....(.((((((((((.(((.(......((.(((((((((.(.......</td>\n      <td>-30.84</td>\n      <td>....{.(((((((((({(((.{......((.((((((((,.{.......</td>\n    </tr>\n    <tr>\n      <th>...</th>\n      <td>...</td>\n      <td>...</td>\n      <td>...</td>\n      <td>...</td>\n    </tr>\n    <tr>\n      <th>S3_H_T9995</th>\n      <td>TTGTAGCTGTCAATTGTATTTAATATACTTTTTTGTCTTTTTAATT...</td>\n      <td>((((..(((.((((((.((((((...........(((............</td>\n      <td>-18.50</td>\n      <td>,{(((((((.,(({{((((.....}}}}......(((............</td>\n    </tr>\n    <tr>\n      <th>S3_H_T9996</th>\n      <td>AAAACACCACTACATATGTTTCTCATAAGCGCAACTGTAGTGTTAT...</td>\n      <td>((((((((((((((..(((..((....)).)))..))))))).......</td>\n      <td>-19.40</td>\n      <td>((((((((((((((..(((..,.....}}.)})..))))))).......</td>\n    </tr>\n    <tr>\n      <th>S3_H_T9997</th>\n      <td>AGGATTTTTTTTTTCACCAATGCTCTTTAATACACACTTGCCTATA...</td>\n      <td>.(((..((((((((.......((................))........</td>\n      <td>-20.95</td>\n      <td>,((,((((((((({...,,,,({..............,,)}....)...</td>\n    </tr>\n    <tr>\n      <th>S3_H_T9998</th>\n      <td>GGTGCTTCAAAGAGTGATTACCCACTAACTAATGAACCCAGACTGT...</td>\n      <td>((((..(((.....))).))))..((((..((((((((((((.(((...</td>\n      <td>-28.53</td>\n      <td>((((..(((.....))).))))..((((..(((((((((,((.(((...</td>\n    </tr>\n    <tr>\n      <th>S3_H_T9999</th>\n      <td>CTGCAACCATAACTCTAATTGTAGATGTGAAGAAGATTAATGACAG...</td>\n      <td>..(((((((..((((((...((((.(((.......((((((....(...</td>\n      <td>-20.03</td>\n      <td>..(((({({.,((((((...((((.({(.......((((((....{...</td>\n    </tr>\n  </tbody>\n</table>\n<p>90000 rows × 4 columns</p>\n</div>"
     },
     "execution_count": 6,
     "metadata": {},
     "output_type": "execute_result"
    }
   ],
   "source": [
    "# Add ID to the main DataFrame\n",
    "\n",
    "df = df.join(sequence_ids, on=\"sequence\")\n",
    "\n",
    "assert df[\"id\"].is_unique\n",
    "assert (df.sort_values(by=\"id\", axis=\"index\").reset_index()[[\"sequence\", \"id\"]] ==\n",
    "        sequence_ids.sort_values(by=\"id\", axis=\"index\").reset_index()) \\\n",
    "       .all().all()\n",
    "\n",
    "df.set_index(\"id\", inplace=True)\n",
    "\n",
    "df"
   ]
  },
  {
   "cell_type": "code",
   "execution_count": 7,
   "metadata": {},
   "outputs": [],
   "source": [
    "# Read degradation rates\n",
    "\n",
    "def load_deg_rate(filename: str) -> pd.DataFrame:\n",
    "    return pd.read_table(filename,\n",
    "                         header=None,\n",
    "                         names=[\"id\", \"log2_deg_rate\", \"log2_x0\", \"onset_time\"],\n",
    "                         dtype={\"id\": str},\n",
    "                         index_col=\"id\")\n",
    "\n",
    "deg_rate_a_plus = load_deg_rate(\"data/3U.models.3U.40A.seq1022_param.txt\")\n",
    "deg_rate_a_minus = load_deg_rate(\"data/3U.models.3U.00A.seq1022_param.txt\")\n",
    "assert (deg_rate_a_plus.index == deg_rate_a_minus.index).all()\n",
    "\n",
    "deg_rate_a_plus = deg_rate_a_plus.add_suffix(\"_a_plus\")\n",
    "deg_rate_a_minus = deg_rate_a_minus.add_suffix(\"_a_minus\")"
   ]
  },
  {
   "cell_type": "code",
   "execution_count": 8,
   "metadata": {},
   "outputs": [
    {
     "data": {
      "text/plain": "                                                     sequence  \\\nid                                                              \nS0_M_T1     TGTCCCCGGGTCTTCCAACGGACTGGCGTTGCCCCGGTTCACTGGG...   \nS0_M_T10    AGATTTTTGGTTCAATATGCTCCTTGAGTGGAGTCTTAGTGATTGC...   \nS0_M_T100   ACCCGGCGCCGCTCGACCCGGAGCGAGGAGTTGACCCGGAGCGAGG...   \nS0_M_T1000  ATGAGGGCTGGAATTTGCATTGAAACACTGGTCCAGTCGCTGTGTA...   \nS0_M_T1001  CCTTAGTGCCCTTAAAATAATGATTTAAGCATTTTACTGTATGTAT...   \n...                                                       ...   \nS3_H_T9995  TTGTAGCTGTCAATTGTATTTAATATACTTTTTTGTCTTTTTAATT...   \nS3_H_T9996  AAAACACCACTACATATGTTTCTCATAAGCGCAACTGTAGTGTTAT...   \nS3_H_T9997  AGGATTTTTTTTTTCACCAATGCTCTTTAATACACACTTGCCTATA...   \nS3_H_T9998  GGTGCTTCAAAGAGTGATTACCCACTAACTAATGAACCCAGACTGT...   \nS3_H_T9999  CTGCAACCATAACTCTAATTGTAGATGTGAAGAAGATTAATGACAG...   \n\n                                          secondary_structure  free_energy  \\\nid                                                                           \nS0_M_T1     .(.((((((((....(((((......)))))((((((....)))))...       -45.92   \nS0_M_T10    ........(((((.....(((((......)))))...(((((..((...       -31.17   \nS0_M_T100   ....((((((.((((..((((..(((....)))..))))..))))....       -41.95   \nS0_M_T1000  .....(((((((...((........))....)))))))..(((......       -23.18   \nS0_M_T1001  ....(.((((((((((.(((.(......((.(((((((((.(.......       -30.84   \n...                                                       ...          ...   \nS3_H_T9995  ((((..(((.((((((.((((((...........(((............       -18.50   \nS3_H_T9996  ((((((((((((((..(((..((....)).)))..))))))).......       -19.40   \nS3_H_T9997  .(((..((((((((.......((................))........       -20.95   \nS3_H_T9998  ((((..(((.....))).))))..((((..((((((((((((.(((...       -28.53   \nS3_H_T9999  ..(((((((..((((((...((((.(((.......((((((....(...       -20.03   \n\n                                     secondary_structure_prob  \\\nid                                                              \nS0_M_T1     .(.((((((((.,,,{{..(|||{((|{..,{{||||,,,.}))))...   \nS0_M_T10    ........(((((,.,..(((((......))))}...{({({..({...   \nS0_M_T100   ....((((((.((((..((((.,({(....})).,))))..)}}),...   \nS0_M_T1000  ...,((((((((.,.({........}}..,,))))))).,|((,,....   \nS0_M_T1001  ....{.(((((((((({(((.{......((.((((((((,.{.......   \n...                                                       ...   \nS3_H_T9995  ,{(((((((.,(({{((((.....}}}}......(((............   \nS3_H_T9996  ((((((((((((((..(((..,.....}}.)})..))))))).......   \nS3_H_T9997  ,((,((((((((({...,,,,({..............,,)}....)...   \nS3_H_T9998  ((((..(((.....))).))))..((((..(((((((((,((.(((...   \nS3_H_T9999  ..(((({({.,((((((...((((.({(.......((((((....{...   \n\n            log2_deg_rate_a_plus  log2_x0_a_plus  onset_time_a_plus  \\\nid                                                                    \nS0_M_T1                      NaN             NaN                NaN   \nS0_M_T10                 -2.7469          2.7887                1.0   \nS0_M_T100                    NaN             NaN                NaN   \nS0_M_T1000                   NaN             NaN                NaN   \nS0_M_T1001                   NaN             NaN                NaN   \n...                          ...             ...                ...   \nS3_H_T9995                   NaN             NaN                NaN   \nS3_H_T9996               -2.5808          3.4966                1.0   \nS3_H_T9997                   NaN             NaN                NaN   \nS3_H_T9998                   NaN             NaN                NaN   \nS3_H_T9999                   NaN             NaN                NaN   \n\n            log2_deg_rate_a_minus  log2_x0_a_minus  onset_time_a_minus  \nid                                                                      \nS0_M_T1                       NaN              NaN                 NaN  \nS0_M_T10                  -2.1721           2.5964                 1.0  \nS0_M_T100                     NaN              NaN                 NaN  \nS0_M_T1000                    NaN              NaN                 NaN  \nS0_M_T1001                    NaN              NaN                 NaN  \n...                           ...              ...                 ...  \nS3_H_T9995                    NaN              NaN                 NaN  \nS3_H_T9996                -2.3105           3.3307                 1.0  \nS3_H_T9997                    NaN              NaN                 NaN  \nS3_H_T9998                    NaN              NaN                 NaN  \nS3_H_T9999                    NaN              NaN                 NaN  \n\n[90000 rows x 10 columns]",
      "text/html": "<div>\n<style scoped>\n    .dataframe tbody tr th:only-of-type {\n        vertical-align: middle;\n    }\n\n    .dataframe tbody tr th {\n        vertical-align: top;\n    }\n\n    .dataframe thead th {\n        text-align: right;\n    }\n</style>\n<table border=\"1\" class=\"dataframe\">\n  <thead>\n    <tr style=\"text-align: right;\">\n      <th></th>\n      <th>sequence</th>\n      <th>secondary_structure</th>\n      <th>free_energy</th>\n      <th>secondary_structure_prob</th>\n      <th>log2_deg_rate_a_plus</th>\n      <th>log2_x0_a_plus</th>\n      <th>onset_time_a_plus</th>\n      <th>log2_deg_rate_a_minus</th>\n      <th>log2_x0_a_minus</th>\n      <th>onset_time_a_minus</th>\n    </tr>\n    <tr>\n      <th>id</th>\n      <th></th>\n      <th></th>\n      <th></th>\n      <th></th>\n      <th></th>\n      <th></th>\n      <th></th>\n      <th></th>\n      <th></th>\n      <th></th>\n    </tr>\n  </thead>\n  <tbody>\n    <tr>\n      <th>S0_M_T1</th>\n      <td>TGTCCCCGGGTCTTCCAACGGACTGGCGTTGCCCCGGTTCACTGGG...</td>\n      <td>.(.((((((((....(((((......)))))((((((....)))))...</td>\n      <td>-45.92</td>\n      <td>.(.((((((((.,,,{{..(|||{((|{..,{{||||,,,.}))))...</td>\n      <td>NaN</td>\n      <td>NaN</td>\n      <td>NaN</td>\n      <td>NaN</td>\n      <td>NaN</td>\n      <td>NaN</td>\n    </tr>\n    <tr>\n      <th>S0_M_T10</th>\n      <td>AGATTTTTGGTTCAATATGCTCCTTGAGTGGAGTCTTAGTGATTGC...</td>\n      <td>........(((((.....(((((......)))))...(((((..((...</td>\n      <td>-31.17</td>\n      <td>........(((((,.,..(((((......))))}...{({({..({...</td>\n      <td>-2.7469</td>\n      <td>2.7887</td>\n      <td>1.0</td>\n      <td>-2.1721</td>\n      <td>2.5964</td>\n      <td>1.0</td>\n    </tr>\n    <tr>\n      <th>S0_M_T100</th>\n      <td>ACCCGGCGCCGCTCGACCCGGAGCGAGGAGTTGACCCGGAGCGAGG...</td>\n      <td>....((((((.((((..((((..(((....)))..))))..))))....</td>\n      <td>-41.95</td>\n      <td>....((((((.((((..((((.,({(....})).,))))..)}}),...</td>\n      <td>NaN</td>\n      <td>NaN</td>\n      <td>NaN</td>\n      <td>NaN</td>\n      <td>NaN</td>\n      <td>NaN</td>\n    </tr>\n    <tr>\n      <th>S0_M_T1000</th>\n      <td>ATGAGGGCTGGAATTTGCATTGAAACACTGGTCCAGTCGCTGTGTA...</td>\n      <td>.....(((((((...((........))....)))))))..(((......</td>\n      <td>-23.18</td>\n      <td>...,((((((((.,.({........}}..,,))))))).,|((,,....</td>\n      <td>NaN</td>\n      <td>NaN</td>\n      <td>NaN</td>\n      <td>NaN</td>\n      <td>NaN</td>\n      <td>NaN</td>\n    </tr>\n    <tr>\n      <th>S0_M_T1001</th>\n      <td>CCTTAGTGCCCTTAAAATAATGATTTAAGCATTTTACTGTATGTAT...</td>\n      <td>....(.((((((((((.(((.(......((.(((((((((.(.......</td>\n      <td>-30.84</td>\n      <td>....{.(((((((((({(((.{......((.((((((((,.{.......</td>\n      <td>NaN</td>\n      <td>NaN</td>\n      <td>NaN</td>\n      <td>NaN</td>\n      <td>NaN</td>\n      <td>NaN</td>\n    </tr>\n    <tr>\n      <th>...</th>\n      <td>...</td>\n      <td>...</td>\n      <td>...</td>\n      <td>...</td>\n      <td>...</td>\n      <td>...</td>\n      <td>...</td>\n      <td>...</td>\n      <td>...</td>\n      <td>...</td>\n    </tr>\n    <tr>\n      <th>S3_H_T9995</th>\n      <td>TTGTAGCTGTCAATTGTATTTAATATACTTTTTTGTCTTTTTAATT...</td>\n      <td>((((..(((.((((((.((((((...........(((............</td>\n      <td>-18.50</td>\n      <td>,{(((((((.,(({{((((.....}}}}......(((............</td>\n      <td>NaN</td>\n      <td>NaN</td>\n      <td>NaN</td>\n      <td>NaN</td>\n      <td>NaN</td>\n      <td>NaN</td>\n    </tr>\n    <tr>\n      <th>S3_H_T9996</th>\n      <td>AAAACACCACTACATATGTTTCTCATAAGCGCAACTGTAGTGTTAT...</td>\n      <td>((((((((((((((..(((..((....)).)))..))))))).......</td>\n      <td>-19.40</td>\n      <td>((((((((((((((..(((..,.....}}.)})..))))))).......</td>\n      <td>-2.5808</td>\n      <td>3.4966</td>\n      <td>1.0</td>\n      <td>-2.3105</td>\n      <td>3.3307</td>\n      <td>1.0</td>\n    </tr>\n    <tr>\n      <th>S3_H_T9997</th>\n      <td>AGGATTTTTTTTTTCACCAATGCTCTTTAATACACACTTGCCTATA...</td>\n      <td>.(((..((((((((.......((................))........</td>\n      <td>-20.95</td>\n      <td>,((,((((((((({...,,,,({..............,,)}....)...</td>\n      <td>NaN</td>\n      <td>NaN</td>\n      <td>NaN</td>\n      <td>NaN</td>\n      <td>NaN</td>\n      <td>NaN</td>\n    </tr>\n    <tr>\n      <th>S3_H_T9998</th>\n      <td>GGTGCTTCAAAGAGTGATTACCCACTAACTAATGAACCCAGACTGT...</td>\n      <td>((((..(((.....))).))))..((((..((((((((((((.(((...</td>\n      <td>-28.53</td>\n      <td>((((..(((.....))).))))..((((..(((((((((,((.(((...</td>\n      <td>NaN</td>\n      <td>NaN</td>\n      <td>NaN</td>\n      <td>NaN</td>\n      <td>NaN</td>\n      <td>NaN</td>\n    </tr>\n    <tr>\n      <th>S3_H_T9999</th>\n      <td>CTGCAACCATAACTCTAATTGTAGATGTGAAGAAGATTAATGACAG...</td>\n      <td>..(((((((..((((((...((((.(((.......((((((....(...</td>\n      <td>-20.03</td>\n      <td>..(((({({.,((((((...((((.({(.......((((((....{...</td>\n      <td>NaN</td>\n      <td>NaN</td>\n      <td>NaN</td>\n      <td>NaN</td>\n      <td>NaN</td>\n      <td>NaN</td>\n    </tr>\n  </tbody>\n</table>\n<p>90000 rows × 10 columns</p>\n</div>"
     },
     "execution_count": 8,
     "metadata": {},
     "output_type": "execute_result"
    }
   ],
   "source": [
    "# Add degradation rates to the main DataFrame\n",
    "\n",
    "df = df.join([deg_rate_a_plus, deg_rate_a_minus])\n",
    "df"
   ]
  },
  {
   "cell_type": "code",
   "execution_count": 9,
   "metadata": {},
   "outputs": [
    {
     "data": {
      "text/plain": "                                                     sequence  \\\nid                                                              \nS0_M_T10    AGATTTTTGGTTCAATATGCTCCTTGAGTGGAGTCTTAGTGATTGC...   \nS0_M_T1006  TAGATAGAGATCATCTTTACAGTTCCTCGGGAAAATGTGCTTGTGA...   \nS0_M_T1009  TAGTTATTGTGTGTTGCTAATCATTGACTGTAGTCCCAGTCTGGGA...   \nS0_M_T1013  TGATTCTAGTATATAATATTTTTGTCACGCACCTGCTGACTTAGGA...   \nS0_M_T1014  TTCTAGACTTTCCAAGTATGTTGTCTTTCCAATGGTGCGACAGAGC...   \n...                                                       ...   \nS3_H_T9985  GTCCTTATTTACATGTTTCATTGAGCCCTTTTTGATGTGATTCTTG...   \nS3_H_T9987  TCAATGGTTACAGGTTTCAAACATTCTTCAAAATATCTTCTTTTTG...   \nS3_H_T9989  TGAAAGCACAGAGGGGCTGAGATTCTAAGGGCACTTCATGTTTTTT...   \nS3_H_T9990  AATTAAAGAGAGAGAGAGACGGAGAACACGGTGGGTTTACTAGCGC...   \nS3_H_T9996  AAAACACCACTACATATGTTTCTCATAAGCGCAACTGTAGTGTTAT...   \n\n                                          secondary_structure  free_energy  \\\nid                                                                           \nS0_M_T10    ........(((((.....(((((......)))))...(((((..((...       -31.17   \nS0_M_T1006  ...(((((((((((...((((.((((...))))..))))...))))...       -26.55   \nS0_M_T1009  .....(((((((((((.(((.((..(((((.(((..((((((((((...       -33.05   \nS0_M_T1013  .......................((((.((....))))))...((....       -20.70   \nS0_M_T1014  .............(((..(((((((((......(((((......))...       -22.82   \n...                                                       ...          ...   \nS3_H_T9985  .............((((..(((((.........(((((((.((((....       -18.22   \nS3_H_T9987  (((((((((((((((((.......((..(((((........)))))...       -30.56   \nS3_H_T9989  .(((((((..((((.(((...........))).)))).)))))))....       -24.03   \nS3_H_T9990  .........((.(((((((((.((....((.(((.....))).)))...       -27.22   \nS3_H_T9996  ((((((((((((((..(((..((....)).)))..))))))).......       -19.40   \n\n                                     secondary_structure_prob  \\\nid                                                              \nS0_M_T10    ........(((((,.,..(((((......))))}...{({({..({...   \nS0_M_T1006  .,,({(((({((((...((((.((((...))))..))))...))))...   \nS0_M_T1009  ...,,(((((((((((.{((.{(..(((((.(((..((((((((((...   \nS0_M_T1013  .......,{,,............((((.((....))))))..,((....   \nS0_M_T1014  ......,,,,...|||,.,(((((,,{{((.{((((((......))...   \n...                                                       ...   \nS3_H_T9985  ,....,,,,...,((((,.((({{.........(((((((.((((....   \nS3_H_T9987  (((((((((((((((((.......{{..(((((........)))))...   \nS3_H_T9989  .((((({(.,((((,(((.,,...,....))).)))).))))))),...   \nS3_H_T9990  .........{(.(((((((((.,{....((.(((.....))).)),...   \nS3_H_T9996  ((((((((((((((..(((..,.....}}.)})..))))))).......   \n\n            log2_deg_rate_a_plus  log2_x0_a_plus  onset_time_a_plus  \\\nid                                                                    \nS0_M_T10               -2.746900          2.7887                1.0   \nS0_M_T1006             -2.495200          3.5146                1.0   \nS0_M_T1009             -2.550700          2.7105                1.0   \nS0_M_T1013             -2.327900          3.7761                1.0   \nS0_M_T1014             -1.623200          1.6160                4.8   \n...                          ...             ...                ...   \nS3_H_T9985             -2.027200          2.6826                1.0   \nS3_H_T9987             -2.589200          2.7555                1.0   \nS3_H_T9989              0.023414          1.2948                4.5   \nS3_H_T9990             -2.463100          1.5812                1.0   \nS3_H_T9996             -2.580800          3.4966                1.0   \n\n            log2_deg_rate_a_minus  log2_x0_a_minus  onset_time_a_minus  \nid                                                                      \nS0_M_T10                 -2.17210           2.5964                 1.0  \nS0_M_T1006               -1.94970           3.1963                 1.0  \nS0_M_T1009               -1.51500           2.8747                 1.0  \nS0_M_T1013               -1.89040           3.2967                 1.0  \nS0_M_T1014               -2.09580           2.1356                 1.0  \n...                           ...              ...                 ...  \nS3_H_T9985               -1.59040           2.5908                 1.0  \nS3_H_T9987               -2.05310           2.5282                 1.0  \nS3_H_T9989               -0.75861           1.4902                 3.0  \nS3_H_T9990               -2.71790           1.2301                 1.0  \nS3_H_T9996               -2.31050           3.3307                 1.0  \n\n[31318 rows x 10 columns]",
      "text/html": "<div>\n<style scoped>\n    .dataframe tbody tr th:only-of-type {\n        vertical-align: middle;\n    }\n\n    .dataframe tbody tr th {\n        vertical-align: top;\n    }\n\n    .dataframe thead th {\n        text-align: right;\n    }\n</style>\n<table border=\"1\" class=\"dataframe\">\n  <thead>\n    <tr style=\"text-align: right;\">\n      <th></th>\n      <th>sequence</th>\n      <th>secondary_structure</th>\n      <th>free_energy</th>\n      <th>secondary_structure_prob</th>\n      <th>log2_deg_rate_a_plus</th>\n      <th>log2_x0_a_plus</th>\n      <th>onset_time_a_plus</th>\n      <th>log2_deg_rate_a_minus</th>\n      <th>log2_x0_a_minus</th>\n      <th>onset_time_a_minus</th>\n    </tr>\n    <tr>\n      <th>id</th>\n      <th></th>\n      <th></th>\n      <th></th>\n      <th></th>\n      <th></th>\n      <th></th>\n      <th></th>\n      <th></th>\n      <th></th>\n      <th></th>\n    </tr>\n  </thead>\n  <tbody>\n    <tr>\n      <th>S0_M_T10</th>\n      <td>AGATTTTTGGTTCAATATGCTCCTTGAGTGGAGTCTTAGTGATTGC...</td>\n      <td>........(((((.....(((((......)))))...(((((..((...</td>\n      <td>-31.17</td>\n      <td>........(((((,.,..(((((......))))}...{({({..({...</td>\n      <td>-2.746900</td>\n      <td>2.7887</td>\n      <td>1.0</td>\n      <td>-2.17210</td>\n      <td>2.5964</td>\n      <td>1.0</td>\n    </tr>\n    <tr>\n      <th>S0_M_T1006</th>\n      <td>TAGATAGAGATCATCTTTACAGTTCCTCGGGAAAATGTGCTTGTGA...</td>\n      <td>...(((((((((((...((((.((((...))))..))))...))))...</td>\n      <td>-26.55</td>\n      <td>.,,({(((({((((...((((.((((...))))..))))...))))...</td>\n      <td>-2.495200</td>\n      <td>3.5146</td>\n      <td>1.0</td>\n      <td>-1.94970</td>\n      <td>3.1963</td>\n      <td>1.0</td>\n    </tr>\n    <tr>\n      <th>S0_M_T1009</th>\n      <td>TAGTTATTGTGTGTTGCTAATCATTGACTGTAGTCCCAGTCTGGGA...</td>\n      <td>.....(((((((((((.(((.((..(((((.(((..((((((((((...</td>\n      <td>-33.05</td>\n      <td>...,,(((((((((((.{((.{(..(((((.(((..((((((((((...</td>\n      <td>-2.550700</td>\n      <td>2.7105</td>\n      <td>1.0</td>\n      <td>-1.51500</td>\n      <td>2.8747</td>\n      <td>1.0</td>\n    </tr>\n    <tr>\n      <th>S0_M_T1013</th>\n      <td>TGATTCTAGTATATAATATTTTTGTCACGCACCTGCTGACTTAGGA...</td>\n      <td>.......................((((.((....))))))...((....</td>\n      <td>-20.70</td>\n      <td>.......,{,,............((((.((....))))))..,((....</td>\n      <td>-2.327900</td>\n      <td>3.7761</td>\n      <td>1.0</td>\n      <td>-1.89040</td>\n      <td>3.2967</td>\n      <td>1.0</td>\n    </tr>\n    <tr>\n      <th>S0_M_T1014</th>\n      <td>TTCTAGACTTTCCAAGTATGTTGTCTTTCCAATGGTGCGACAGAGC...</td>\n      <td>.............(((..(((((((((......(((((......))...</td>\n      <td>-22.82</td>\n      <td>......,,,,...|||,.,(((((,,{{((.{((((((......))...</td>\n      <td>-1.623200</td>\n      <td>1.6160</td>\n      <td>4.8</td>\n      <td>-2.09580</td>\n      <td>2.1356</td>\n      <td>1.0</td>\n    </tr>\n    <tr>\n      <th>...</th>\n      <td>...</td>\n      <td>...</td>\n      <td>...</td>\n      <td>...</td>\n      <td>...</td>\n      <td>...</td>\n      <td>...</td>\n      <td>...</td>\n      <td>...</td>\n      <td>...</td>\n    </tr>\n    <tr>\n      <th>S3_H_T9985</th>\n      <td>GTCCTTATTTACATGTTTCATTGAGCCCTTTTTGATGTGATTCTTG...</td>\n      <td>.............((((..(((((.........(((((((.((((....</td>\n      <td>-18.22</td>\n      <td>,....,,,,...,((((,.((({{.........(((((((.((((....</td>\n      <td>-2.027200</td>\n      <td>2.6826</td>\n      <td>1.0</td>\n      <td>-1.59040</td>\n      <td>2.5908</td>\n      <td>1.0</td>\n    </tr>\n    <tr>\n      <th>S3_H_T9987</th>\n      <td>TCAATGGTTACAGGTTTCAAACATTCTTCAAAATATCTTCTTTTTG...</td>\n      <td>(((((((((((((((((.......((..(((((........)))))...</td>\n      <td>-30.56</td>\n      <td>(((((((((((((((((.......{{..(((((........)))))...</td>\n      <td>-2.589200</td>\n      <td>2.7555</td>\n      <td>1.0</td>\n      <td>-2.05310</td>\n      <td>2.5282</td>\n      <td>1.0</td>\n    </tr>\n    <tr>\n      <th>S3_H_T9989</th>\n      <td>TGAAAGCACAGAGGGGCTGAGATTCTAAGGGCACTTCATGTTTTTT...</td>\n      <td>.(((((((..((((.(((...........))).)))).)))))))....</td>\n      <td>-24.03</td>\n      <td>.((((({(.,((((,(((.,,...,....))).)))).))))))),...</td>\n      <td>0.023414</td>\n      <td>1.2948</td>\n      <td>4.5</td>\n      <td>-0.75861</td>\n      <td>1.4902</td>\n      <td>3.0</td>\n    </tr>\n    <tr>\n      <th>S3_H_T9990</th>\n      <td>AATTAAAGAGAGAGAGAGACGGAGAACACGGTGGGTTTACTAGCGC...</td>\n      <td>.........((.(((((((((.((....((.(((.....))).)))...</td>\n      <td>-27.22</td>\n      <td>.........{(.(((((((((.,{....((.(((.....))).)),...</td>\n      <td>-2.463100</td>\n      <td>1.5812</td>\n      <td>1.0</td>\n      <td>-2.71790</td>\n      <td>1.2301</td>\n      <td>1.0</td>\n    </tr>\n    <tr>\n      <th>S3_H_T9996</th>\n      <td>AAAACACCACTACATATGTTTCTCATAAGCGCAACTGTAGTGTTAT...</td>\n      <td>((((((((((((((..(((..((....)).)))..))))))).......</td>\n      <td>-19.40</td>\n      <td>((((((((((((((..(((..,.....}}.)})..))))))).......</td>\n      <td>-2.580800</td>\n      <td>3.4966</td>\n      <td>1.0</td>\n      <td>-2.31050</td>\n      <td>3.3307</td>\n      <td>1.0</td>\n    </tr>\n  </tbody>\n</table>\n<p>31318 rows × 10 columns</p>\n</div>"
     },
     "execution_count": 9,
     "metadata": {},
     "output_type": "execute_result"
    }
   ],
   "source": [
    "df.dropna(inplace=True)\n",
    "df"
   ]
  },
  {
   "cell_type": "code",
   "execution_count": 10,
   "outputs": [],
   "source": [
    "# One-hot encode the sequences\n",
    "\n",
    "sequences = df[\"sequence\"].str.split(\"\", expand=True)\n",
    "sequences.drop(columns=[sequences.columns[0], sequences.columns[-1]], inplace=True)\n",
    "sequences = sequences.add_prefix(\"sequence_\")\n",
    "sequences = pd.get_dummies(sequences, sparse=True)"
   ],
   "metadata": {
    "collapsed": false,
    "pycharm": {
     "name": "#%%\n"
    }
   }
  },
  {
   "cell_type": "code",
   "execution_count": 11,
   "outputs": [
    {
     "data": {
      "text/plain": "            sequence_1_A  sequence_1_C  sequence_1_G  sequence_1_T  \\\nid                                                                   \nS0_M_T10               1             0             0             0   \nS0_M_T1006             0             0             0             1   \nS0_M_T1009             0             0             0             1   \nS0_M_T1013             0             0             0             1   \nS0_M_T1014             0             0             0             1   \n...                  ...           ...           ...           ...   \nS3_H_T9985             0             0             1             0   \nS3_H_T9987             0             0             0             1   \nS3_H_T9989             0             0             0             1   \nS3_H_T9990             1             0             0             0   \nS3_H_T9996             1             0             0             0   \n\n            sequence_2_A  sequence_2_C  sequence_2_G  sequence_2_T  \\\nid                                                                   \nS0_M_T10               0             0             1             0   \nS0_M_T1006             1             0             0             0   \nS0_M_T1009             1             0             0             0   \nS0_M_T1013             0             0             1             0   \nS0_M_T1014             0             0             0             1   \n...                  ...           ...           ...           ...   \nS3_H_T9985             0             0             0             1   \nS3_H_T9987             0             1             0             0   \nS3_H_T9989             0             0             1             0   \nS3_H_T9990             1             0             0             0   \nS3_H_T9996             1             0             0             0   \n\n            sequence_3_A  sequence_3_C  ...  sequence_110_T  \\\nid                                      ...                   \nS0_M_T10               1             0  ...               1   \nS0_M_T1006             0             0  ...               1   \nS0_M_T1009             0             0  ...               1   \nS0_M_T1013             1             0  ...               1   \nS0_M_T1014             0             1  ...               0   \n...                  ...           ...  ...             ...   \nS3_H_T9985             0             1  ...               0   \nS3_H_T9987             1             0  ...               0   \nS3_H_T9989             1             0  ...               0   \nS3_H_T9990             0             0  ...               0   \nS3_H_T9996             1             0  ...               0   \n\n                                          secondary_structure  free_energy  \\\nid                                                                           \nS0_M_T10    ........(((((.....(((((......)))))...(((((..((...       -31.17   \nS0_M_T1006  ...(((((((((((...((((.((((...))))..))))...))))...       -26.55   \nS0_M_T1009  .....(((((((((((.(((.((..(((((.(((..((((((((((...       -33.05   \nS0_M_T1013  .......................((((.((....))))))...((....       -20.70   \nS0_M_T1014  .............(((..(((((((((......(((((......))...       -22.82   \n...                                                       ...          ...   \nS3_H_T9985  .............((((..(((((.........(((((((.((((....       -18.22   \nS3_H_T9987  (((((((((((((((((.......((..(((((........)))))...       -30.56   \nS3_H_T9989  .(((((((..((((.(((...........))).)))).)))))))....       -24.03   \nS3_H_T9990  .........((.(((((((((.((....((.(((.....))).)))...       -27.22   \nS3_H_T9996  ((((((((((((((..(((..((....)).)))..))))))).......       -19.40   \n\n                                     secondary_structure_prob  \\\nid                                                              \nS0_M_T10    ........(((((,.,..(((((......))))}...{({({..({...   \nS0_M_T1006  .,,({(((({((((...((((.((((...))))..))))...))))...   \nS0_M_T1009  ...,,(((((((((((.{((.{(..(((((.(((..((((((((((...   \nS0_M_T1013  .......,{,,............((((.((....))))))..,((....   \nS0_M_T1014  ......,,,,...|||,.,(((((,,{{((.{((((((......))...   \n...                                                       ...   \nS3_H_T9985  ,....,,,,...,((((,.((({{.........(((((((.((((....   \nS3_H_T9987  (((((((((((((((((.......{{..(((((........)))))...   \nS3_H_T9989  .((((({(.,((((,(((.,,...,....))).)))).))))))),...   \nS3_H_T9990  .........{(.(((((((((.,{....((.(((.....))).)),...   \nS3_H_T9996  ((((((((((((((..(((..,.....}}.)})..))))))).......   \n\n            log2_deg_rate_a_plus  log2_x0_a_plus  onset_time_a_plus  \\\nid                                                                    \nS0_M_T10               -2.746900          2.7887                1.0   \nS0_M_T1006             -2.495200          3.5146                1.0   \nS0_M_T1009             -2.550700          2.7105                1.0   \nS0_M_T1013             -2.327900          3.7761                1.0   \nS0_M_T1014             -1.623200          1.6160                4.8   \n...                          ...             ...                ...   \nS3_H_T9985             -2.027200          2.6826                1.0   \nS3_H_T9987             -2.589200          2.7555                1.0   \nS3_H_T9989              0.023414          1.2948                4.5   \nS3_H_T9990             -2.463100          1.5812                1.0   \nS3_H_T9996             -2.580800          3.4966                1.0   \n\n            log2_deg_rate_a_minus  log2_x0_a_minus  onset_time_a_minus  \nid                                                                      \nS0_M_T10                 -2.17210           2.5964                 1.0  \nS0_M_T1006               -1.94970           3.1963                 1.0  \nS0_M_T1009               -1.51500           2.8747                 1.0  \nS0_M_T1013               -1.89040           3.2967                 1.0  \nS0_M_T1014               -2.09580           2.1356                 1.0  \n...                           ...              ...                 ...  \nS3_H_T9985               -1.59040           2.5908                 1.0  \nS3_H_T9987               -2.05310           2.5282                 1.0  \nS3_H_T9989               -0.75861           1.4902                 3.0  \nS3_H_T9990               -2.71790           1.2301                 1.0  \nS3_H_T9996               -2.31050           3.3307                 1.0  \n\n[31318 rows x 449 columns]",
      "text/html": "<div>\n<style scoped>\n    .dataframe tbody tr th:only-of-type {\n        vertical-align: middle;\n    }\n\n    .dataframe tbody tr th {\n        vertical-align: top;\n    }\n\n    .dataframe thead th {\n        text-align: right;\n    }\n</style>\n<table border=\"1\" class=\"dataframe\">\n  <thead>\n    <tr style=\"text-align: right;\">\n      <th></th>\n      <th>sequence_1_A</th>\n      <th>sequence_1_C</th>\n      <th>sequence_1_G</th>\n      <th>sequence_1_T</th>\n      <th>sequence_2_A</th>\n      <th>sequence_2_C</th>\n      <th>sequence_2_G</th>\n      <th>sequence_2_T</th>\n      <th>sequence_3_A</th>\n      <th>sequence_3_C</th>\n      <th>...</th>\n      <th>sequence_110_T</th>\n      <th>secondary_structure</th>\n      <th>free_energy</th>\n      <th>secondary_structure_prob</th>\n      <th>log2_deg_rate_a_plus</th>\n      <th>log2_x0_a_plus</th>\n      <th>onset_time_a_plus</th>\n      <th>log2_deg_rate_a_minus</th>\n      <th>log2_x0_a_minus</th>\n      <th>onset_time_a_minus</th>\n    </tr>\n    <tr>\n      <th>id</th>\n      <th></th>\n      <th></th>\n      <th></th>\n      <th></th>\n      <th></th>\n      <th></th>\n      <th></th>\n      <th></th>\n      <th></th>\n      <th></th>\n      <th></th>\n      <th></th>\n      <th></th>\n      <th></th>\n      <th></th>\n      <th></th>\n      <th></th>\n      <th></th>\n      <th></th>\n      <th></th>\n      <th></th>\n    </tr>\n  </thead>\n  <tbody>\n    <tr>\n      <th>S0_M_T10</th>\n      <td>1</td>\n      <td>0</td>\n      <td>0</td>\n      <td>0</td>\n      <td>0</td>\n      <td>0</td>\n      <td>1</td>\n      <td>0</td>\n      <td>1</td>\n      <td>0</td>\n      <td>...</td>\n      <td>1</td>\n      <td>........(((((.....(((((......)))))...(((((..((...</td>\n      <td>-31.17</td>\n      <td>........(((((,.,..(((((......))))}...{({({..({...</td>\n      <td>-2.746900</td>\n      <td>2.7887</td>\n      <td>1.0</td>\n      <td>-2.17210</td>\n      <td>2.5964</td>\n      <td>1.0</td>\n    </tr>\n    <tr>\n      <th>S0_M_T1006</th>\n      <td>0</td>\n      <td>0</td>\n      <td>0</td>\n      <td>1</td>\n      <td>1</td>\n      <td>0</td>\n      <td>0</td>\n      <td>0</td>\n      <td>0</td>\n      <td>0</td>\n      <td>...</td>\n      <td>1</td>\n      <td>...(((((((((((...((((.((((...))))..))))...))))...</td>\n      <td>-26.55</td>\n      <td>.,,({(((({((((...((((.((((...))))..))))...))))...</td>\n      <td>-2.495200</td>\n      <td>3.5146</td>\n      <td>1.0</td>\n      <td>-1.94970</td>\n      <td>3.1963</td>\n      <td>1.0</td>\n    </tr>\n    <tr>\n      <th>S0_M_T1009</th>\n      <td>0</td>\n      <td>0</td>\n      <td>0</td>\n      <td>1</td>\n      <td>1</td>\n      <td>0</td>\n      <td>0</td>\n      <td>0</td>\n      <td>0</td>\n      <td>0</td>\n      <td>...</td>\n      <td>1</td>\n      <td>.....(((((((((((.(((.((..(((((.(((..((((((((((...</td>\n      <td>-33.05</td>\n      <td>...,,(((((((((((.{((.{(..(((((.(((..((((((((((...</td>\n      <td>-2.550700</td>\n      <td>2.7105</td>\n      <td>1.0</td>\n      <td>-1.51500</td>\n      <td>2.8747</td>\n      <td>1.0</td>\n    </tr>\n    <tr>\n      <th>S0_M_T1013</th>\n      <td>0</td>\n      <td>0</td>\n      <td>0</td>\n      <td>1</td>\n      <td>0</td>\n      <td>0</td>\n      <td>1</td>\n      <td>0</td>\n      <td>1</td>\n      <td>0</td>\n      <td>...</td>\n      <td>1</td>\n      <td>.......................((((.((....))))))...((....</td>\n      <td>-20.70</td>\n      <td>.......,{,,............((((.((....))))))..,((....</td>\n      <td>-2.327900</td>\n      <td>3.7761</td>\n      <td>1.0</td>\n      <td>-1.89040</td>\n      <td>3.2967</td>\n      <td>1.0</td>\n    </tr>\n    <tr>\n      <th>S0_M_T1014</th>\n      <td>0</td>\n      <td>0</td>\n      <td>0</td>\n      <td>1</td>\n      <td>0</td>\n      <td>0</td>\n      <td>0</td>\n      <td>1</td>\n      <td>0</td>\n      <td>1</td>\n      <td>...</td>\n      <td>0</td>\n      <td>.............(((..(((((((((......(((((......))...</td>\n      <td>-22.82</td>\n      <td>......,,,,...|||,.,(((((,,{{((.{((((((......))...</td>\n      <td>-1.623200</td>\n      <td>1.6160</td>\n      <td>4.8</td>\n      <td>-2.09580</td>\n      <td>2.1356</td>\n      <td>1.0</td>\n    </tr>\n    <tr>\n      <th>...</th>\n      <td>...</td>\n      <td>...</td>\n      <td>...</td>\n      <td>...</td>\n      <td>...</td>\n      <td>...</td>\n      <td>...</td>\n      <td>...</td>\n      <td>...</td>\n      <td>...</td>\n      <td>...</td>\n      <td>...</td>\n      <td>...</td>\n      <td>...</td>\n      <td>...</td>\n      <td>...</td>\n      <td>...</td>\n      <td>...</td>\n      <td>...</td>\n      <td>...</td>\n      <td>...</td>\n    </tr>\n    <tr>\n      <th>S3_H_T9985</th>\n      <td>0</td>\n      <td>0</td>\n      <td>1</td>\n      <td>0</td>\n      <td>0</td>\n      <td>0</td>\n      <td>0</td>\n      <td>1</td>\n      <td>0</td>\n      <td>1</td>\n      <td>...</td>\n      <td>0</td>\n      <td>.............((((..(((((.........(((((((.((((....</td>\n      <td>-18.22</td>\n      <td>,....,,,,...,((((,.((({{.........(((((((.((((....</td>\n      <td>-2.027200</td>\n      <td>2.6826</td>\n      <td>1.0</td>\n      <td>-1.59040</td>\n      <td>2.5908</td>\n      <td>1.0</td>\n    </tr>\n    <tr>\n      <th>S3_H_T9987</th>\n      <td>0</td>\n      <td>0</td>\n      <td>0</td>\n      <td>1</td>\n      <td>0</td>\n      <td>1</td>\n      <td>0</td>\n      <td>0</td>\n      <td>1</td>\n      <td>0</td>\n      <td>...</td>\n      <td>0</td>\n      <td>(((((((((((((((((.......((..(((((........)))))...</td>\n      <td>-30.56</td>\n      <td>(((((((((((((((((.......{{..(((((........)))))...</td>\n      <td>-2.589200</td>\n      <td>2.7555</td>\n      <td>1.0</td>\n      <td>-2.05310</td>\n      <td>2.5282</td>\n      <td>1.0</td>\n    </tr>\n    <tr>\n      <th>S3_H_T9989</th>\n      <td>0</td>\n      <td>0</td>\n      <td>0</td>\n      <td>1</td>\n      <td>0</td>\n      <td>0</td>\n      <td>1</td>\n      <td>0</td>\n      <td>1</td>\n      <td>0</td>\n      <td>...</td>\n      <td>0</td>\n      <td>.(((((((..((((.(((...........))).)))).)))))))....</td>\n      <td>-24.03</td>\n      <td>.((((({(.,((((,(((.,,...,....))).)))).))))))),...</td>\n      <td>0.023414</td>\n      <td>1.2948</td>\n      <td>4.5</td>\n      <td>-0.75861</td>\n      <td>1.4902</td>\n      <td>3.0</td>\n    </tr>\n    <tr>\n      <th>S3_H_T9990</th>\n      <td>1</td>\n      <td>0</td>\n      <td>0</td>\n      <td>0</td>\n      <td>1</td>\n      <td>0</td>\n      <td>0</td>\n      <td>0</td>\n      <td>0</td>\n      <td>0</td>\n      <td>...</td>\n      <td>0</td>\n      <td>.........((.(((((((((.((....((.(((.....))).)))...</td>\n      <td>-27.22</td>\n      <td>.........{(.(((((((((.,{....((.(((.....))).)),...</td>\n      <td>-2.463100</td>\n      <td>1.5812</td>\n      <td>1.0</td>\n      <td>-2.71790</td>\n      <td>1.2301</td>\n      <td>1.0</td>\n    </tr>\n    <tr>\n      <th>S3_H_T9996</th>\n      <td>1</td>\n      <td>0</td>\n      <td>0</td>\n      <td>0</td>\n      <td>1</td>\n      <td>0</td>\n      <td>0</td>\n      <td>0</td>\n      <td>1</td>\n      <td>0</td>\n      <td>...</td>\n      <td>0</td>\n      <td>((((((((((((((..(((..((....)).)))..))))))).......</td>\n      <td>-19.40</td>\n      <td>((((((((((((((..(((..,.....}}.)})..))))))).......</td>\n      <td>-2.580800</td>\n      <td>3.4966</td>\n      <td>1.0</td>\n      <td>-2.31050</td>\n      <td>3.3307</td>\n      <td>1.0</td>\n    </tr>\n  </tbody>\n</table>\n<p>31318 rows × 449 columns</p>\n</div>"
     },
     "execution_count": 11,
     "metadata": {},
     "output_type": "execute_result"
    }
   ],
   "source": [
    "# Merge into main DataFrame\n",
    "\n",
    "df.drop(columns=[\"sequence\"], inplace=True)\n",
    "df = pd.concat([sequences, df], axis=\"columns\")\n",
    "df"
   ],
   "metadata": {
    "collapsed": false,
    "pycharm": {
     "name": "#%%\n"
    }
   }
  },
  {
   "cell_type": "code",
   "execution_count": 12,
   "outputs": [],
   "source": [
    "def match_parens(string: str) -> np.ndarray:\n",
    "    \"\"\"\n",
    "    Returns a matrix of matching parentheses. For each pair of indices i, j\n",
    "    in the input string, the cell (i, j) in the matrix will have a value of 1\n",
    "    iff i and j contain a matching pair of parens.\n",
    "    \"\"\"\n",
    "\n",
    "    pairs_matrix = np.zeros((len(string), len(string)), dtype=np.uint8)\n",
    "\n",
    "    stack = []\n",
    "    for index, char in enumerate(string):\n",
    "        if char == '(':\n",
    "            stack.append(index)\n",
    "        elif char == ')':\n",
    "            open_index = stack.pop()\n",
    "            pairs_matrix[open_index, index] = 1\n",
    "            pairs_matrix[index, open_index] = 1\n",
    "    assert not stack\n",
    "\n",
    "    return pairs_matrix"
   ],
   "metadata": {
    "collapsed": false,
    "pycharm": {
     "name": "#%%\n"
    }
   }
  },
  {
   "cell_type": "code",
   "execution_count": 13,
   "outputs": [],
   "source": [
    "# One-hot encode the secondary structure of each sequence\n",
    "\n",
    "all_pairs_matrices = vstack(df[\"secondary_structure\"].map(lambda struct: coo_matrix(match_parens(struct).reshape(-1))))\n",
    "secondary_structures = pd.DataFrame.sparse.from_spmatrix(all_pairs_matrices,\n",
    "                                                         index=df.index,\n",
    "                                                         columns=pd.RangeIndex(1, all_pairs_matrices.shape[1] + 1))\n",
    "secondary_structures = secondary_structures.add_prefix(\"secondary_structure_\")"
   ],
   "metadata": {
    "collapsed": false,
    "pycharm": {
     "name": "#%%\n"
    }
   }
  },
  {
   "cell_type": "code",
   "execution_count": 14,
   "outputs": [
    {
     "data": {
      "text/plain": "            sequence_1_A  sequence_1_C  sequence_1_G  sequence_1_T  \\\nid                                                                   \nS0_M_T10               1             0             0             0   \nS0_M_T1006             0             0             0             1   \nS0_M_T1009             0             0             0             1   \nS0_M_T1013             0             0             0             1   \nS0_M_T1014             0             0             0             1   \n...                  ...           ...           ...           ...   \nS3_H_T9985             0             0             1             0   \nS3_H_T9987             0             0             0             1   \nS3_H_T9989             0             0             0             1   \nS3_H_T9990             1             0             0             0   \nS3_H_T9996             1             0             0             0   \n\n            sequence_2_A  sequence_2_C  sequence_2_G  sequence_2_T  \\\nid                                                                   \nS0_M_T10               0             0             1             0   \nS0_M_T1006             1             0             0             0   \nS0_M_T1009             1             0             0             0   \nS0_M_T1013             0             0             1             0   \nS0_M_T1014             0             0             0             1   \n...                  ...           ...           ...           ...   \nS3_H_T9985             0             0             0             1   \nS3_H_T9987             0             1             0             0   \nS3_H_T9989             0             0             1             0   \nS3_H_T9990             1             0             0             0   \nS3_H_T9996             1             0             0             0   \n\n            sequence_3_A  sequence_3_C  ...  secondary_structure_12091  \\\nid                                      ...                              \nS0_M_T10               1             0  ...                          0   \nS0_M_T1006             0             0  ...                          0   \nS0_M_T1009             0             0  ...                          0   \nS0_M_T1013             1             0  ...                          0   \nS0_M_T1014             0             1  ...                          0   \n...                  ...           ...  ...                        ...   \nS3_H_T9985             0             1  ...                          0   \nS3_H_T9987             1             0  ...                          0   \nS3_H_T9989             1             0  ...                          0   \nS3_H_T9990             0             0  ...                          0   \nS3_H_T9996             1             0  ...                          0   \n\n            secondary_structure_12092  secondary_structure_12093  \\\nid                                                                 \nS0_M_T10                            0                          0   \nS0_M_T1006                          0                          0   \nS0_M_T1009                          0                          0   \nS0_M_T1013                          0                          0   \nS0_M_T1014                          0                          0   \n...                               ...                        ...   \nS3_H_T9985                          0                          0   \nS3_H_T9987                          0                          0   \nS3_H_T9989                          0                          0   \nS3_H_T9990                          0                          0   \nS3_H_T9996                          0                          0   \n\n            secondary_structure_12094  secondary_structure_12095  \\\nid                                                                 \nS0_M_T10                            0                          0   \nS0_M_T1006                          0                          0   \nS0_M_T1009                          0                          0   \nS0_M_T1013                          0                          0   \nS0_M_T1014                          0                          0   \n...                               ...                        ...   \nS3_H_T9985                          0                          0   \nS3_H_T9987                          0                          0   \nS3_H_T9989                          0                          0   \nS3_H_T9990                          0                          0   \nS3_H_T9996                          0                          0   \n\n            secondary_structure_12096  secondary_structure_12097  \\\nid                                                                 \nS0_M_T10                            0                          0   \nS0_M_T1006                          0                          0   \nS0_M_T1009                          0                          0   \nS0_M_T1013                          0                          0   \nS0_M_T1014                          0                          0   \n...                               ...                        ...   \nS3_H_T9985                          0                          0   \nS3_H_T9987                          0                          0   \nS3_H_T9989                          0                          0   \nS3_H_T9990                          0                          0   \nS3_H_T9996                          0                          0   \n\n            secondary_structure_12098  secondary_structure_12099  \\\nid                                                                 \nS0_M_T10                            0                          0   \nS0_M_T1006                          0                          0   \nS0_M_T1009                          0                          0   \nS0_M_T1013                          0                          0   \nS0_M_T1014                          0                          0   \n...                               ...                        ...   \nS3_H_T9985                          0                          0   \nS3_H_T9987                          0                          0   \nS3_H_T9989                          0                          0   \nS3_H_T9990                          0                          0   \nS3_H_T9996                          0                          0   \n\n            secondary_structure_12100  \nid                                     \nS0_M_T10                            0  \nS0_M_T1006                          0  \nS0_M_T1009                          0  \nS0_M_T1013                          0  \nS0_M_T1014                          0  \n...                               ...  \nS3_H_T9985                          0  \nS3_H_T9987                          0  \nS3_H_T9989                          0  \nS3_H_T9990                          0  \nS3_H_T9996                          0  \n\n[31318 rows x 12548 columns]",
      "text/html": "<div>\n<style scoped>\n    .dataframe tbody tr th:only-of-type {\n        vertical-align: middle;\n    }\n\n    .dataframe tbody tr th {\n        vertical-align: top;\n    }\n\n    .dataframe thead th {\n        text-align: right;\n    }\n</style>\n<table border=\"1\" class=\"dataframe\">\n  <thead>\n    <tr style=\"text-align: right;\">\n      <th></th>\n      <th>sequence_1_A</th>\n      <th>sequence_1_C</th>\n      <th>sequence_1_G</th>\n      <th>sequence_1_T</th>\n      <th>sequence_2_A</th>\n      <th>sequence_2_C</th>\n      <th>sequence_2_G</th>\n      <th>sequence_2_T</th>\n      <th>sequence_3_A</th>\n      <th>sequence_3_C</th>\n      <th>...</th>\n      <th>secondary_structure_12091</th>\n      <th>secondary_structure_12092</th>\n      <th>secondary_structure_12093</th>\n      <th>secondary_structure_12094</th>\n      <th>secondary_structure_12095</th>\n      <th>secondary_structure_12096</th>\n      <th>secondary_structure_12097</th>\n      <th>secondary_structure_12098</th>\n      <th>secondary_structure_12099</th>\n      <th>secondary_structure_12100</th>\n    </tr>\n    <tr>\n      <th>id</th>\n      <th></th>\n      <th></th>\n      <th></th>\n      <th></th>\n      <th></th>\n      <th></th>\n      <th></th>\n      <th></th>\n      <th></th>\n      <th></th>\n      <th></th>\n      <th></th>\n      <th></th>\n      <th></th>\n      <th></th>\n      <th></th>\n      <th></th>\n      <th></th>\n      <th></th>\n      <th></th>\n      <th></th>\n    </tr>\n  </thead>\n  <tbody>\n    <tr>\n      <th>S0_M_T10</th>\n      <td>1</td>\n      <td>0</td>\n      <td>0</td>\n      <td>0</td>\n      <td>0</td>\n      <td>0</td>\n      <td>1</td>\n      <td>0</td>\n      <td>1</td>\n      <td>0</td>\n      <td>...</td>\n      <td>0</td>\n      <td>0</td>\n      <td>0</td>\n      <td>0</td>\n      <td>0</td>\n      <td>0</td>\n      <td>0</td>\n      <td>0</td>\n      <td>0</td>\n      <td>0</td>\n    </tr>\n    <tr>\n      <th>S0_M_T1006</th>\n      <td>0</td>\n      <td>0</td>\n      <td>0</td>\n      <td>1</td>\n      <td>1</td>\n      <td>0</td>\n      <td>0</td>\n      <td>0</td>\n      <td>0</td>\n      <td>0</td>\n      <td>...</td>\n      <td>0</td>\n      <td>0</td>\n      <td>0</td>\n      <td>0</td>\n      <td>0</td>\n      <td>0</td>\n      <td>0</td>\n      <td>0</td>\n      <td>0</td>\n      <td>0</td>\n    </tr>\n    <tr>\n      <th>S0_M_T1009</th>\n      <td>0</td>\n      <td>0</td>\n      <td>0</td>\n      <td>1</td>\n      <td>1</td>\n      <td>0</td>\n      <td>0</td>\n      <td>0</td>\n      <td>0</td>\n      <td>0</td>\n      <td>...</td>\n      <td>0</td>\n      <td>0</td>\n      <td>0</td>\n      <td>0</td>\n      <td>0</td>\n      <td>0</td>\n      <td>0</td>\n      <td>0</td>\n      <td>0</td>\n      <td>0</td>\n    </tr>\n    <tr>\n      <th>S0_M_T1013</th>\n      <td>0</td>\n      <td>0</td>\n      <td>0</td>\n      <td>1</td>\n      <td>0</td>\n      <td>0</td>\n      <td>1</td>\n      <td>0</td>\n      <td>1</td>\n      <td>0</td>\n      <td>...</td>\n      <td>0</td>\n      <td>0</td>\n      <td>0</td>\n      <td>0</td>\n      <td>0</td>\n      <td>0</td>\n      <td>0</td>\n      <td>0</td>\n      <td>0</td>\n      <td>0</td>\n    </tr>\n    <tr>\n      <th>S0_M_T1014</th>\n      <td>0</td>\n      <td>0</td>\n      <td>0</td>\n      <td>1</td>\n      <td>0</td>\n      <td>0</td>\n      <td>0</td>\n      <td>1</td>\n      <td>0</td>\n      <td>1</td>\n      <td>...</td>\n      <td>0</td>\n      <td>0</td>\n      <td>0</td>\n      <td>0</td>\n      <td>0</td>\n      <td>0</td>\n      <td>0</td>\n      <td>0</td>\n      <td>0</td>\n      <td>0</td>\n    </tr>\n    <tr>\n      <th>...</th>\n      <td>...</td>\n      <td>...</td>\n      <td>...</td>\n      <td>...</td>\n      <td>...</td>\n      <td>...</td>\n      <td>...</td>\n      <td>...</td>\n      <td>...</td>\n      <td>...</td>\n      <td>...</td>\n      <td>...</td>\n      <td>...</td>\n      <td>...</td>\n      <td>...</td>\n      <td>...</td>\n      <td>...</td>\n      <td>...</td>\n      <td>...</td>\n      <td>...</td>\n      <td>...</td>\n    </tr>\n    <tr>\n      <th>S3_H_T9985</th>\n      <td>0</td>\n      <td>0</td>\n      <td>1</td>\n      <td>0</td>\n      <td>0</td>\n      <td>0</td>\n      <td>0</td>\n      <td>1</td>\n      <td>0</td>\n      <td>1</td>\n      <td>...</td>\n      <td>0</td>\n      <td>0</td>\n      <td>0</td>\n      <td>0</td>\n      <td>0</td>\n      <td>0</td>\n      <td>0</td>\n      <td>0</td>\n      <td>0</td>\n      <td>0</td>\n    </tr>\n    <tr>\n      <th>S3_H_T9987</th>\n      <td>0</td>\n      <td>0</td>\n      <td>0</td>\n      <td>1</td>\n      <td>0</td>\n      <td>1</td>\n      <td>0</td>\n      <td>0</td>\n      <td>1</td>\n      <td>0</td>\n      <td>...</td>\n      <td>0</td>\n      <td>0</td>\n      <td>0</td>\n      <td>0</td>\n      <td>0</td>\n      <td>0</td>\n      <td>0</td>\n      <td>0</td>\n      <td>0</td>\n      <td>0</td>\n    </tr>\n    <tr>\n      <th>S3_H_T9989</th>\n      <td>0</td>\n      <td>0</td>\n      <td>0</td>\n      <td>1</td>\n      <td>0</td>\n      <td>0</td>\n      <td>1</td>\n      <td>0</td>\n      <td>1</td>\n      <td>0</td>\n      <td>...</td>\n      <td>0</td>\n      <td>0</td>\n      <td>0</td>\n      <td>0</td>\n      <td>0</td>\n      <td>0</td>\n      <td>0</td>\n      <td>0</td>\n      <td>0</td>\n      <td>0</td>\n    </tr>\n    <tr>\n      <th>S3_H_T9990</th>\n      <td>1</td>\n      <td>0</td>\n      <td>0</td>\n      <td>0</td>\n      <td>1</td>\n      <td>0</td>\n      <td>0</td>\n      <td>0</td>\n      <td>0</td>\n      <td>0</td>\n      <td>...</td>\n      <td>0</td>\n      <td>0</td>\n      <td>0</td>\n      <td>0</td>\n      <td>0</td>\n      <td>0</td>\n      <td>0</td>\n      <td>0</td>\n      <td>0</td>\n      <td>0</td>\n    </tr>\n    <tr>\n      <th>S3_H_T9996</th>\n      <td>1</td>\n      <td>0</td>\n      <td>0</td>\n      <td>0</td>\n      <td>1</td>\n      <td>0</td>\n      <td>0</td>\n      <td>0</td>\n      <td>1</td>\n      <td>0</td>\n      <td>...</td>\n      <td>0</td>\n      <td>0</td>\n      <td>0</td>\n      <td>0</td>\n      <td>0</td>\n      <td>0</td>\n      <td>0</td>\n      <td>0</td>\n      <td>0</td>\n      <td>0</td>\n    </tr>\n  </tbody>\n</table>\n<p>31318 rows × 12548 columns</p>\n</div>"
     },
     "execution_count": 14,
     "metadata": {},
     "output_type": "execute_result"
    }
   ],
   "source": [
    "# Merge into main DataFrame\n",
    "\n",
    "df.drop(columns=[\"secondary_structure\"], inplace=True)\n",
    "df = pd.concat([df, secondary_structures], axis=\"columns\")\n",
    "df"
   ],
   "metadata": {
    "collapsed": false,
    "pycharm": {
     "name": "#%%\n"
    }
   }
  },
  {
   "cell_type": "code",
   "execution_count": 15,
   "metadata": {},
   "outputs": [
    {
     "data": {
      "text/plain": "array([[[1., 0., 1., ..., 0., 0., 0.],\n        [0., 0., 0., ..., 1., 1., 0.],\n        [0., 1., 0., ..., 0., 0., 0.],\n        [0., 0., 0., ..., 0., 0., 1.]],\n\n       [[0., 1., 0., ..., 0., 1., 0.],\n        [0., 0., 0., ..., 0., 0., 0.],\n        [0., 0., 1., ..., 0., 0., 0.],\n        [1., 0., 0., ..., 1., 0., 1.]],\n\n       [[0., 1., 0., ..., 0., 1., 0.],\n        [0., 0., 0., ..., 1., 0., 0.],\n        [0., 0., 1., ..., 0., 0., 0.],\n        [1., 0., 0., ..., 0., 0., 1.]],\n\n       ...,\n\n       [[0., 0., 1., ..., 0., 0., 0.],\n        [0., 0., 0., ..., 0., 0., 0.],\n        [0., 1., 0., ..., 0., 0., 1.],\n        [1., 0., 0., ..., 1., 1., 0.]],\n\n       [[1., 1., 0., ..., 1., 0., 1.],\n        [0., 0., 0., ..., 0., 0., 0.],\n        [0., 0., 0., ..., 0., 1., 0.],\n        [0., 0., 1., ..., 0., 0., 0.]],\n\n       [[1., 1., 1., ..., 0., 0., 1.],\n        [0., 0., 0., ..., 0., 0., 0.],\n        [0., 0., 0., ..., 0., 0., 0.],\n        [0., 0., 0., ..., 1., 1., 0.]]], dtype=float32)"
     },
     "execution_count": 15,
     "metadata": {},
     "output_type": "execute_result"
    }
   ],
   "source": [
    "sequences_tensor = df.filter(regex=\"^sequence\", axis=\"columns\").to_numpy()\n",
    "sequences_tensor = sequences_tensor.reshape(-1, sequences_tensor.shape[1] // 4, 4)\n",
    "sequences_tensor = sequences_tensor.transpose(0, 2, 1)\n",
    "sequences_tensor = sequences_tensor.astype(np.float32)\n",
    "sequences_tensor"
   ]
  },
  {
   "cell_type": "code",
   "execution_count": 16,
   "metadata": {},
   "outputs": [],
   "source": [
    "all_data = list(zip(sequences_tensor, df[[\"log2_deg_rate_a_plus\", \"log2_deg_rate_a_minus\"]].to_numpy().astype(np.float32)))"
   ]
  },
  {
   "cell_type": "markdown",
   "metadata": {},
   "source": [
    "# NN"
   ]
  },
  {
   "cell_type": "code",
   "execution_count": 17,
   "metadata": {},
   "outputs": [],
   "source": [
    "import torch\n",
    "import torch.nn as nn"
   ]
  },
  {
   "cell_type": "code",
   "execution_count": 18,
   "metadata": {},
   "outputs": [
    {
     "data": {
      "text/plain": "Net(\n  (conv1): Conv1d(4, 96, kernel_size=(12,), stride=(1,))\n  (norm): BatchNorm1d(96, eps=1e-05, momentum=0.1, affine=True, track_running_stats=True)\n  (relu): ReLU()\n  (linear): Linear(in_features=9504, out_features=2, bias=True)\n)"
     },
     "execution_count": 18,
     "metadata": {},
     "output_type": "execute_result"
    }
   ],
   "source": [
    "class Net(nn.Module):\n",
    "    def __init__(self):\n",
    "        super().__init__()\n",
    "\n",
    "        self.conv1 = nn.Conv1d(4, 96, 12)\n",
    "        self.norm = nn.BatchNorm1d(96)\n",
    "        self.relu = nn.ReLU()\n",
    "        self.linear = nn.Linear(96 * 99, 2)\n",
    "\n",
    "    def forward(self, x):\n",
    "        x = self.conv1(x)\n",
    "        x = self.norm(x)\n",
    "        x = self.relu(x)\n",
    "\n",
    "        x = x.view(-1, 96 * 99)\n",
    "        x = self.linear(x)\n",
    "\n",
    "        return x\n",
    "\n",
    "net = Net()\n",
    "net"
   ]
  },
  {
   "cell_type": "code",
   "execution_count": 19,
   "metadata": {},
   "outputs": [],
   "source": [
    "import torch.optim as optim\n",
    "\n",
    "criterion = nn.MSELoss()\n",
    "optimizer = optim.SGD(net.parameters(), lr=0.001, momentum=0.9)"
   ]
  },
  {
   "cell_type": "code",
   "execution_count": 20,
   "metadata": {},
   "outputs": [],
   "source": [
    "train_size = int(0.9 * len(all_data))\n",
    "test_size = len(all_data) - train_size\n",
    "train_data, test_data = torch.utils.data.random_split(all_data, [train_size, test_size])"
   ]
  },
  {
   "cell_type": "code",
   "execution_count": 21,
   "metadata": {},
   "outputs": [],
   "source": [
    "train_loader = torch.utils.data.DataLoader(train_data, batch_size=4, shuffle=True, num_workers=2)"
   ]
  },
  {
   "cell_type": "code",
   "execution_count": 22,
   "metadata": {
    "tags": []
   },
   "outputs": [
    {
     "name": "stdout",
     "output_type": "stream",
     "text": [
      "Epoch 1\n",
      "Epoch 2\n",
      "Epoch 3\n",
      "Epoch 4\n",
      "Epoch 5\n",
      "Epoch 6\n",
      "Epoch 7\n",
      "Epoch 8\n",
      "Epoch 9\n",
      "Epoch 10\n"
     ]
    }
   ],
   "source": [
    "for epoch in range(10):\n",
    "    for sequences, rates in train_loader:\n",
    "        # zero the parameter gradients\n",
    "        optimizer.zero_grad()\n",
    "\n",
    "        # forward + backward + optimize\n",
    "        outputs = net(sequences)\n",
    "        loss = criterion(outputs, rates)\n",
    "        loss.backward()\n",
    "        optimizer.step()\n",
    "\n",
    "    print(f\"Epoch {epoch + 1}\")"
   ]
  },
  {
   "cell_type": "code",
   "execution_count": 23,
   "metadata": {},
   "outputs": [],
   "source": [
    "test_loader = torch.utils.data.DataLoader(test_data, batch_size=4, shuffle=False, num_workers=2)"
   ]
  },
  {
   "cell_type": "code",
   "execution_count": 24,
   "metadata": {},
   "outputs": [],
   "source": [
    "with torch.no_grad():\n",
    "    errors = np.zeros((test_size, 2))\n",
    "    for batch, (sequences, rates) in enumerate(test_loader):\n",
    "        outputs = net(sequences)\n",
    "\n",
    "        row = batch * test_loader.batch_size\n",
    "        errors[row:row + test_loader.batch_size, :] = (outputs - rates) ** 2"
   ]
  },
  {
   "cell_type": "code",
   "execution_count": 25,
   "outputs": [
    {
     "data": {
      "text/plain": "a_plus     0.660364\na_minus    0.510896\ndtype: float64"
     },
     "execution_count": 25,
     "metadata": {},
     "output_type": "execute_result"
    }
   ],
   "source": [
    "mse = pd.DataFrame(errors, columns=[\"a_plus\", \"a_minus\"]).mean(axis=\"index\")\n",
    "mse\n"
   ],
   "metadata": {
    "collapsed": false,
    "pycharm": {
     "name": "#%%\n"
    }
   }
  }
 ],
 "metadata": {
  "kernelspec": {
   "display_name": "Python 3",
   "language": "python",
   "name": "python3"
  },
  "language_info": {
   "codemirror_mode": {
    "name": "ipython",
    "version": 2
   },
   "file_extension": ".py",
   "mimetype": "text/x-python",
   "name": "python",
   "nbconvert_exporter": "python",
   "pygments_lexer": "ipython2",
   "version": "2.7.6"
  }
 },
 "nbformat": 4,
 "nbformat_minor": 0
}