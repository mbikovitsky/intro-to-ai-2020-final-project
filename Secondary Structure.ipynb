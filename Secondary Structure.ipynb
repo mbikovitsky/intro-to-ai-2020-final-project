{
 "cells": [
  {
   "cell_type": "code",
   "execution_count": 1,
   "metadata": {
    "collapsed": true
   },
   "outputs": [],
   "source": [
    "import numpy as np\n",
    "import pandas as pd\n",
    "import re\n",
    "from scipy.sparse import coo_matrix, vstack"
   ]
  },
  {
   "cell_type": "code",
   "execution_count": 2,
   "outputs": [],
   "source": [
    "with open(\"data/ss_out.txt\", mode=\"r\") as f:\n",
    "    raw_data = f.read()"
   ],
   "metadata": {
    "collapsed": false,
    "pycharm": {
     "name": "#%%\n"
    }
   }
  },
  {
   "cell_type": "code",
   "execution_count": 3,
   "outputs": [],
   "source": [
    "# Read file into a DataFrame\n",
    "\n",
    "PATTERN = re.compile(r\"\"\"^([UCAG]{110})\n",
    "([.()]{110}) \\( {0,2}(-?[0-9]{1,2}\\.[0-9]{2})\\)\n",
    "([.,|(){}]{110})\"\"\", re.IGNORECASE | re.MULTILINE)\n",
    "\n",
    "data = (match.groups() for match in PATTERN.finditer(raw_data))\n",
    "data = ((sequence, secondary_structure, float(free_energy), secondary_structure_prob)\n",
    "        for (sequence, secondary_structure, free_energy, secondary_structure_prob) in data)\n",
    "\n",
    "df = pd.DataFrame.from_records(data, columns=[\"sequence\", \"secondary_structure\", \"free_energy\", \"secondary_structure_prob\"])"
   ],
   "metadata": {
    "collapsed": false,
    "pycharm": {
     "name": "#%%\n"
    }
   }
  },
  {
   "cell_type": "code",
   "execution_count": 4,
   "outputs": [],
   "source": [
    "# Drop duplicates and transform sequences by replacing U with T\n",
    "\n",
    "df.drop_duplicates(inplace=True)\n",
    "df.reset_index(drop=True, inplace=True)\n",
    "df[\"sequence\"] = df[\"sequence\"].str.replace(\"U\", \"T\")"
   ],
   "metadata": {
    "collapsed": false,
    "pycharm": {
     "name": "#%%\n"
    }
   }
  },
  {
   "cell_type": "code",
   "execution_count": 5,
   "outputs": [],
   "source": [
    "# One-hot encode the sequences\n",
    "\n",
    "sequences = df[\"sequence\"].str.split(\"\", expand=True)\n",
    "sequences.drop(columns=[sequences.columns[0], sequences.columns[-1]], inplace=True)\n",
    "sequences = sequences.add_prefix(\"sequence_\")\n",
    "sequences = pd.get_dummies(sequences, sparse=True)"
   ],
   "metadata": {
    "collapsed": false,
    "pycharm": {
     "name": "#%%\n"
    }
   }
  },
  {
   "cell_type": "code",
   "execution_count": 6,
   "outputs": [],
   "source": [
    "# Merge into main DataFrame\n",
    "\n",
    "df.drop(columns=[\"sequence\"], inplace=True)\n",
    "df = pd.concat([sequences, df], axis=\"columns\")"
   ],
   "metadata": {
    "collapsed": false,
    "pycharm": {
     "name": "#%%\n"
    }
   }
  },
  {
   "cell_type": "code",
   "execution_count": 7,
   "outputs": [],
   "source": [
    "def match_parens(string: str) -> np.ndarray:\n",
    "    \"\"\"\n",
    "    Returns a matrix of matching parentheses. For each pair of indices i, j\n",
    "    in the input string, the cell (i, j) in the matrix will have a value of 1\n",
    "    iff i and j contain a matching pair of parens.\n",
    "    \"\"\"\n",
    "\n",
    "    pairs_matrix = np.zeros((len(string), len(string)), dtype=np.uint8)\n",
    "\n",
    "    stack = []\n",
    "    for index, char in enumerate(string):\n",
    "        if char == '(':\n",
    "            stack.append(index)\n",
    "        elif char == ')':\n",
    "            open_index = stack.pop()\n",
    "            pairs_matrix[open_index, index] = 1\n",
    "    assert not stack\n",
    "\n",
    "    return pairs_matrix"
   ],
   "metadata": {
    "collapsed": false,
    "pycharm": {
     "name": "#%%\n"
    }
   }
  },
  {
   "cell_type": "code",
   "execution_count": 8,
   "outputs": [],
   "source": [
    "# One-hot encode the secondary structure of each sequence\n",
    "\n",
    "all_pairs_matrices = vstack(df[\"secondary_structure\"].map(lambda struct: coo_matrix(match_parens(struct).reshape(-1))))\n",
    "secondary_structures = pd.DataFrame.sparse.from_spmatrix(all_pairs_matrices,\n",
    "                                                         index=df.index,\n",
    "                                                         columns=pd.RangeIndex(1, all_pairs_matrices.shape[1] + 1))\n",
    "secondary_structures = secondary_structures.add_prefix(\"secondary_structure_\")"
   ],
   "metadata": {
    "collapsed": false,
    "pycharm": {
     "name": "#%%\n"
    }
   }
  },
  {
   "cell_type": "code",
   "execution_count": 9,
   "outputs": [],
   "source": [
    "# Merge into main DataFrame# Merge into main DataFrame\n",
    "\n",
    "df.drop(columns=[\"secondary_structure\"], inplace=True)\n",
    "df = pd.concat([df, secondary_structures], axis=\"columns\")"
   ],
   "metadata": {
    "collapsed": false,
    "pycharm": {
     "name": "#%%\n"
    }
   }
  },
  {
   "cell_type": "code",
   "execution_count": 10,
   "metadata": {},
   "outputs": [
    {
     "output_type": "execute_result",
     "data": {
      "text/plain": "       sequence_1_A  sequence_1_C  sequence_1_G  sequence_1_T  sequence_2_A  \\\n0                 0             0             0             1             0   \n1                 1             0             0             0             0   \n2                 1             0             0             0             0   \n3                 1             0             0             0             0   \n4                 0             1             0             0             0   \n...             ...           ...           ...           ...           ...   \n89995             0             0             0             1             0   \n89996             1             0             0             0             1   \n89997             1             0             0             0             0   \n89998             0             0             1             0             0   \n89999             0             1             0             0             0   \n\n       sequence_2_C  sequence_2_G  sequence_2_T  sequence_3_A  sequence_3_C  \\\n0                 0             1             0             0             0   \n1                 0             1             0             1             0   \n2                 1             0             0             0             1   \n3                 0             0             1             0             0   \n4                 1             0             0             0             0   \n...             ...           ...           ...           ...           ...   \n89995             0             0             1             0             0   \n89996             0             0             0             1             0   \n89997             0             1             0             0             0   \n89998             0             1             0             0             0   \n89999             0             0             1             0             0   \n\n       ...  secondary_structure_12091  secondary_structure_12092  \\\n0      ...                          0                          0   \n1      ...                          0                          0   \n2      ...                          0                          0   \n3      ...                          0                          0   \n4      ...                          0                          0   \n...    ...                        ...                        ...   \n89995  ...                          0                          0   \n89996  ...                          0                          0   \n89997  ...                          0                          0   \n89998  ...                          0                          0   \n89999  ...                          0                          0   \n\n       secondary_structure_12093  secondary_structure_12094  \\\n0                              0                          0   \n1                              0                          0   \n2                              0                          0   \n3                              0                          0   \n4                              0                          0   \n...                          ...                        ...   \n89995                          0                          0   \n89996                          0                          0   \n89997                          0                          0   \n89998                          0                          0   \n89999                          0                          0   \n\n       secondary_structure_12095  secondary_structure_12096  \\\n0                              0                          0   \n1                              0                          0   \n2                              0                          0   \n3                              0                          0   \n4                              0                          0   \n...                          ...                        ...   \n89995                          0                          0   \n89996                          0                          0   \n89997                          0                          0   \n89998                          0                          0   \n89999                          0                          0   \n\n       secondary_structure_12097  secondary_structure_12098  \\\n0                              0                          0   \n1                              0                          0   \n2                              0                          0   \n3                              0                          0   \n4                              0                          0   \n...                          ...                        ...   \n89995                          0                          0   \n89996                          0                          0   \n89997                          0                          0   \n89998                          0                          0   \n89999                          0                          0   \n\n       secondary_structure_12099  secondary_structure_12100  \n0                              0                          0  \n1                              0                          0  \n2                              0                          0  \n3                              0                          0  \n4                              0                          0  \n...                          ...                        ...  \n89995                          0                          0  \n89996                          0                          0  \n89997                          0                          0  \n89998                          0                          0  \n89999                          0                          0  \n\n[90000 rows x 12542 columns]",
      "text/html": "<div>\n<style scoped>\n    .dataframe tbody tr th:only-of-type {\n        vertical-align: middle;\n    }\n\n    .dataframe tbody tr th {\n        vertical-align: top;\n    }\n\n    .dataframe thead th {\n        text-align: right;\n    }\n</style>\n<table border=\"1\" class=\"dataframe\">\n  <thead>\n    <tr style=\"text-align: right;\">\n      <th></th>\n      <th>sequence_1_A</th>\n      <th>sequence_1_C</th>\n      <th>sequence_1_G</th>\n      <th>sequence_1_T</th>\n      <th>sequence_2_A</th>\n      <th>sequence_2_C</th>\n      <th>sequence_2_G</th>\n      <th>sequence_2_T</th>\n      <th>sequence_3_A</th>\n      <th>sequence_3_C</th>\n      <th>...</th>\n      <th>secondary_structure_12091</th>\n      <th>secondary_structure_12092</th>\n      <th>secondary_structure_12093</th>\n      <th>secondary_structure_12094</th>\n      <th>secondary_structure_12095</th>\n      <th>secondary_structure_12096</th>\n      <th>secondary_structure_12097</th>\n      <th>secondary_structure_12098</th>\n      <th>secondary_structure_12099</th>\n      <th>secondary_structure_12100</th>\n    </tr>\n  </thead>\n  <tbody>\n    <tr>\n      <th>0</th>\n      <td>0</td>\n      <td>0</td>\n      <td>0</td>\n      <td>1</td>\n      <td>0</td>\n      <td>0</td>\n      <td>1</td>\n      <td>0</td>\n      <td>0</td>\n      <td>0</td>\n      <td>...</td>\n      <td>0</td>\n      <td>0</td>\n      <td>0</td>\n      <td>0</td>\n      <td>0</td>\n      <td>0</td>\n      <td>0</td>\n      <td>0</td>\n      <td>0</td>\n      <td>0</td>\n    </tr>\n    <tr>\n      <th>1</th>\n      <td>1</td>\n      <td>0</td>\n      <td>0</td>\n      <td>0</td>\n      <td>0</td>\n      <td>0</td>\n      <td>1</td>\n      <td>0</td>\n      <td>1</td>\n      <td>0</td>\n      <td>...</td>\n      <td>0</td>\n      <td>0</td>\n      <td>0</td>\n      <td>0</td>\n      <td>0</td>\n      <td>0</td>\n      <td>0</td>\n      <td>0</td>\n      <td>0</td>\n      <td>0</td>\n    </tr>\n    <tr>\n      <th>2</th>\n      <td>1</td>\n      <td>0</td>\n      <td>0</td>\n      <td>0</td>\n      <td>0</td>\n      <td>1</td>\n      <td>0</td>\n      <td>0</td>\n      <td>0</td>\n      <td>1</td>\n      <td>...</td>\n      <td>0</td>\n      <td>0</td>\n      <td>0</td>\n      <td>0</td>\n      <td>0</td>\n      <td>0</td>\n      <td>0</td>\n      <td>0</td>\n      <td>0</td>\n      <td>0</td>\n    </tr>\n    <tr>\n      <th>3</th>\n      <td>1</td>\n      <td>0</td>\n      <td>0</td>\n      <td>0</td>\n      <td>0</td>\n      <td>0</td>\n      <td>0</td>\n      <td>1</td>\n      <td>0</td>\n      <td>0</td>\n      <td>...</td>\n      <td>0</td>\n      <td>0</td>\n      <td>0</td>\n      <td>0</td>\n      <td>0</td>\n      <td>0</td>\n      <td>0</td>\n      <td>0</td>\n      <td>0</td>\n      <td>0</td>\n    </tr>\n    <tr>\n      <th>4</th>\n      <td>0</td>\n      <td>1</td>\n      <td>0</td>\n      <td>0</td>\n      <td>0</td>\n      <td>1</td>\n      <td>0</td>\n      <td>0</td>\n      <td>0</td>\n      <td>0</td>\n      <td>...</td>\n      <td>0</td>\n      <td>0</td>\n      <td>0</td>\n      <td>0</td>\n      <td>0</td>\n      <td>0</td>\n      <td>0</td>\n      <td>0</td>\n      <td>0</td>\n      <td>0</td>\n    </tr>\n    <tr>\n      <th>...</th>\n      <td>...</td>\n      <td>...</td>\n      <td>...</td>\n      <td>...</td>\n      <td>...</td>\n      <td>...</td>\n      <td>...</td>\n      <td>...</td>\n      <td>...</td>\n      <td>...</td>\n      <td>...</td>\n      <td>...</td>\n      <td>...</td>\n      <td>...</td>\n      <td>...</td>\n      <td>...</td>\n      <td>...</td>\n      <td>...</td>\n      <td>...</td>\n      <td>...</td>\n      <td>...</td>\n    </tr>\n    <tr>\n      <th>89995</th>\n      <td>0</td>\n      <td>0</td>\n      <td>0</td>\n      <td>1</td>\n      <td>0</td>\n      <td>0</td>\n      <td>0</td>\n      <td>1</td>\n      <td>0</td>\n      <td>0</td>\n      <td>...</td>\n      <td>0</td>\n      <td>0</td>\n      <td>0</td>\n      <td>0</td>\n      <td>0</td>\n      <td>0</td>\n      <td>0</td>\n      <td>0</td>\n      <td>0</td>\n      <td>0</td>\n    </tr>\n    <tr>\n      <th>89996</th>\n      <td>1</td>\n      <td>0</td>\n      <td>0</td>\n      <td>0</td>\n      <td>1</td>\n      <td>0</td>\n      <td>0</td>\n      <td>0</td>\n      <td>1</td>\n      <td>0</td>\n      <td>...</td>\n      <td>0</td>\n      <td>0</td>\n      <td>0</td>\n      <td>0</td>\n      <td>0</td>\n      <td>0</td>\n      <td>0</td>\n      <td>0</td>\n      <td>0</td>\n      <td>0</td>\n    </tr>\n    <tr>\n      <th>89997</th>\n      <td>1</td>\n      <td>0</td>\n      <td>0</td>\n      <td>0</td>\n      <td>0</td>\n      <td>0</td>\n      <td>1</td>\n      <td>0</td>\n      <td>0</td>\n      <td>0</td>\n      <td>...</td>\n      <td>0</td>\n      <td>0</td>\n      <td>0</td>\n      <td>0</td>\n      <td>0</td>\n      <td>0</td>\n      <td>0</td>\n      <td>0</td>\n      <td>0</td>\n      <td>0</td>\n    </tr>\n    <tr>\n      <th>89998</th>\n      <td>0</td>\n      <td>0</td>\n      <td>1</td>\n      <td>0</td>\n      <td>0</td>\n      <td>0</td>\n      <td>1</td>\n      <td>0</td>\n      <td>0</td>\n      <td>0</td>\n      <td>...</td>\n      <td>0</td>\n      <td>0</td>\n      <td>0</td>\n      <td>0</td>\n      <td>0</td>\n      <td>0</td>\n      <td>0</td>\n      <td>0</td>\n      <td>0</td>\n      <td>0</td>\n    </tr>\n    <tr>\n      <th>89999</th>\n      <td>0</td>\n      <td>1</td>\n      <td>0</td>\n      <td>0</td>\n      <td>0</td>\n      <td>0</td>\n      <td>0</td>\n      <td>1</td>\n      <td>0</td>\n      <td>0</td>\n      <td>...</td>\n      <td>0</td>\n      <td>0</td>\n      <td>0</td>\n      <td>0</td>\n      <td>0</td>\n      <td>0</td>\n      <td>0</td>\n      <td>0</td>\n      <td>0</td>\n      <td>0</td>\n    </tr>\n  </tbody>\n</table>\n<p>90000 rows × 12542 columns</p>\n</div>"
     },
     "metadata": {},
     "execution_count": 10
    }
   ],
   "source": [
    "df"
   ]
  }
 ],
 "metadata": {
  "kernelspec": {
   "display_name": "Python 3",
   "language": "python",
   "name": "python3"
  },
  "language_info": {
   "codemirror_mode": {
    "name": "ipython",
    "version": 2
   },
   "file_extension": ".py",
   "mimetype": "text/x-python",
   "name": "python",
   "nbconvert_exporter": "python",
   "pygments_lexer": "ipython2",
   "version": "2.7.6"
  }
 },
 "nbformat": 4,
 "nbformat_minor": 0
}