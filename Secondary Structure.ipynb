{
 "cells": [
  {
   "cell_type": "code",
   "execution_count": null,
   "metadata": {
    "collapsed": true
   },
   "outputs": [],
   "source": [
    "import numpy as np\n",
    "import pandas as pd\n",
    "from scipy.sparse import coo_matrix, vstack\n",
    "from torch.utils.data import random_split, DataLoader\n",
    "\n",
    "import util\n",
    "from linear_regression import Model\n",
    "from preprocessing import read_all_data, read_original_predictions\n",
    "from neural_net import Net\n",
    "from util import match_parens, test_network, train_network"
   ]
  },
  {
   "cell_type": "markdown",
   "metadata": {},
   "source": [
    "# Data pre-processing"
   ]
  },
  {
   "cell_type": "code",
   "execution_count": null,
   "metadata": {},
   "outputs": [],
   "source": [
    "# Load data\n",
    "\n",
    "df = read_all_data(\"data/ss_out.txt\",\n",
    "                   \"data/3U_sequences_final.txt\",\n",
    "                   \"data/3U.models.3U.40A.seq1022_param.txt\",\n",
    "                   \"data/3U.models.3U.00A.seq1022_param.txt\")\n",
    "df"
   ]
  },
  {
   "cell_type": "code",
   "execution_count": null,
   "metadata": {},
   "outputs": [],
   "source": [
    "df.dropna(inplace=True)\n",
    "df"
   ]
  },
  {
   "cell_type": "code",
   "execution_count": null,
   "outputs": [],
   "source": [
    "# One-hot encode the sequences\n",
    "\n",
    "sequences = df[\"sequence\"].str.split(\"\", expand=True)\n",
    "sequences.drop(columns=[sequences.columns[0], sequences.columns[-1]], inplace=True)\n",
    "sequences = sequences.add_prefix(\"sequence_\")\n",
    "sequences = pd.get_dummies(sequences, sparse=True)"
   ],
   "metadata": {
    "collapsed": false,
    "pycharm": {
     "name": "#%%\n"
    }
   }
  },
  {
   "cell_type": "code",
   "execution_count": null,
   "outputs": [],
   "source": [
    "# Merge into main DataFrame\n",
    "\n",
    "# df.drop(columns=[\"sequence\"], inplace=True)\n",
    "df = pd.concat([sequences, df], axis=\"columns\")\n",
    "df"
   ],
   "metadata": {
    "collapsed": false,
    "pycharm": {
     "name": "#%%\n"
    }
   }
  },
  {
   "cell_type": "code",
   "execution_count": null,
   "outputs": [],
   "source": [
    "# One-hot encode the secondary structure of each sequence\n",
    "\n",
    "all_pairs_matrices = vstack(df[\"secondary_structure\"].map(lambda struct: coo_matrix(match_parens(struct).reshape(-1))))\n",
    "secondary_structures = pd.DataFrame.sparse.from_spmatrix(all_pairs_matrices,\n",
    "                                                         index=df.index,\n",
    "                                                         columns=pd.RangeIndex(1, all_pairs_matrices.shape[1] + 1))\n",
    "secondary_structures = secondary_structures.add_prefix(\"secondary_structure_\")"
   ],
   "metadata": {
    "collapsed": false,
    "pycharm": {
     "name": "#%%\n"
    }
   }
  },
  {
   "cell_type": "code",
   "execution_count": null,
   "outputs": [],
   "source": [
    "# Merge into main DataFrame\n",
    "\n",
    "# df.drop(columns=[\"secondary_structure\"], inplace=True)\n",
    "df = pd.concat([df, secondary_structures], axis=\"columns\")\n",
    "df"
   ],
   "metadata": {
    "collapsed": false,
    "pycharm": {
     "name": "#%%\n"
    }
   }
  },
  {
   "cell_type": "code",
   "execution_count": null,
   "metadata": {},
   "outputs": [],
   "source": [
    "sequences_tensor = df.filter(regex=\"^sequence_\", axis=\"columns\").to_numpy()\n",
    "sequences_tensor = sequences_tensor.reshape(-1, sequences_tensor.shape[1] // 4, 4)\n",
    "sequences_tensor = sequences_tensor.transpose(0, 2, 1)\n",
    "sequences_tensor = sequences_tensor.astype(np.float32)\n",
    "sequences_tensor"
   ]
  },
  {
   "cell_type": "code",
   "execution_count": null,
   "metadata": {},
   "outputs": [],
   "source": [
    "all_data = list(zip(sequences_tensor, df[[\"log2_deg_rate_a_plus\", \"log2_deg_rate_a_minus\"]].to_numpy().astype(np.float32)))"
   ]
  },
  {
   "cell_type": "markdown",
   "metadata": {},
   "source": [
    "# NN"
   ]
  },
  {
   "cell_type": "code",
   "execution_count": null,
   "metadata": {},
   "outputs": [],
   "source": [
    "a_plus_net = Net()\n",
    "a_minus_net = Net()\n",
    "a_minus_net"
   ]
  },
  {
   "cell_type": "code",
   "execution_count": null,
   "metadata": {},
   "outputs": [],
   "source": [
    "train_size = int(0.9 * len(all_data))\n",
    "test_size = len(all_data) - train_size\n",
    "train_data, test_data = random_split(all_data, [train_size, test_size])"
   ]
  },
  {
   "cell_type": "code",
   "execution_count": null,
   "metadata": {},
   "outputs": [],
   "source": [
    "train_loader = DataLoader([(sequence, np.array([rates[0]])) for (sequence, rates) in train_data],\n",
    "                          batch_size=4, shuffle=True, num_workers=2)\n",
    "train_network(a_plus_net, train_loader, 5)"
   ]
  },
  {
   "cell_type": "code",
   "execution_count": null,
   "outputs": [],
   "source": [
    "train_loader = DataLoader([(sequence, np.array([rates[1]])) for (sequence, rates) in train_data],\n",
    "                          batch_size=4, shuffle=True, num_workers=2)\n",
    "train_network(a_minus_net, train_loader, 5)"
   ],
   "metadata": {
    "collapsed": false,
    "pycharm": {
     "name": "#%%\n"
    }
   }
  },
  {
   "cell_type": "code",
   "execution_count": null,
   "metadata": {},
   "outputs": [],
   "source": [
    "test_loader = DataLoader([(sequence, np.array([rates[0]])) for (sequence, rates) in test_data],\n",
    "                         batch_size=4, shuffle=False, num_workers=2)\n",
    "a_plus_mse = test_network(a_plus_net, test_loader)\n",
    "a_plus_mse"
   ]
  },
  {
   "cell_type": "code",
   "execution_count": null,
   "outputs": [],
   "source": [
    "test_loader = DataLoader([(sequence, np.array([rates[1]])) for (sequence, rates) in test_data],\n",
    "                         batch_size=4, shuffle=False, num_workers=2)\n",
    "a_minus_mse = test_network(a_minus_net, test_loader)\n",
    "a_minus_mse"
   ],
   "metadata": {
    "collapsed": false,
    "pycharm": {
     "name": "#%%\n"
    }
   }
  },
  {
   "cell_type": "markdown",
   "source": [
    "# Linear Regression"
   ],
   "metadata": {
    "collapsed": false,
    "pycharm": {
     "name": "#%% md\n"
    }
   }
  },
  {
   "cell_type": "code",
   "execution_count": null,
   "outputs": [],
   "source": [
    "model_a_plus = Model.load(\"data/run_linear_3U_40A_dg_BEST.out.mat\")\n",
    "model_a_minus = Model.load(\"data/run_linear_3U_00Am1_dg_BEST.out.mat\")"
   ],
   "metadata": {
    "collapsed": false,
    "pycharm": {
     "name": "#%%\n"
    }
   }
  },
  {
   "cell_type": "code",
   "execution_count": null,
   "outputs": [],
   "source": [
    "prediction_a_minus = np.log2(model_a_minus.predict(df[\"sequence\"]))\n",
    "prediction_a_minus"
   ],
   "metadata": {
    "collapsed": false,
    "pycharm": {
     "name": "#%%\n"
    }
   }
  },
  {
   "cell_type": "code",
   "execution_count": null,
   "outputs": [],
   "source": [
    "prediction_a_plus = np.log2(model_a_plus.predict(df[\"sequence\"]))\n",
    "prediction_a_plus"
   ],
   "metadata": {
    "collapsed": false,
    "pycharm": {
     "name": "#%%\n"
    }
   }
  },
  {
   "cell_type": "code",
   "execution_count": null,
   "outputs": [],
   "source": [
    "prediction_df = pd.DataFrame({\"id\": df.index,\n",
    "                              \"a_minus\": prediction_a_minus.T[0],\n",
    "                              \"a_plus\": prediction_a_plus.T[0]})\n",
    "prediction_df.sort_values(by=[\"id\"], inplace=True)"
   ],
   "metadata": {
    "collapsed": false,
    "pycharm": {
     "name": "#%%\n"
    }
   }
  },
  {
   "cell_type": "code",
   "execution_count": null,
   "outputs": [],
   "source": [
    "_, a_minus_clip, a_plus_clip = read_original_predictions(\"data/models_full_dg.txt\")"
   ],
   "metadata": {
    "collapsed": false,
    "pycharm": {
     "name": "#%%\n"
    }
   }
  },
  {
   "cell_type": "code",
   "execution_count": null,
   "outputs": [],
   "source": [
    "prediction_df[\"a_minus\"].fillna(a_minus_clip, inplace=True)\n",
    "prediction_df[\"a_minus\"].clip(lower=a_minus_clip, inplace=True)\n",
    "\n",
    "prediction_df[\"a_plus\"].fillna(a_plus_clip, inplace=True)\n",
    "prediction_df[\"a_plus\"].clip(lower=a_plus_clip, inplace=True)"
   ],
   "metadata": {
    "collapsed": false,
    "pycharm": {
     "name": "#%%\n"
    }
   }
  },
  {
   "cell_type": "code",
   "execution_count": null,
   "outputs": [],
   "source": [
    "assert (prediction_df[\"id\"] == df.index).all()"
   ],
   "metadata": {
    "collapsed": false,
    "pycharm": {
     "name": "#%%\n"
    }
   }
  },
  {
   "cell_type": "code",
   "execution_count": null,
   "outputs": [],
   "source": [
    "linear_mse_a_minus = util.mse(prediction_df[\"a_minus\"].to_numpy(), df[\"log2_deg_rate_a_minus\"].to_numpy())\n",
    "linear_mse_a_minus"
   ],
   "metadata": {
    "collapsed": false,
    "pycharm": {
     "name": "#%%\n"
    }
   }
  },
  {
   "cell_type": "code",
   "execution_count": null,
   "outputs": [],
   "source": [
    "linear_mse_a_plus = util.mse(prediction_df[\"a_plus\"].to_numpy(), df[\"log2_deg_rate_a_plus\"].to_numpy())\n",
    "linear_mse_a_plus\n"
   ],
   "metadata": {
    "collapsed": false,
    "pycharm": {
     "name": "#%%\n"
    }
   }
  }
 ],
 "metadata": {
  "kernelspec": {
   "display_name": "Python 3",
   "language": "python",
   "name": "python3"
  },
  "language_info": {
   "codemirror_mode": {
    "name": "ipython",
    "version": 2
   },
   "file_extension": ".py",
   "mimetype": "text/x-python",
   "name": "python",
   "nbconvert_exporter": "python",
   "pygments_lexer": "ipython2",
   "version": "2.7.6"
  }
 },
 "nbformat": 4,
 "nbformat_minor": 0
}