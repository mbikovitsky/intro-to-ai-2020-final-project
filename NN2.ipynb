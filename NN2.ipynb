{
 "cells": [
  {
   "cell_type": "code",
   "execution_count": null,
   "metadata": {
    "collapsed": true
   },
   "outputs": [],
   "source": [
    "import numpy as np\n",
    "import torch\n",
    "import torch.nn as nn\n",
    "from sklearn.model_selection import train_test_split\n",
    "from torch import from_numpy\n",
    "from torch.utils.data import DataLoader, TensorDataset\n",
    "\n",
    "from neural_net import Net2\n",
    "from preprocessing import one_hot_encode_sequences, read_all_data"
   ]
  },
  {
   "cell_type": "code",
   "execution_count": null,
   "outputs": [],
   "source": [
    "from util import test_network, train_network\n",
    "df = read_all_data(\"data/ss_out.txt\",\n",
    "                   \"data/3U_sequences_final.txt\",\n",
    "                   \"data/3U.models.3U.40A.seq1022_param.txt\",\n",
    "                   \"data/3U.models.3U.00A.seq1022_param.txt\")\n",
    "df"
   ],
   "metadata": {
    "collapsed": false,
    "pycharm": {
     "name": "#%%\n"
    }
   }
  },
  {
   "cell_type": "code",
   "execution_count": null,
   "outputs": [],
   "source": [
    "df.dropna(inplace=True)\n",
    "df"
   ],
   "metadata": {
    "collapsed": false,
    "pycharm": {
     "name": "#%%\n"
    }
   }
  },
  {
   "cell_type": "code",
   "execution_count": null,
   "outputs": [],
   "source": [
    "sequences_tensor = one_hot_encode_sequences(df[\"sequence\"], drop_first=True)\n",
    "sequences_tensor"
   ],
   "metadata": {
    "collapsed": false,
    "pycharm": {
     "name": "#%%\n"
    }
   }
  },
  {
   "cell_type": "code",
   "execution_count": null,
   "outputs": [],
   "source": [
    "seq_train, \\\n",
    "seq_test, \\\n",
    "rate_a_plus_train, \\\n",
    "rate_a_plus_test, \\\n",
    "rate_a_minus_train, rate_a_minus_test = \\\n",
    "    train_test_split(sequences_tensor,\n",
    "                     df[\"log2_deg_rate_a_plus\"].to_numpy(np.float32).reshape(-1, 1),\n",
    "                     df[\"log2_deg_rate_a_minus\"].to_numpy(np.float32).reshape(-1, 1),\n",
    "                     train_size=0.9)"
   ],
   "metadata": {
    "collapsed": false,
    "pycharm": {
     "name": "#%%\n"
    }
   }
  },
  {
   "cell_type": "code",
   "execution_count": null,
   "outputs": [],
   "source": [
    "a_plus_net = Net2()\n",
    "a_minus_net = Net2()\n",
    "a_minus_net"
   ],
   "metadata": {
    "collapsed": false,
    "pycharm": {
     "name": "#%%\n"
    }
   }
  },
  {
   "cell_type": "code",
   "execution_count": null,
   "outputs": [],
   "source": [
    "train_loader = DataLoader(TensorDataset(from_numpy(seq_train), from_numpy(rate_a_plus_train)),\n",
    "                          batch_size=4, shuffle=True)\n",
    "optimizer = torch.optim.Adam(a_plus_net.parameters(), lr=0.001)\n",
    "train_network(a_plus_net, train_loader, 5, nn.MSELoss(), optimizer)"
   ],
   "metadata": {
    "collapsed": false,
    "pycharm": {
     "name": "#%%\n"
    }
   }
  },
  {
   "cell_type": "code",
   "execution_count": null,
   "outputs": [],
   "source": [
    "train_loader = DataLoader(TensorDataset(from_numpy(seq_train), from_numpy(rate_a_minus_train)),\n",
    "                          batch_size=4, shuffle=True)\n",
    "optimizer = torch.optim.Adam(a_minus_net.parameters(), lr=0.001)\n",
    "train_network(a_minus_net, train_loader, 5, nn.MSELoss(), optimizer)"
   ],
   "metadata": {
    "collapsed": false,
    "pycharm": {
     "name": "#%%\n"
    }
   }
  },
  {
   "cell_type": "code",
   "execution_count": null,
   "outputs": [],
   "source": [
    "test_loader = DataLoader(TensorDataset(from_numpy(seq_test), from_numpy(rate_a_plus_test)),\n",
    "                         batch_size=4, shuffle=False)\n",
    "a_plus_mse = test_network(a_plus_net, test_loader)\n",
    "a_plus_mse"
   ],
   "metadata": {
    "collapsed": false,
    "pycharm": {
     "name": "#%%\n"
    }
   }
  },
  {
   "cell_type": "code",
   "execution_count": null,
   "outputs": [],
   "source": [
    "test_loader = DataLoader(TensorDataset(from_numpy(seq_test), from_numpy(rate_a_minus_test)),\n",
    "                         batch_size=4, shuffle=False)\n",
    "a_minus_mse = test_network(a_minus_net, test_loader)\n",
    "a_minus_mse\n"
   ],
   "metadata": {
    "collapsed": false,
    "pycharm": {
     "name": "#%%\n"
    }
   }
  }
 ],
 "metadata": {
  "kernelspec": {
   "display_name": "Python 3",
   "language": "python",
   "name": "python3"
  },
  "language_info": {
   "codemirror_mode": {
    "name": "ipython",
    "version": 2
   },
   "file_extension": ".py",
   "mimetype": "text/x-python",
   "name": "python",
   "nbconvert_exporter": "python",
   "pygments_lexer": "ipython2",
   "version": "2.7.6"
  }
 },
 "nbformat": 4,
 "nbformat_minor": 0
}