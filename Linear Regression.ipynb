{
 "nbformat": 4,
 "nbformat_minor": 0,
 "metadata": {
  "colab": {
   "name": "Untitled0.ipynb",
   "provenance": [],
   "private_outputs": true
  },
  "kernelspec": {
   "name": "python3",
   "language": "python",
   "display_name": "Python 3"
  }
 },
 "cells": [
  {
   "cell_type": "code",
   "metadata": {
    "id": "Pq3KQLc-BmvM",
    "colab_type": "code",
    "colab": {}
   },
   "source": [
    "import numpy as np\n",
    "import pandas as pd\n",
    "from sklearn.metrics import mean_squared_error\n",
    "\n",
    "from linear_regression import Model\n",
    "from preprocessing import read_all_data, read_original_predictions, read_sequence_ids"
   ],
   "execution_count": 1,
   "outputs": []
  },
  {
   "cell_type": "markdown",
   "metadata": {
    "id": "dhGnu_pRHMa1",
    "colab_type": "text"
   },
   "source": [
    "# Data pre-processing"
   ]
  },
  {
   "cell_type": "code",
   "metadata": {
    "id": "UNS9H1lfEqWd",
    "colab_type": "code",
    "colab": {}
   },
   "source": [
    "df = read_all_data(\"data/ss_out.txt\",\n",
    "                   \"data/3U_sequences_final.txt\",\n",
    "                   \"data/3U.models.3U.40A.seq1022_param.txt\",\n",
    "                   \"data/3U.models.3U.00A.seq1022_param.txt\")\n",
    "df.sort_index(inplace=True)\n",
    "df"
   ],
   "execution_count": 2,
   "outputs": [
    {
     "data": {
      "text/plain": "                                                     sequence  \\\nid                                                              \nS0_M_T1     TGTCCCCGGGTCTTCCAACGGACTGGCGTTGCCCCGGTTCACTGGG...   \nS0_M_T10    AGATTTTTGGTTCAATATGCTCCTTGAGTGGAGTCTTAGTGATTGC...   \nS0_M_T100   ACCCGGCGCCGCTCGACCCGGAGCGAGGAGTTGACCCGGAGCGAGG...   \nS0_M_T1000  ATGAGGGCTGGAATTTGCATTGAAACACTGGTCCAGTCGCTGTGTA...   \nS0_M_T1001  CCTTAGTGCCCTTAAAATAATGATTTAAGCATTTTACTGTATGTAT...   \n...                                                       ...   \nS3_H_T9995  TTGTAGCTGTCAATTGTATTTAATATACTTTTTTGTCTTTTTAATT...   \nS3_H_T9996  AAAACACCACTACATATGTTTCTCATAAGCGCAACTGTAGTGTTAT...   \nS3_H_T9997  AGGATTTTTTTTTTCACCAATGCTCTTTAATACACACTTGCCTATA...   \nS3_H_T9998  GGTGCTTCAAAGAGTGATTACCCACTAACTAATGAACCCAGACTGT...   \nS3_H_T9999  CTGCAACCATAACTCTAATTGTAGATGTGAAGAAGATTAATGACAG...   \n\n                                          secondary_structure  free_energy  \\\nid                                                                           \nS0_M_T1     .(.((((((((....(((((......)))))((((((....)))))...       -45.92   \nS0_M_T10    ........(((((.....(((((......)))))...(((((..((...       -31.17   \nS0_M_T100   ....((((((.((((..((((..(((....)))..))))..))))....       -41.95   \nS0_M_T1000  .....(((((((...((........))....)))))))..(((......       -23.18   \nS0_M_T1001  ....(.((((((((((.(((.(......((.(((((((((.(.......       -30.84   \n...                                                       ...          ...   \nS3_H_T9995  ((((..(((.((((((.((((((...........(((............       -18.50   \nS3_H_T9996  ((((((((((((((..(((..((....)).)))..))))))).......       -19.40   \nS3_H_T9997  .(((..((((((((.......((................))........       -20.95   \nS3_H_T9998  ((((..(((.....))).))))..((((..((((((((((((.(((...       -28.53   \nS3_H_T9999  ..(((((((..((((((...((((.(((.......((((((....(...       -20.03   \n\n                                     secondary_structure_prob  \\\nid                                                              \nS0_M_T1     .(.((((((((.,,,{{..(|||{((|{..,{{||||,,,.}))))...   \nS0_M_T10    ........(((((,.,..(((((......))))}...{({({..({...   \nS0_M_T100   ....((((((.((((..((((.,({(....})).,))))..)}}),...   \nS0_M_T1000  ...,((((((((.,.({........}}..,,))))))).,|((,,....   \nS0_M_T1001  ....{.(((((((((({(((.{......((.((((((((,.{.......   \n...                                                       ...   \nS3_H_T9995  ,{(((((((.,(({{((((.....}}}}......(((............   \nS3_H_T9996  ((((((((((((((..(((..,.....}}.)})..))))))).......   \nS3_H_T9997  ,((,((((((((({...,,,,({..............,,)}....)...   \nS3_H_T9998  ((((..(((.....))).))))..((((..(((((((((,((.(((...   \nS3_H_T9999  ..(((({({.,((((((...((((.({(.......((((((....{...   \n\n            log2_deg_rate_a_plus  log2_x0_a_plus  onset_time_a_plus  \\\nid                                                                    \nS0_M_T1                      NaN             NaN                NaN   \nS0_M_T10                 -2.7469          2.7887                1.0   \nS0_M_T100                    NaN             NaN                NaN   \nS0_M_T1000                   NaN             NaN                NaN   \nS0_M_T1001                   NaN             NaN                NaN   \n...                          ...             ...                ...   \nS3_H_T9995                   NaN             NaN                NaN   \nS3_H_T9996               -2.5808          3.4966                1.0   \nS3_H_T9997                   NaN             NaN                NaN   \nS3_H_T9998                   NaN             NaN                NaN   \nS3_H_T9999                   NaN             NaN                NaN   \n\n            log2_deg_rate_a_minus  log2_x0_a_minus  onset_time_a_minus  \nid                                                                      \nS0_M_T1                       NaN              NaN                 NaN  \nS0_M_T10                  -2.1721           2.5964                 1.0  \nS0_M_T100                     NaN              NaN                 NaN  \nS0_M_T1000                    NaN              NaN                 NaN  \nS0_M_T1001                    NaN              NaN                 NaN  \n...                           ...              ...                 ...  \nS3_H_T9995                    NaN              NaN                 NaN  \nS3_H_T9996                -2.3105           3.3307                 1.0  \nS3_H_T9997                    NaN              NaN                 NaN  \nS3_H_T9998                    NaN              NaN                 NaN  \nS3_H_T9999                    NaN              NaN                 NaN  \n\n[90000 rows x 10 columns]",
      "text/html": "<div>\n<style scoped>\n    .dataframe tbody tr th:only-of-type {\n        vertical-align: middle;\n    }\n\n    .dataframe tbody tr th {\n        vertical-align: top;\n    }\n\n    .dataframe thead th {\n        text-align: right;\n    }\n</style>\n<table border=\"1\" class=\"dataframe\">\n  <thead>\n    <tr style=\"text-align: right;\">\n      <th></th>\n      <th>sequence</th>\n      <th>secondary_structure</th>\n      <th>free_energy</th>\n      <th>secondary_structure_prob</th>\n      <th>log2_deg_rate_a_plus</th>\n      <th>log2_x0_a_plus</th>\n      <th>onset_time_a_plus</th>\n      <th>log2_deg_rate_a_minus</th>\n      <th>log2_x0_a_minus</th>\n      <th>onset_time_a_minus</th>\n    </tr>\n    <tr>\n      <th>id</th>\n      <th></th>\n      <th></th>\n      <th></th>\n      <th></th>\n      <th></th>\n      <th></th>\n      <th></th>\n      <th></th>\n      <th></th>\n      <th></th>\n    </tr>\n  </thead>\n  <tbody>\n    <tr>\n      <th>S0_M_T1</th>\n      <td>TGTCCCCGGGTCTTCCAACGGACTGGCGTTGCCCCGGTTCACTGGG...</td>\n      <td>.(.((((((((....(((((......)))))((((((....)))))...</td>\n      <td>-45.92</td>\n      <td>.(.((((((((.,,,{{..(|||{((|{..,{{||||,,,.}))))...</td>\n      <td>NaN</td>\n      <td>NaN</td>\n      <td>NaN</td>\n      <td>NaN</td>\n      <td>NaN</td>\n      <td>NaN</td>\n    </tr>\n    <tr>\n      <th>S0_M_T10</th>\n      <td>AGATTTTTGGTTCAATATGCTCCTTGAGTGGAGTCTTAGTGATTGC...</td>\n      <td>........(((((.....(((((......)))))...(((((..((...</td>\n      <td>-31.17</td>\n      <td>........(((((,.,..(((((......))))}...{({({..({...</td>\n      <td>-2.7469</td>\n      <td>2.7887</td>\n      <td>1.0</td>\n      <td>-2.1721</td>\n      <td>2.5964</td>\n      <td>1.0</td>\n    </tr>\n    <tr>\n      <th>S0_M_T100</th>\n      <td>ACCCGGCGCCGCTCGACCCGGAGCGAGGAGTTGACCCGGAGCGAGG...</td>\n      <td>....((((((.((((..((((..(((....)))..))))..))))....</td>\n      <td>-41.95</td>\n      <td>....((((((.((((..((((.,({(....})).,))))..)}}),...</td>\n      <td>NaN</td>\n      <td>NaN</td>\n      <td>NaN</td>\n      <td>NaN</td>\n      <td>NaN</td>\n      <td>NaN</td>\n    </tr>\n    <tr>\n      <th>S0_M_T1000</th>\n      <td>ATGAGGGCTGGAATTTGCATTGAAACACTGGTCCAGTCGCTGTGTA...</td>\n      <td>.....(((((((...((........))....)))))))..(((......</td>\n      <td>-23.18</td>\n      <td>...,((((((((.,.({........}}..,,))))))).,|((,,....</td>\n      <td>NaN</td>\n      <td>NaN</td>\n      <td>NaN</td>\n      <td>NaN</td>\n      <td>NaN</td>\n      <td>NaN</td>\n    </tr>\n    <tr>\n      <th>S0_M_T1001</th>\n      <td>CCTTAGTGCCCTTAAAATAATGATTTAAGCATTTTACTGTATGTAT...</td>\n      <td>....(.((((((((((.(((.(......((.(((((((((.(.......</td>\n      <td>-30.84</td>\n      <td>....{.(((((((((({(((.{......((.((((((((,.{.......</td>\n      <td>NaN</td>\n      <td>NaN</td>\n      <td>NaN</td>\n      <td>NaN</td>\n      <td>NaN</td>\n      <td>NaN</td>\n    </tr>\n    <tr>\n      <th>...</th>\n      <td>...</td>\n      <td>...</td>\n      <td>...</td>\n      <td>...</td>\n      <td>...</td>\n      <td>...</td>\n      <td>...</td>\n      <td>...</td>\n      <td>...</td>\n      <td>...</td>\n    </tr>\n    <tr>\n      <th>S3_H_T9995</th>\n      <td>TTGTAGCTGTCAATTGTATTTAATATACTTTTTTGTCTTTTTAATT...</td>\n      <td>((((..(((.((((((.((((((...........(((............</td>\n      <td>-18.50</td>\n      <td>,{(((((((.,(({{((((.....}}}}......(((............</td>\n      <td>NaN</td>\n      <td>NaN</td>\n      <td>NaN</td>\n      <td>NaN</td>\n      <td>NaN</td>\n      <td>NaN</td>\n    </tr>\n    <tr>\n      <th>S3_H_T9996</th>\n      <td>AAAACACCACTACATATGTTTCTCATAAGCGCAACTGTAGTGTTAT...</td>\n      <td>((((((((((((((..(((..((....)).)))..))))))).......</td>\n      <td>-19.40</td>\n      <td>((((((((((((((..(((..,.....}}.)})..))))))).......</td>\n      <td>-2.5808</td>\n      <td>3.4966</td>\n      <td>1.0</td>\n      <td>-2.3105</td>\n      <td>3.3307</td>\n      <td>1.0</td>\n    </tr>\n    <tr>\n      <th>S3_H_T9997</th>\n      <td>AGGATTTTTTTTTTCACCAATGCTCTTTAATACACACTTGCCTATA...</td>\n      <td>.(((..((((((((.......((................))........</td>\n      <td>-20.95</td>\n      <td>,((,((((((((({...,,,,({..............,,)}....)...</td>\n      <td>NaN</td>\n      <td>NaN</td>\n      <td>NaN</td>\n      <td>NaN</td>\n      <td>NaN</td>\n      <td>NaN</td>\n    </tr>\n    <tr>\n      <th>S3_H_T9998</th>\n      <td>GGTGCTTCAAAGAGTGATTACCCACTAACTAATGAACCCAGACTGT...</td>\n      <td>((((..(((.....))).))))..((((..((((((((((((.(((...</td>\n      <td>-28.53</td>\n      <td>((((..(((.....))).))))..((((..(((((((((,((.(((...</td>\n      <td>NaN</td>\n      <td>NaN</td>\n      <td>NaN</td>\n      <td>NaN</td>\n      <td>NaN</td>\n      <td>NaN</td>\n    </tr>\n    <tr>\n      <th>S3_H_T9999</th>\n      <td>CTGCAACCATAACTCTAATTGTAGATGTGAAGAAGATTAATGACAG...</td>\n      <td>..(((((((..((((((...((((.(((.......((((((....(...</td>\n      <td>-20.03</td>\n      <td>..(((({({.,((((((...((((.({(.......((((((....{...</td>\n      <td>NaN</td>\n      <td>NaN</td>\n      <td>NaN</td>\n      <td>NaN</td>\n      <td>NaN</td>\n      <td>NaN</td>\n    </tr>\n  </tbody>\n</table>\n<p>90000 rows × 10 columns</p>\n</div>"
     },
     "execution_count": 2,
     "metadata": {},
     "output_type": "execute_result"
    }
   ]
  },
  {
   "cell_type": "code",
   "execution_count": 3,
   "outputs": [
    {
     "data": {
      "text/plain": "                                                     sequence  \\\nid                                                              \nS0_M_T1     GGAGATCTGAGTTCAAGGATTGTCCCCGGGTCTTCCAACGGACTGG...   \nS0_M_T10    GGAGATCTGAGTTCAAGGATAGATTTTTGGTTCAATATGCTCCTTG...   \nS0_M_T100   GGAGATCTGAGTTCAAGGATACCCGGCGCCGCTCGACCCGGAGCGA...   \nS0_M_T1000  GGAGATCTGAGTTCAAGGATATGAGGGCTGGAATTTGCATTGAAAC...   \nS0_M_T1001  GGAGATCTGAGTTCAAGGATCCTTAGTGCCCTTAAAATAATGATTT...   \n...                                                       ...   \nS3_H_T9995  GGAGATCTGAGTTCAAGGATTTGTAGCTGTCAATTGTATTTAATAT...   \nS3_H_T9996  GGAGATCTGAGTTCAAGGATAAAACACCACTACATATGTTTCTCAT...   \nS3_H_T9997  GGAGATCTGAGTTCAAGGATAGGATTTTTTTTTTCACCAATGCTCT...   \nS3_H_T9998  GGAGATCTGAGTTCAAGGATGGTGCTTCAAAGAGTGATTACCCACT...   \nS3_H_T9999  GGAGATCTGAGTTCAAGGATCTGCAACCATAACTCTAATTGTAGAT...   \n\n                                          secondary_structure  free_energy  \\\nid                                                                           \nS0_M_T1     .(.((((((((....(((((......)))))((((((....)))))...       -45.92   \nS0_M_T10    ........(((((.....(((((......)))))...(((((..((...       -31.17   \nS0_M_T100   ....((((((.((((..((((..(((....)))..))))..))))....       -41.95   \nS0_M_T1000  .....(((((((...((........))....)))))))..(((......       -23.18   \nS0_M_T1001  ....(.((((((((((.(((.(......((.(((((((((.(.......       -30.84   \n...                                                       ...          ...   \nS3_H_T9995  ((((..(((.((((((.((((((...........(((............       -18.50   \nS3_H_T9996  ((((((((((((((..(((..((....)).)))..))))))).......       -19.40   \nS3_H_T9997  .(((..((((((((.......((................))........       -20.95   \nS3_H_T9998  ((((..(((.....))).))))..((((..((((((((((((.(((...       -28.53   \nS3_H_T9999  ..(((((((..((((((...((((.(((.......((((((....(...       -20.03   \n\n                                     secondary_structure_prob  \\\nid                                                              \nS0_M_T1     .(.((((((((.,,,{{..(|||{((|{..,{{||||,,,.}))))...   \nS0_M_T10    ........(((((,.,..(((((......))))}...{({({..({...   \nS0_M_T100   ....((((((.((((..((((.,({(....})).,))))..)}}),...   \nS0_M_T1000  ...,((((((((.,.({........}}..,,))))))).,|((,,....   \nS0_M_T1001  ....{.(((((((((({(((.{......((.((((((((,.{.......   \n...                                                       ...   \nS3_H_T9995  ,{(((((((.,(({{((((.....}}}}......(((............   \nS3_H_T9996  ((((((((((((((..(((..,.....}}.)})..))))))).......   \nS3_H_T9997  ,((,((((((((({...,,,,({..............,,)}....)...   \nS3_H_T9998  ((((..(((.....))).))))..((((..(((((((((,((.(((...   \nS3_H_T9999  ..(((({({.,((((((...((((.({(.......((((((....{...   \n\n            log2_deg_rate_a_plus  log2_x0_a_plus  onset_time_a_plus  \\\nid                                                                    \nS0_M_T1                      NaN             NaN                NaN   \nS0_M_T10                 -2.7469          2.7887                1.0   \nS0_M_T100                    NaN             NaN                NaN   \nS0_M_T1000                   NaN             NaN                NaN   \nS0_M_T1001                   NaN             NaN                NaN   \n...                          ...             ...                ...   \nS3_H_T9995                   NaN             NaN                NaN   \nS3_H_T9996               -2.5808          3.4966                1.0   \nS3_H_T9997                   NaN             NaN                NaN   \nS3_H_T9998                   NaN             NaN                NaN   \nS3_H_T9999                   NaN             NaN                NaN   \n\n            log2_deg_rate_a_minus  log2_x0_a_minus  onset_time_a_minus  \nid                                                                      \nS0_M_T1                       NaN              NaN                 NaN  \nS0_M_T10                  -2.1721           2.5964                 1.0  \nS0_M_T100                     NaN              NaN                 NaN  \nS0_M_T1000                    NaN              NaN                 NaN  \nS0_M_T1001                    NaN              NaN                 NaN  \n...                           ...              ...                 ...  \nS3_H_T9995                    NaN              NaN                 NaN  \nS3_H_T9996                -2.3105           3.3307                 1.0  \nS3_H_T9997                    NaN              NaN                 NaN  \nS3_H_T9998                    NaN              NaN                 NaN  \nS3_H_T9999                    NaN              NaN                 NaN  \n\n[90000 rows x 10 columns]",
      "text/html": "<div>\n<style scoped>\n    .dataframe tbody tr th:only-of-type {\n        vertical-align: middle;\n    }\n\n    .dataframe tbody tr th {\n        vertical-align: top;\n    }\n\n    .dataframe thead th {\n        text-align: right;\n    }\n</style>\n<table border=\"1\" class=\"dataframe\">\n  <thead>\n    <tr style=\"text-align: right;\">\n      <th></th>\n      <th>sequence</th>\n      <th>secondary_structure</th>\n      <th>free_energy</th>\n      <th>secondary_structure_prob</th>\n      <th>log2_deg_rate_a_plus</th>\n      <th>log2_x0_a_plus</th>\n      <th>onset_time_a_plus</th>\n      <th>log2_deg_rate_a_minus</th>\n      <th>log2_x0_a_minus</th>\n      <th>onset_time_a_minus</th>\n    </tr>\n    <tr>\n      <th>id</th>\n      <th></th>\n      <th></th>\n      <th></th>\n      <th></th>\n      <th></th>\n      <th></th>\n      <th></th>\n      <th></th>\n      <th></th>\n      <th></th>\n    </tr>\n  </thead>\n  <tbody>\n    <tr>\n      <th>S0_M_T1</th>\n      <td>GGAGATCTGAGTTCAAGGATTGTCCCCGGGTCTTCCAACGGACTGG...</td>\n      <td>.(.((((((((....(((((......)))))((((((....)))))...</td>\n      <td>-45.92</td>\n      <td>.(.((((((((.,,,{{..(|||{((|{..,{{||||,,,.}))))...</td>\n      <td>NaN</td>\n      <td>NaN</td>\n      <td>NaN</td>\n      <td>NaN</td>\n      <td>NaN</td>\n      <td>NaN</td>\n    </tr>\n    <tr>\n      <th>S0_M_T10</th>\n      <td>GGAGATCTGAGTTCAAGGATAGATTTTTGGTTCAATATGCTCCTTG...</td>\n      <td>........(((((.....(((((......)))))...(((((..((...</td>\n      <td>-31.17</td>\n      <td>........(((((,.,..(((((......))))}...{({({..({...</td>\n      <td>-2.7469</td>\n      <td>2.7887</td>\n      <td>1.0</td>\n      <td>-2.1721</td>\n      <td>2.5964</td>\n      <td>1.0</td>\n    </tr>\n    <tr>\n      <th>S0_M_T100</th>\n      <td>GGAGATCTGAGTTCAAGGATACCCGGCGCCGCTCGACCCGGAGCGA...</td>\n      <td>....((((((.((((..((((..(((....)))..))))..))))....</td>\n      <td>-41.95</td>\n      <td>....((((((.((((..((((.,({(....})).,))))..)}}),...</td>\n      <td>NaN</td>\n      <td>NaN</td>\n      <td>NaN</td>\n      <td>NaN</td>\n      <td>NaN</td>\n      <td>NaN</td>\n    </tr>\n    <tr>\n      <th>S0_M_T1000</th>\n      <td>GGAGATCTGAGTTCAAGGATATGAGGGCTGGAATTTGCATTGAAAC...</td>\n      <td>.....(((((((...((........))....)))))))..(((......</td>\n      <td>-23.18</td>\n      <td>...,((((((((.,.({........}}..,,))))))).,|((,,....</td>\n      <td>NaN</td>\n      <td>NaN</td>\n      <td>NaN</td>\n      <td>NaN</td>\n      <td>NaN</td>\n      <td>NaN</td>\n    </tr>\n    <tr>\n      <th>S0_M_T1001</th>\n      <td>GGAGATCTGAGTTCAAGGATCCTTAGTGCCCTTAAAATAATGATTT...</td>\n      <td>....(.((((((((((.(((.(......((.(((((((((.(.......</td>\n      <td>-30.84</td>\n      <td>....{.(((((((((({(((.{......((.((((((((,.{.......</td>\n      <td>NaN</td>\n      <td>NaN</td>\n      <td>NaN</td>\n      <td>NaN</td>\n      <td>NaN</td>\n      <td>NaN</td>\n    </tr>\n    <tr>\n      <th>...</th>\n      <td>...</td>\n      <td>...</td>\n      <td>...</td>\n      <td>...</td>\n      <td>...</td>\n      <td>...</td>\n      <td>...</td>\n      <td>...</td>\n      <td>...</td>\n      <td>...</td>\n    </tr>\n    <tr>\n      <th>S3_H_T9995</th>\n      <td>GGAGATCTGAGTTCAAGGATTTGTAGCTGTCAATTGTATTTAATAT...</td>\n      <td>((((..(((.((((((.((((((...........(((............</td>\n      <td>-18.50</td>\n      <td>,{(((((((.,(({{((((.....}}}}......(((............</td>\n      <td>NaN</td>\n      <td>NaN</td>\n      <td>NaN</td>\n      <td>NaN</td>\n      <td>NaN</td>\n      <td>NaN</td>\n    </tr>\n    <tr>\n      <th>S3_H_T9996</th>\n      <td>GGAGATCTGAGTTCAAGGATAAAACACCACTACATATGTTTCTCAT...</td>\n      <td>((((((((((((((..(((..((....)).)))..))))))).......</td>\n      <td>-19.40</td>\n      <td>((((((((((((((..(((..,.....}}.)})..))))))).......</td>\n      <td>-2.5808</td>\n      <td>3.4966</td>\n      <td>1.0</td>\n      <td>-2.3105</td>\n      <td>3.3307</td>\n      <td>1.0</td>\n    </tr>\n    <tr>\n      <th>S3_H_T9997</th>\n      <td>GGAGATCTGAGTTCAAGGATAGGATTTTTTTTTTCACCAATGCTCT...</td>\n      <td>.(((..((((((((.......((................))........</td>\n      <td>-20.95</td>\n      <td>,((,((((((((({...,,,,({..............,,)}....)...</td>\n      <td>NaN</td>\n      <td>NaN</td>\n      <td>NaN</td>\n      <td>NaN</td>\n      <td>NaN</td>\n      <td>NaN</td>\n    </tr>\n    <tr>\n      <th>S3_H_T9998</th>\n      <td>GGAGATCTGAGTTCAAGGATGGTGCTTCAAAGAGTGATTACCCACT...</td>\n      <td>((((..(((.....))).))))..((((..((((((((((((.(((...</td>\n      <td>-28.53</td>\n      <td>((((..(((.....))).))))..((((..(((((((((,((.(((...</td>\n      <td>NaN</td>\n      <td>NaN</td>\n      <td>NaN</td>\n      <td>NaN</td>\n      <td>NaN</td>\n      <td>NaN</td>\n    </tr>\n    <tr>\n      <th>S3_H_T9999</th>\n      <td>GGAGATCTGAGTTCAAGGATCTGCAACCATAACTCTAATTGTAGAT...</td>\n      <td>..(((((((..((((((...((((.(((.......((((((....(...</td>\n      <td>-20.03</td>\n      <td>..(((({({.,((((((...((((.({(.......((((((....{...</td>\n      <td>NaN</td>\n      <td>NaN</td>\n      <td>NaN</td>\n      <td>NaN</td>\n      <td>NaN</td>\n      <td>NaN</td>\n    </tr>\n  </tbody>\n</table>\n<p>90000 rows × 10 columns</p>\n</div>"
     },
     "execution_count": 3,
     "metadata": {},
     "output_type": "execute_result"
    }
   ],
   "source": [
    "# The DataFrame above contains truncated sequences, but we need the full ones\n",
    "complete_sequences = read_sequence_ids(\"data/3U_sequences_final.txt\")\n",
    "complete_sequences.set_index(\"id\", inplace=True)\n",
    "df[\"sequence\"] = complete_sequences[\"sequence\"]\n",
    "df"
   ],
   "metadata": {
    "collapsed": false,
    "pycharm": {
     "name": "#%%\n"
    }
   }
  },
  {
   "cell_type": "markdown",
   "source": [
    "# Linear Regression"
   ],
   "metadata": {
    "collapsed": false,
    "pycharm": {
     "name": "#%% md\n"
    }
   }
  },
  {
   "cell_type": "code",
   "execution_count": 4,
   "outputs": [],
   "source": [
    "model_a_plus = Model.load(\"data/run_linear_3U_40A_dg_BEST.out.mat\")\n",
    "model_a_minus = Model.load(\"data/run_linear_3U_00Am1_dg_BEST.out.mat\")"
   ],
   "metadata": {
    "collapsed": false,
    "pycharm": {
     "name": "#%%\n"
    }
   }
  },
  {
   "cell_type": "code",
   "execution_count": 5,
   "outputs": [
    {
     "name": "stderr",
     "output_type": "stream",
     "text": [
      "e:\\temp\\ai_project_venv\\lib\\site-packages\\ipykernel_launcher.py:1: RuntimeWarning: invalid value encountered in log2\n",
      "  \"\"\"Entry point for launching an IPython kernel.\n"
     ]
    }
   ],
   "source": [
    "prediction_a_minus = np.log2(model_a_minus.predict(df[\"sequence\"]))"
   ],
   "metadata": {
    "collapsed": false,
    "pycharm": {
     "name": "#%%\n"
    }
   }
  },
  {
   "cell_type": "code",
   "execution_count": 6,
   "outputs": [
    {
     "name": "stderr",
     "output_type": "stream",
     "text": [
      "e:\\temp\\ai_project_venv\\lib\\site-packages\\ipykernel_launcher.py:1: RuntimeWarning: invalid value encountered in log2\n",
      "  \"\"\"Entry point for launching an IPython kernel.\n"
     ]
    }
   ],
   "source": [
    "prediction_a_plus = np.log2(model_a_plus.predict(df[\"sequence\"]))"
   ],
   "metadata": {
    "collapsed": false,
    "pycharm": {
     "name": "#%%\n"
    }
   }
  },
  {
   "cell_type": "code",
   "execution_count": 7,
   "outputs": [],
   "source": [
    "prediction_df = pd.DataFrame({\"id\": df.index,\n",
    "                              \"a_minus\": prediction_a_minus.T[0],\n",
    "                              \"a_plus\": prediction_a_plus.T[0]})\n",
    "prediction_df.set_index(\"id\", inplace=True)"
   ],
   "metadata": {
    "collapsed": false,
    "pycharm": {
     "name": "#%%\n"
    }
   }
  },
  {
   "cell_type": "markdown",
   "source": [
    "## Compare against original predictions"
   ],
   "metadata": {
    "collapsed": false,
    "pycharm": {
     "name": "#%% md\n"
    }
   }
  },
  {
   "cell_type": "code",
   "execution_count": 8,
   "outputs": [],
   "source": [
    "compare_df, a_minus_clip, a_plus_clip = \\\n",
    "    read_original_predictions(\"data/models_full_dg.txt\")"
   ],
   "metadata": {
    "collapsed": false,
    "pycharm": {
     "name": "#%%\n"
    }
   }
  },
  {
   "cell_type": "code",
   "execution_count": 9,
   "outputs": [],
   "source": [
    "prediction_df[\"a_minus\"].fillna(a_minus_clip, inplace=True)\n",
    "prediction_df[\"a_minus\"].clip(lower=a_minus_clip, inplace=True)\n",
    "\n",
    "prediction_df[\"a_plus\"].fillna(a_plus_clip, inplace=True)\n",
    "prediction_df[\"a_plus\"].clip(lower=a_plus_clip, inplace=True)"
   ],
   "metadata": {
    "collapsed": false,
    "pycharm": {
     "name": "#%%\n"
    }
   }
  },
  {
   "cell_type": "code",
   "execution_count": 10,
   "outputs": [
    {
     "data": {
      "text/plain": "True"
     },
     "execution_count": 10,
     "metadata": {},
     "output_type": "execute_result"
    }
   ],
   "source": [
    "np.allclose(prediction_df[\"a_minus\"],\n",
    "            compare_df[\"a_minus\"],\n",
    "            atol=1e-4,\n",
    "            rtol=0,\n",
    "            equal_nan=True)"
   ],
   "metadata": {
    "collapsed": false,
    "pycharm": {
     "name": "#%%\n"
    }
   }
  },
  {
   "cell_type": "code",
   "execution_count": 11,
   "outputs": [
    {
     "data": {
      "text/plain": "True"
     },
     "execution_count": 11,
     "metadata": {},
     "output_type": "execute_result"
    }
   ],
   "source": [
    "np.allclose(prediction_df[\"a_plus\"],\n",
    "            compare_df[\"a_plus\"],\n",
    "            atol=1e-4,\n",
    "            rtol=0,\n",
    "            equal_nan=True)"
   ],
   "metadata": {
    "collapsed": false,
    "pycharm": {
     "name": "#%%\n"
    }
   }
  },
  {
   "cell_type": "markdown",
   "source": [
    "## Compare against \"ground truth\""
   ],
   "metadata": {
    "collapsed": false,
    "pycharm": {
     "name": "#%% md\n"
    }
   }
  },
  {
   "cell_type": "code",
   "execution_count": 12,
   "outputs": [
    {
     "data": {
      "text/plain": "                                                     sequence  \\\nid                                                              \nS0_M_T10    GGAGATCTGAGTTCAAGGATAGATTTTTGGTTCAATATGCTCCTTG...   \nS0_M_T1006  GGAGATCTGAGTTCAAGGATTAGATAGAGATCATCTTTACAGTTCC...   \nS0_M_T1009  GGAGATCTGAGTTCAAGGATTAGTTATTGTGTGTTGCTAATCATTG...   \nS0_M_T1013  GGAGATCTGAGTTCAAGGATTGATTCTAGTATATAATATTTTTGTC...   \nS0_M_T1014  GGAGATCTGAGTTCAAGGATTTCTAGACTTTCCAAGTATGTTGTCT...   \n...                                                       ...   \nS3_H_T9985  GGAGATCTGAGTTCAAGGATGTCCTTATTTACATGTTTCATTGAGC...   \nS3_H_T9987  GGAGATCTGAGTTCAAGGATTCAATGGTTACAGGTTTCAAACATTC...   \nS3_H_T9989  GGAGATCTGAGTTCAAGGATTGAAAGCACAGAGGGGCTGAGATTCT...   \nS3_H_T9990  GGAGATCTGAGTTCAAGGATAATTAAAGAGAGAGAGAGACGGAGAA...   \nS3_H_T9996  GGAGATCTGAGTTCAAGGATAAAACACCACTACATATGTTTCTCAT...   \n\n                                          secondary_structure  free_energy  \\\nid                                                                           \nS0_M_T10    ........(((((.....(((((......)))))...(((((..((...       -31.17   \nS0_M_T1006  ...(((((((((((...((((.((((...))))..))))...))))...       -26.55   \nS0_M_T1009  .....(((((((((((.(((.((..(((((.(((..((((((((((...       -33.05   \nS0_M_T1013  .......................((((.((....))))))...((....       -20.70   \nS0_M_T1014  .............(((..(((((((((......(((((......))...       -22.82   \n...                                                       ...          ...   \nS3_H_T9985  .............((((..(((((.........(((((((.((((....       -18.22   \nS3_H_T9987  (((((((((((((((((.......((..(((((........)))))...       -30.56   \nS3_H_T9989  .(((((((..((((.(((...........))).)))).)))))))....       -24.03   \nS3_H_T9990  .........((.(((((((((.((....((.(((.....))).)))...       -27.22   \nS3_H_T9996  ((((((((((((((..(((..((....)).)))..))))))).......       -19.40   \n\n                                     secondary_structure_prob  \\\nid                                                              \nS0_M_T10    ........(((((,.,..(((((......))))}...{({({..({...   \nS0_M_T1006  .,,({(((({((((...((((.((((...))))..))))...))))...   \nS0_M_T1009  ...,,(((((((((((.{((.{(..(((((.(((..((((((((((...   \nS0_M_T1013  .......,{,,............((((.((....))))))..,((....   \nS0_M_T1014  ......,,,,...|||,.,(((((,,{{((.{((((((......))...   \n...                                                       ...   \nS3_H_T9985  ,....,,,,...,((((,.((({{.........(((((((.((((....   \nS3_H_T9987  (((((((((((((((((.......{{..(((((........)))))...   \nS3_H_T9989  .((((({(.,((((,(((.,,...,....))).)))).))))))),...   \nS3_H_T9990  .........{(.(((((((((.,{....((.(((.....))).)),...   \nS3_H_T9996  ((((((((((((((..(((..,.....}}.)})..))))))).......   \n\n            log2_deg_rate_a_plus  log2_x0_a_plus  onset_time_a_plus  \\\nid                                                                    \nS0_M_T10               -2.746900          2.7887                1.0   \nS0_M_T1006             -2.495200          3.5146                1.0   \nS0_M_T1009             -2.550700          2.7105                1.0   \nS0_M_T1013             -2.327900          3.7761                1.0   \nS0_M_T1014             -1.623200          1.6160                4.8   \n...                          ...             ...                ...   \nS3_H_T9985             -2.027200          2.6826                1.0   \nS3_H_T9987             -2.589200          2.7555                1.0   \nS3_H_T9989              0.023414          1.2948                4.5   \nS3_H_T9990             -2.463100          1.5812                1.0   \nS3_H_T9996             -2.580800          3.4966                1.0   \n\n            log2_deg_rate_a_minus  log2_x0_a_minus  onset_time_a_minus  \nid                                                                      \nS0_M_T10                 -2.17210           2.5964                 1.0  \nS0_M_T1006               -1.94970           3.1963                 1.0  \nS0_M_T1009               -1.51500           2.8747                 1.0  \nS0_M_T1013               -1.89040           3.2967                 1.0  \nS0_M_T1014               -2.09580           2.1356                 1.0  \n...                           ...              ...                 ...  \nS3_H_T9985               -1.59040           2.5908                 1.0  \nS3_H_T9987               -2.05310           2.5282                 1.0  \nS3_H_T9989               -0.75861           1.4902                 3.0  \nS3_H_T9990               -2.71790           1.2301                 1.0  \nS3_H_T9996               -2.31050           3.3307                 1.0  \n\n[31318 rows x 10 columns]",
      "text/html": "<div>\n<style scoped>\n    .dataframe tbody tr th:only-of-type {\n        vertical-align: middle;\n    }\n\n    .dataframe tbody tr th {\n        vertical-align: top;\n    }\n\n    .dataframe thead th {\n        text-align: right;\n    }\n</style>\n<table border=\"1\" class=\"dataframe\">\n  <thead>\n    <tr style=\"text-align: right;\">\n      <th></th>\n      <th>sequence</th>\n      <th>secondary_structure</th>\n      <th>free_energy</th>\n      <th>secondary_structure_prob</th>\n      <th>log2_deg_rate_a_plus</th>\n      <th>log2_x0_a_plus</th>\n      <th>onset_time_a_plus</th>\n      <th>log2_deg_rate_a_minus</th>\n      <th>log2_x0_a_minus</th>\n      <th>onset_time_a_minus</th>\n    </tr>\n    <tr>\n      <th>id</th>\n      <th></th>\n      <th></th>\n      <th></th>\n      <th></th>\n      <th></th>\n      <th></th>\n      <th></th>\n      <th></th>\n      <th></th>\n      <th></th>\n    </tr>\n  </thead>\n  <tbody>\n    <tr>\n      <th>S0_M_T10</th>\n      <td>GGAGATCTGAGTTCAAGGATAGATTTTTGGTTCAATATGCTCCTTG...</td>\n      <td>........(((((.....(((((......)))))...(((((..((...</td>\n      <td>-31.17</td>\n      <td>........(((((,.,..(((((......))))}...{({({..({...</td>\n      <td>-2.746900</td>\n      <td>2.7887</td>\n      <td>1.0</td>\n      <td>-2.17210</td>\n      <td>2.5964</td>\n      <td>1.0</td>\n    </tr>\n    <tr>\n      <th>S0_M_T1006</th>\n      <td>GGAGATCTGAGTTCAAGGATTAGATAGAGATCATCTTTACAGTTCC...</td>\n      <td>...(((((((((((...((((.((((...))))..))))...))))...</td>\n      <td>-26.55</td>\n      <td>.,,({(((({((((...((((.((((...))))..))))...))))...</td>\n      <td>-2.495200</td>\n      <td>3.5146</td>\n      <td>1.0</td>\n      <td>-1.94970</td>\n      <td>3.1963</td>\n      <td>1.0</td>\n    </tr>\n    <tr>\n      <th>S0_M_T1009</th>\n      <td>GGAGATCTGAGTTCAAGGATTAGTTATTGTGTGTTGCTAATCATTG...</td>\n      <td>.....(((((((((((.(((.((..(((((.(((..((((((((((...</td>\n      <td>-33.05</td>\n      <td>...,,(((((((((((.{((.{(..(((((.(((..((((((((((...</td>\n      <td>-2.550700</td>\n      <td>2.7105</td>\n      <td>1.0</td>\n      <td>-1.51500</td>\n      <td>2.8747</td>\n      <td>1.0</td>\n    </tr>\n    <tr>\n      <th>S0_M_T1013</th>\n      <td>GGAGATCTGAGTTCAAGGATTGATTCTAGTATATAATATTTTTGTC...</td>\n      <td>.......................((((.((....))))))...((....</td>\n      <td>-20.70</td>\n      <td>.......,{,,............((((.((....))))))..,((....</td>\n      <td>-2.327900</td>\n      <td>3.7761</td>\n      <td>1.0</td>\n      <td>-1.89040</td>\n      <td>3.2967</td>\n      <td>1.0</td>\n    </tr>\n    <tr>\n      <th>S0_M_T1014</th>\n      <td>GGAGATCTGAGTTCAAGGATTTCTAGACTTTCCAAGTATGTTGTCT...</td>\n      <td>.............(((..(((((((((......(((((......))...</td>\n      <td>-22.82</td>\n      <td>......,,,,...|||,.,(((((,,{{((.{((((((......))...</td>\n      <td>-1.623200</td>\n      <td>1.6160</td>\n      <td>4.8</td>\n      <td>-2.09580</td>\n      <td>2.1356</td>\n      <td>1.0</td>\n    </tr>\n    <tr>\n      <th>...</th>\n      <td>...</td>\n      <td>...</td>\n      <td>...</td>\n      <td>...</td>\n      <td>...</td>\n      <td>...</td>\n      <td>...</td>\n      <td>...</td>\n      <td>...</td>\n      <td>...</td>\n    </tr>\n    <tr>\n      <th>S3_H_T9985</th>\n      <td>GGAGATCTGAGTTCAAGGATGTCCTTATTTACATGTTTCATTGAGC...</td>\n      <td>.............((((..(((((.........(((((((.((((....</td>\n      <td>-18.22</td>\n      <td>,....,,,,...,((((,.((({{.........(((((((.((((....</td>\n      <td>-2.027200</td>\n      <td>2.6826</td>\n      <td>1.0</td>\n      <td>-1.59040</td>\n      <td>2.5908</td>\n      <td>1.0</td>\n    </tr>\n    <tr>\n      <th>S3_H_T9987</th>\n      <td>GGAGATCTGAGTTCAAGGATTCAATGGTTACAGGTTTCAAACATTC...</td>\n      <td>(((((((((((((((((.......((..(((((........)))))...</td>\n      <td>-30.56</td>\n      <td>(((((((((((((((((.......{{..(((((........)))))...</td>\n      <td>-2.589200</td>\n      <td>2.7555</td>\n      <td>1.0</td>\n      <td>-2.05310</td>\n      <td>2.5282</td>\n      <td>1.0</td>\n    </tr>\n    <tr>\n      <th>S3_H_T9989</th>\n      <td>GGAGATCTGAGTTCAAGGATTGAAAGCACAGAGGGGCTGAGATTCT...</td>\n      <td>.(((((((..((((.(((...........))).)))).)))))))....</td>\n      <td>-24.03</td>\n      <td>.((((({(.,((((,(((.,,...,....))).)))).))))))),...</td>\n      <td>0.023414</td>\n      <td>1.2948</td>\n      <td>4.5</td>\n      <td>-0.75861</td>\n      <td>1.4902</td>\n      <td>3.0</td>\n    </tr>\n    <tr>\n      <th>S3_H_T9990</th>\n      <td>GGAGATCTGAGTTCAAGGATAATTAAAGAGAGAGAGAGACGGAGAA...</td>\n      <td>.........((.(((((((((.((....((.(((.....))).)))...</td>\n      <td>-27.22</td>\n      <td>.........{(.(((((((((.,{....((.(((.....))).)),...</td>\n      <td>-2.463100</td>\n      <td>1.5812</td>\n      <td>1.0</td>\n      <td>-2.71790</td>\n      <td>1.2301</td>\n      <td>1.0</td>\n    </tr>\n    <tr>\n      <th>S3_H_T9996</th>\n      <td>GGAGATCTGAGTTCAAGGATAAAACACCACTACATATGTTTCTCAT...</td>\n      <td>((((((((((((((..(((..((....)).)))..))))))).......</td>\n      <td>-19.40</td>\n      <td>((((((((((((((..(((..,.....}}.)})..))))))).......</td>\n      <td>-2.580800</td>\n      <td>3.4966</td>\n      <td>1.0</td>\n      <td>-2.31050</td>\n      <td>3.3307</td>\n      <td>1.0</td>\n    </tr>\n  </tbody>\n</table>\n<p>31318 rows × 10 columns</p>\n</div>"
     },
     "execution_count": 12,
     "metadata": {},
     "output_type": "execute_result"
    }
   ],
   "source": [
    "available_deg_rates = df.dropna()\n",
    "available_deg_rates"
   ],
   "metadata": {
    "collapsed": false,
    "pycharm": {
     "name": "#%%\n"
    }
   }
  },
  {
   "cell_type": "code",
   "execution_count": 13,
   "outputs": [
    {
     "data": {
      "text/plain": "0.3703773304161375"
     },
     "execution_count": 13,
     "metadata": {},
     "output_type": "execute_result"
    }
   ],
   "source": [
    "mean_squared_error(y_true=available_deg_rates[\"log2_deg_rate_a_minus\"],\n",
    "                   y_pred=prediction_df.loc[available_deg_rates.index][\"a_minus\"])"
   ],
   "metadata": {
    "collapsed": false,
    "pycharm": {
     "name": "#%%\n"
    }
   }
  },
  {
   "cell_type": "code",
   "execution_count": 14,
   "outputs": [
    {
     "data": {
      "text/plain": "0.6929771096312785"
     },
     "execution_count": 14,
     "metadata": {},
     "output_type": "execute_result"
    }
   ],
   "source": [
    "mean_squared_error(y_true=available_deg_rates[\"log2_deg_rate_a_plus\"],\n",
    "                   y_pred=prediction_df.loc[available_deg_rates.index][\"a_plus\"])"
   ],
   "metadata": {
    "collapsed": false,
    "pycharm": {
     "name": "#%%\n"
    }
   }
  }
 ]
}