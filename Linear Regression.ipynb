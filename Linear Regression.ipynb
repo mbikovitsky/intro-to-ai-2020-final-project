{
 "nbformat": 4,
 "nbformat_minor": 0,
 "metadata": {
  "colab": {
   "name": "Untitled0.ipynb",
   "provenance": [],
   "private_outputs": true
  },
  "kernelspec": {
   "name": "python3",
   "language": "python",
   "display_name": "Python 3"
  }
 },
 "cells": [
  {
   "cell_type": "code",
   "metadata": {
    "id": "Pq3KQLc-BmvM",
    "colab_type": "code",
    "colab": {}
   },
   "source": [
    "import re\n",
    "from typing import Union, List, NamedTuple\n",
    "\n",
    "import numpy as np\n",
    "import pandas as pd\n",
    "from scipy.io import loadmat\n",
    "from skbio.sequence import Sequence"
   ],
   "execution_count": 1,
   "outputs": []
  },
  {
   "cell_type": "markdown",
   "metadata": {
    "id": "dhGnu_pRHMa1",
    "colab_type": "text"
   },
   "source": [
    "# Data pre-processing"
   ]
  },
  {
   "cell_type": "code",
   "metadata": {
    "id": "UNS9H1lfEqWd",
    "colab_type": "code",
    "colab": {}
   },
   "source": [
    "sequences = \\\n",
    "  pd.read_table(\"data/3U_sequences_final.txt\",\n",
    "                header=None,\n",
    "                names=[\"id\", \"sequence\"],\n",
    "                dtype={\"id\": str},\n",
    "                converters={\"sequence\": lambda string: string.upper()})"
   ],
   "execution_count": 2,
   "outputs": []
  },
  {
   "cell_type": "code",
   "metadata": {
    "id": "ij-cnJAma2vt",
    "colab_type": "code",
    "colab": {}
   },
   "source": [
    "deg_rate_a_plus = pd.read_table(\"data/3U.models.3U.40A.seq1022_param.txt\",\n",
    "                                header=None,\n",
    "                                names=[\"id\", \"log2_deg_rate\", \"log2_x0\", \"onset_time\"],\n",
    "                                dtype={\"id\": str})\n",
    "deg_rate_a_minus = pd.read_table(\"data/3U.models.3U.00A.seq1022_param.txt\",\n",
    "                                 header=None,\n",
    "                                 names=[\"id\", \"log2_deg_rate\", \"log2_x0\", \"onset_time\"],\n",
    "                                 dtype={\"id\": str})\n",
    "assert (deg_rate_a_plus[\"id\"] == deg_rate_a_minus[\"id\"]).all()"
   ],
   "execution_count": 3,
   "outputs": []
  },
  {
   "cell_type": "code",
   "execution_count": 5,
   "outputs": [],
   "source": [
    "def occurrences(string: Union[str, pd.Series, pd.Index], sub: str) -> np.ndarray:\n",
    "    \"\"\"\n",
    "    Count the overlapping occurrences of a string in another string.\n",
    "    \"\"\"\n",
    "    if isinstance(string, str):\n",
    "        string = pd.Series([string])\n",
    "    # https://stackoverflow.com/a/11706065/851560\n",
    "    return string.str.count(f\"(?={re.escape(sub)})\").to_numpy()"
   ],
   "metadata": {
    "collapsed": false,
    "pycharm": {
     "name": "#%%\n"
    }
   }
  },
  {
   "cell_type": "markdown",
   "source": [
    "# Linear Regression"
   ],
   "metadata": {
    "collapsed": false,
    "pycharm": {
     "name": "#%% md\n"
    }
   }
  },
  {
   "cell_type": "code",
   "execution_count": 6,
   "outputs": [],
   "source": [
    "class Model(NamedTuple):\n",
    "    coefficients: np.ndarray\n",
    "    intercept: np.float\n",
    "    kmers: List[str]\n",
    "\n",
    "    def predict(self, sequences: pd.Series) -> np.ndarray:\n",
    "        X = np.zeros((len(sequences), len(self.coefficients)), dtype=int)\n",
    "\n",
    "        # Count the occurrences of each feature k-mer in each of the sequences\n",
    "        # we are predicting.\n",
    "        for column, kmer in enumerate(self.kmers):\n",
    "            X[:, column] = occurrences(sequences, kmer)\n",
    "\n",
    "        prediction = X @ self.coefficients + self.intercept\n",
    "\n",
    "        return prediction\n",
    "\n",
    "def load_model(filename: str) -> Model:\n",
    "    raw_model = loadmat(filename)\n",
    "    kmers = [element[0][0] for element in raw_model[\"Krows\"]]\n",
    "\n",
    "    return Model(raw_model[\"B0\"], raw_model[\"b0\"][0][0], kmers)"
   ],
   "metadata": {
    "collapsed": false,
    "pycharm": {
     "name": "#%%\n"
    }
   }
  },
  {
   "cell_type": "code",
   "execution_count": 7,
   "outputs": [],
   "source": [
    "model_a_plus = load_model(\"data/run_linear_3U_40A_dg_BEST.out.mat\")\n",
    "model_a_minus = load_model(\"data/run_linear_3U_00Am1_dg_BEST.out.mat\")"
   ],
   "metadata": {
    "collapsed": false,
    "pycharm": {
     "name": "#%%\n"
    }
   }
  },
  {
   "cell_type": "code",
   "execution_count": 8,
   "outputs": [
    {
     "name": "stderr",
     "output_type": "stream",
     "text": [
      "c:\\users\\biko\\.virtualenvs\\intro-to-ai-2020-final-project-lrwtu9m0\\lib\\site-packages\\ipykernel_launcher.py:1: RuntimeWarning: invalid value encountered in log2\n",
      "  \"\"\"Entry point for launching an IPython kernel.\n"
     ]
    }
   ],
   "source": [
    "prediction_a_minus = np.log2(model_a_minus.predict(sequences[\"sequence\"]))"
   ],
   "metadata": {
    "collapsed": false,
    "pycharm": {
     "name": "#%%\n"
    }
   }
  },
  {
   "cell_type": "code",
   "execution_count": 9,
   "outputs": [
    {
     "name": "stderr",
     "output_type": "stream",
     "text": [
      "c:\\users\\biko\\.virtualenvs\\intro-to-ai-2020-final-project-lrwtu9m0\\lib\\site-packages\\ipykernel_launcher.py:1: RuntimeWarning: invalid value encountered in log2\n",
      "  \"\"\"Entry point for launching an IPython kernel.\n"
     ]
    }
   ],
   "source": [
    "prediction_a_plus = np.log2(model_a_plus.predict(sequences[\"sequence\"]))"
   ],
   "metadata": {
    "collapsed": false,
    "pycharm": {
     "name": "#%%\n"
    }
   }
  },
  {
   "cell_type": "code",
   "execution_count": 10,
   "outputs": [],
   "source": [
    "prediction_df = pd.DataFrame({\"id\": sequences[\"id\"],\n",
    "                              \"a_minus\": prediction_a_minus.T[0],\n",
    "                              \"a_plus\": prediction_a_plus.T[0]})\n",
    "prediction_df.sort_values(by=[\"id\"], inplace=True)"
   ],
   "metadata": {
    "collapsed": false,
    "pycharm": {
     "name": "#%%\n"
    }
   }
  },
  {
   "cell_type": "code",
   "execution_count": 11,
   "outputs": [],
   "source": [
    "compare_df = \\\n",
    "  pd.read_table(\"data/models_full_dg.txt\",\n",
    "                header=None,\n",
    "                names=[\"id\", \"a_plus\", \"a_minus\"])\n",
    "compare_df.sort_values(by=[\"id\"], inplace=True)\n",
    "\n",
    "assert compare_df.loc[0][\"id\"] == \"EMPTY\"\n",
    "a_minus_clip = compare_df.loc[0][\"a_minus\"]\n",
    "a_plus_clip = compare_df.loc[0][\"a_plus\"]\n",
    "\n",
    "compare_df.drop(0, inplace=True)"
   ],
   "metadata": {
    "collapsed": false,
    "pycharm": {
     "name": "#%%\n"
    }
   }
  },
  {
   "cell_type": "code",
   "execution_count": 12,
   "outputs": [],
   "source": [
    "prediction_df[\"a_minus\"].fillna(a_minus_clip, inplace=True)\n",
    "prediction_df[\"a_minus\"].clip(lower=a_minus_clip, inplace=True)\n",
    "\n",
    "prediction_df[\"a_plus\"].fillna(a_plus_clip, inplace=True)\n",
    "prediction_df[\"a_plus\"].clip(lower=a_plus_clip, inplace=True)"
   ],
   "metadata": {
    "collapsed": false,
    "pycharm": {
     "name": "#%%\n"
    }
   }
  },
  {
   "cell_type": "code",
   "execution_count": 13,
   "outputs": [
    {
     "data": {
      "text/plain": "True"
     },
     "execution_count": 13,
     "metadata": {},
     "output_type": "execute_result"
    }
   ],
   "source": [
    "np.allclose(prediction_df[\"a_minus\"].to_numpy(), compare_df[\"a_minus\"].to_numpy(), atol=1e-4, rtol=0, equal_nan=True)"
   ],
   "metadata": {
    "collapsed": false,
    "pycharm": {
     "name": "#%%\n"
    }
   }
  },
  {
   "cell_type": "code",
   "execution_count": 14,
   "outputs": [
    {
     "data": {
      "text/plain": "True"
     },
     "execution_count": 14,
     "metadata": {},
     "output_type": "execute_result"
    }
   ],
   "source": [
    "np.allclose(prediction_df[\"a_plus\"].to_numpy(), compare_df[\"a_plus\"].to_numpy(), atol=1e-4, rtol=0, equal_nan=True)"
   ],
   "metadata": {
    "collapsed": false,
    "pycharm": {
     "name": "#%%\n"
    }
   }
  }
 ]
}