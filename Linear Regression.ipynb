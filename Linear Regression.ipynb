{
 "nbformat": 4,
 "nbformat_minor": 0,
 "metadata": {
  "colab": {
   "name": "Untitled0.ipynb",
   "provenance": [],
   "private_outputs": true
  },
  "kernelspec": {
   "name": "python3",
   "language": "python",
   "display_name": "Python 3"
  }
 },
 "cells": [
  {
   "cell_type": "code",
   "metadata": {
    "id": "Pq3KQLc-BmvM",
    "colab_type": "code",
    "colab": {}
   },
   "source": [
    "import numpy as np\n",
    "import pandas as pd\n",
    "\n",
    "from linear_regression import Model\n",
    "from preprocessing import read_sequence_ids, read_original_predictions"
   ],
   "execution_count": null,
   "outputs": []
  },
  {
   "cell_type": "markdown",
   "metadata": {
    "id": "dhGnu_pRHMa1",
    "colab_type": "text"
   },
   "source": [
    "# Data pre-processing"
   ]
  },
  {
   "cell_type": "code",
   "metadata": {
    "id": "UNS9H1lfEqWd",
    "colab_type": "code",
    "colab": {}
   },
   "source": [
    "sequences = read_sequence_ids(\"data/3U_sequences_final.txt\")"
   ],
   "execution_count": null,
   "outputs": []
  },
  {
   "cell_type": "markdown",
   "source": [
    "# Linear Regression"
   ],
   "metadata": {
    "collapsed": false,
    "pycharm": {
     "name": "#%% md\n"
    }
   }
  },
  {
   "cell_type": "code",
   "execution_count": null,
   "outputs": [],
   "source": [
    "model_a_plus = Model.load(\"data/run_linear_3U_40A_dg_BEST.out.mat\")\n",
    "model_a_minus = Model.load(\"data/run_linear_3U_00Am1_dg_BEST.out.mat\")"
   ],
   "metadata": {
    "collapsed": false,
    "pycharm": {
     "name": "#%%\n"
    }
   }
  },
  {
   "cell_type": "code",
   "execution_count": null,
   "outputs": [],
   "source": [
    "prediction_a_minus = np.log2(model_a_minus.predict(sequences[\"sequence\"]))"
   ],
   "metadata": {
    "collapsed": false,
    "pycharm": {
     "name": "#%%\n"
    }
   }
  },
  {
   "cell_type": "code",
   "execution_count": null,
   "outputs": [],
   "source": [
    "prediction_a_plus = np.log2(model_a_plus.predict(sequences[\"sequence\"]))"
   ],
   "metadata": {
    "collapsed": false,
    "pycharm": {
     "name": "#%%\n"
    }
   }
  },
  {
   "cell_type": "code",
   "execution_count": null,
   "outputs": [],
   "source": [
    "prediction_df = pd.DataFrame({\"id\": sequences[\"id\"],\n",
    "                              \"a_minus\": prediction_a_minus.T[0],\n",
    "                              \"a_plus\": prediction_a_plus.T[0]})\n",
    "prediction_df.sort_values(by=[\"id\"], inplace=True)"
   ],
   "metadata": {
    "collapsed": false,
    "pycharm": {
     "name": "#%%\n"
    }
   }
  },
  {
   "cell_type": "code",
   "execution_count": null,
   "outputs": [],
   "source": [
    "compare_df, a_minus_clip, a_plus_clip = read_original_predictions(\"data/models_full_dg.txt\")"
   ],
   "metadata": {
    "collapsed": false,
    "pycharm": {
     "name": "#%%\n"
    }
   }
  },
  {
   "cell_type": "code",
   "execution_count": null,
   "outputs": [],
   "source": [
    "prediction_df[\"a_minus\"].fillna(a_minus_clip, inplace=True)\n",
    "prediction_df[\"a_minus\"].clip(lower=a_minus_clip, inplace=True)\n",
    "\n",
    "prediction_df[\"a_plus\"].fillna(a_plus_clip, inplace=True)\n",
    "prediction_df[\"a_plus\"].clip(lower=a_plus_clip, inplace=True)"
   ],
   "metadata": {
    "collapsed": false,
    "pycharm": {
     "name": "#%%\n"
    }
   }
  },
  {
   "cell_type": "code",
   "execution_count": null,
   "outputs": [],
   "source": [
    "np.allclose(prediction_df[\"a_minus\"].to_numpy(), compare_df[\"a_minus\"].to_numpy(), atol=1e-4, rtol=0, equal_nan=True)"
   ],
   "metadata": {
    "collapsed": false,
    "pycharm": {
     "name": "#%%\n"
    }
   }
  },
  {
   "cell_type": "code",
   "execution_count": null,
   "outputs": [],
   "source": [
    "np.allclose(prediction_df[\"a_plus\"].to_numpy(), compare_df[\"a_plus\"].to_numpy(), atol=1e-4, rtol=0, equal_nan=True)"
   ],
   "metadata": {
    "collapsed": false,
    "pycharm": {
     "name": "#%%\n"
    }
   }
  }
 ]
}