{
 "nbformat": 4,
 "nbformat_minor": 0,
 "metadata": {
  "colab": {
   "name": "Untitled0.ipynb",
   "provenance": [],
   "private_outputs": true
  },
  "kernelspec": {
   "name": "python3",
   "language": "python",
   "display_name": "Python 3"
  }
 },
 "cells": [
  {
   "cell_type": "code",
   "metadata": {
    "id": "Pq3KQLc-BmvM",
    "colab_type": "code",
    "colab": {}
   },
   "source": [
    "import numpy as np\n",
    "import pandas as pd\n",
    "from skbio.sequence import Sequence\n",
    "from sklearn.linear_model import LassoCV, LinearRegression"
   ],
   "execution_count": 1,
   "outputs": []
  },
  {
   "cell_type": "markdown",
   "metadata": {
    "id": "dhGnu_pRHMa1",
    "colab_type": "text"
   },
   "source": [
    "# Data pre-processing"
   ]
  },
  {
   "cell_type": "code",
   "metadata": {
    "id": "UNS9H1lfEqWd",
    "colab_type": "code",
    "colab": {}
   },
   "source": [
    "sequences = \\\n",
    "  pd.read_table(\"data/3U_sequences_final.txt\",\n",
    "                header=None,\n",
    "                names=[\"id\", \"sequence\"],\n",
    "                dtype={\"id\": str},\n",
    "                converters={\"sequence\": lambda string: Sequence(string.upper())})"
   ],
   "execution_count": 2,
   "outputs": []
  },
  {
   "cell_type": "code",
   "metadata": {
    "id": "ij-cnJAma2vt",
    "colab_type": "code",
    "colab": {}
   },
   "source": [
    "deg_rate_a_plus = pd.read_table(\"data/3U.models.3U.40A.seq1022_param.txt\",\n",
    "                                header=None,\n",
    "                                names=[\"id\", \"log2_deg_rate\", \"log2_x0\", \"onset_time\"],\n",
    "                                dtype={\"id\": str})\n",
    "deg_rate_a_minus = pd.read_table(\"data/3U.models.3U.00A.seq1022_param.txt\",\n",
    "                                 header=None,\n",
    "                                 names=[\"id\", \"log2_deg_rate\", \"log2_x0\", \"onset_time\"],\n",
    "                                 dtype={\"id\": str})\n",
    "assert (deg_rate_a_plus[\"id\"] == deg_rate_a_minus[\"id\"]).all()"
   ],
   "execution_count": 3,
   "outputs": []
  },
  {
   "cell_type": "code",
   "metadata": {
    "id": "wgfhmkAaGYfx",
    "colab_type": "code",
    "colab": {}
   },
   "source": [
    "def count_kmers(sequences, k):\n",
    "  data = [row[\"sequence\"].kmer_frequencies(k)\n",
    "          for _, row in sequences.iterrows()]\n",
    "\n",
    "  df = pd.DataFrame(data=data, index=sequences[\"id\"], dtype=\"Int64\")\n",
    "  df.fillna(value=0, inplace=True)\n",
    "  df = df.astype(int)\n",
    "\n",
    "  df = df.astype(pd.SparseDtype(int, fill_value=0))\n",
    "\n",
    "  return df"
   ],
   "execution_count": 4,
   "outputs": []
  },
  {
   "cell_type": "code",
   "execution_count": 5,
   "outputs": [],
   "source": [
    "sequences_for_fit = sequences[sequences[\"id\"].isin(deg_rate_a_plus[\"id\"])]"
   ],
   "metadata": {
    "collapsed": false,
    "pycharm": {
     "name": "#%%\n"
    }
   }
  },
  {
   "cell_type": "code",
   "execution_count": 6,
   "outputs": [],
   "source": [
    "kmer_counts_for_fit = pd.concat([count_kmers(sequences_for_fit, k)\n",
    "                                 for k in range(3, 8)],\n",
    "                                axis=1)"
   ],
   "metadata": {
    "collapsed": false,
    "pycharm": {
     "name": "#%%\n"
    }
   }
  },
  {
   "cell_type": "code",
   "execution_count": 7,
   "outputs": [],
   "source": [
    "def count_specific_kmers(sequences, kmers):\n",
    "  data = np.zeros((len(sequences.index), len(kmers)), dtype=int)\n",
    "  for sequence_index, (_, sequence_row) in enumerate(sequences.iterrows()):\n",
    "    for kmer_index, kmer in enumerate(kmers):\n",
    "      data[sequence_index, kmer_index] = sequence_row[\"sequence\"].count(kmer)\n",
    "\n",
    "  df = pd.DataFrame(data=data,\n",
    "                    index=sequences[\"id\"],\n",
    "                    columns=kmers,\n",
    "                    dtype=pd.SparseDtype(int, fill_value=0))\n",
    "\n",
    "  return df"
   ],
   "metadata": {
    "collapsed": false,
    "pycharm": {
     "name": "#%%\n"
    }
   }
  },
  {
   "cell_type": "code",
   "execution_count": 8,
   "outputs": [],
   "source": [
    "# kmer_counts = count_specific_kmers(sequences, kmer_counts_for_fit.columns)"
   ],
   "metadata": {
    "collapsed": false,
    "pycharm": {
     "name": "#%%\n"
    }
   }
  },
  {
   "cell_type": "markdown",
   "source": [
    "# Linear Regression"
   ],
   "metadata": {
    "collapsed": false,
    "pycharm": {
     "name": "#%% md\n"
    }
   }
  },
  {
   "cell_type": "code",
   "execution_count": 9,
   "outputs": [],
   "source": [
    "X = kmer_counts_for_fit\n",
    "y = deg_rate_a_minus[\"log2_deg_rate\"][deg_rate_a_minus[\"id\"] != \"EMPTY\"]\n",
    "model = LinearRegression().fit(X, y)"
   ],
   "metadata": {
    "collapsed": false,
    "pycharm": {
     "name": "#%%\n"
    }
   }
  },
  {
   "cell_type": "markdown",
   "metadata": {
    "id": "AwtZvhBsvAkC",
    "colab_type": "text"
   },
   "source": [
    "# Lasso"
   ]
  },
  {
   "cell_type": "code",
   "metadata": {
    "id": "wwbqvx5ekIGn",
    "colab_type": "code",
    "colab": {},
    "pycharm": {
     "name": "#%%\n"
    }
   },
   "source": [
    "# X = kmer_counts\n",
    "# y = np.exp2(deg_rate_a_minus[\"log2_deg_rate\"][deg_rate_a_minus[\"id\"] != \"EMPTY\"])\n",
    "# model = LassoCV(cv=10, n_jobs=-1).fit(X, y)"
   ],
   "execution_count": 10,
   "outputs": []
  }
 ]
}