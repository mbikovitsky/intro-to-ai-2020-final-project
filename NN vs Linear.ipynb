{
 "cells": [
  {
   "cell_type": "code",
   "execution_count": 1,
   "metadata": {
    "collapsed": true
   },
   "outputs": [],
   "source": [
    "import numpy as np\n",
    "import torch\n",
    "import torch.nn as nn\n",
    "from sklearn.metrics import mean_squared_error\n",
    "from torch import from_numpy\n",
    "from torch.utils.data import DataLoader, TensorDataset\n",
    "\n",
    "from neural_net import ResidualDegrade\n",
    "from preprocessing import one_hot_encode_sequences, read_all_data, \\\n",
    "    read_original_predictions\n",
    "from util import train_network"
   ]
  },
  {
   "cell_type": "code",
   "execution_count": 2,
   "outputs": [],
   "source": [
    "NETWORK = ResidualDegrade\n",
    "PARAMS = {\n",
    "    'stage4_conv_channels': 198,\n",
    "    'stage3_pool_kernel_size': 8,\n",
    "    'stage2_conv_kernel_size': 3,\n",
    "    'stage1_conv_kernel_size': 7,\n",
    "    'stage1_conv_channels': 97\n",
    "}\n",
    "DEG_MODEL = \"a_minus\""
   ],
   "metadata": {
    "collapsed": false,
    "pycharm": {
     "name": "#%%\n"
    }
   }
  },
  {
   "cell_type": "markdown",
   "source": [
    "# Data pre-processing"
   ],
   "metadata": {
    "collapsed": false
   }
  },
  {
   "cell_type": "code",
   "execution_count": 3,
   "outputs": [
    {
     "data": {
      "text/plain": "                                                     sequence  \\\nid                                                              \nS0_M_T1     TGTCCCCGGGTCTTCCAACGGACTGGCGTTGCCCCGGTTCACTGGG...   \nS0_M_T10    AGATTTTTGGTTCAATATGCTCCTTGAGTGGAGTCTTAGTGATTGC...   \nS0_M_T100   ACCCGGCGCCGCTCGACCCGGAGCGAGGAGTTGACCCGGAGCGAGG...   \nS0_M_T1000  ATGAGGGCTGGAATTTGCATTGAAACACTGGTCCAGTCGCTGTGTA...   \nS0_M_T1001  CCTTAGTGCCCTTAAAATAATGATTTAAGCATTTTACTGTATGTAT...   \n...                                                       ...   \nS3_H_T9995  TTGTAGCTGTCAATTGTATTTAATATACTTTTTTGTCTTTTTAATT...   \nS3_H_T9996  AAAACACCACTACATATGTTTCTCATAAGCGCAACTGTAGTGTTAT...   \nS3_H_T9997  AGGATTTTTTTTTTCACCAATGCTCTTTAATACACACTTGCCTATA...   \nS3_H_T9998  GGTGCTTCAAAGAGTGATTACCCACTAACTAATGAACCCAGACTGT...   \nS3_H_T9999  CTGCAACCATAACTCTAATTGTAGATGTGAAGAAGATTAATGACAG...   \n\n                                          secondary_structure  free_energy  \\\nid                                                                           \nS0_M_T1     .(.((((((((....(((((......)))))((((((....)))))...       -45.92   \nS0_M_T10    ........(((((.....(((((......)))))...(((((..((...       -31.17   \nS0_M_T100   ....((((((.((((..((((..(((....)))..))))..))))....       -41.95   \nS0_M_T1000  .....(((((((...((........))....)))))))..(((......       -23.18   \nS0_M_T1001  ....(.((((((((((.(((.(......((.(((((((((.(.......       -30.84   \n...                                                       ...          ...   \nS3_H_T9995  ((((..(((.((((((.((((((...........(((............       -18.50   \nS3_H_T9996  ((((((((((((((..(((..((....)).)))..))))))).......       -19.40   \nS3_H_T9997  .(((..((((((((.......((................))........       -20.95   \nS3_H_T9998  ((((..(((.....))).))))..((((..((((((((((((.(((...       -28.53   \nS3_H_T9999  ..(((((((..((((((...((((.(((.......((((((....(...       -20.03   \n\n                                     secondary_structure_prob  \\\nid                                                              \nS0_M_T1     .(.((((((((.,,,{{..(|||{((|{..,{{||||,,,.}))))...   \nS0_M_T10    ........(((((,.,..(((((......))))}...{({({..({...   \nS0_M_T100   ....((((((.((((..((((.,({(....})).,))))..)}}),...   \nS0_M_T1000  ...,((((((((.,.({........}}..,,))))))).,|((,,....   \nS0_M_T1001  ....{.(((((((((({(((.{......((.((((((((,.{.......   \n...                                                       ...   \nS3_H_T9995  ,{(((((((.,(({{((((.....}}}}......(((............   \nS3_H_T9996  ((((((((((((((..(((..,.....}}.)})..))))))).......   \nS3_H_T9997  ,((,((((((((({...,,,,({..............,,)}....)...   \nS3_H_T9998  ((((..(((.....))).))))..((((..(((((((((,((.(((...   \nS3_H_T9999  ..(((({({.,((((((...((((.({(.......((((((....{...   \n\n            log2_deg_rate_a_plus  log2_x0_a_plus  onset_time_a_plus  \\\nid                                                                    \nS0_M_T1                      NaN             NaN                NaN   \nS0_M_T10                 -2.7469          2.7887                1.0   \nS0_M_T100                    NaN             NaN                NaN   \nS0_M_T1000                   NaN             NaN                NaN   \nS0_M_T1001                   NaN             NaN                NaN   \n...                          ...             ...                ...   \nS3_H_T9995                   NaN             NaN                NaN   \nS3_H_T9996               -2.5808          3.4966                1.0   \nS3_H_T9997                   NaN             NaN                NaN   \nS3_H_T9998                   NaN             NaN                NaN   \nS3_H_T9999                   NaN             NaN                NaN   \n\n            log2_deg_rate_a_minus  log2_x0_a_minus  onset_time_a_minus  \nid                                                                      \nS0_M_T1                       NaN              NaN                 NaN  \nS0_M_T10                  -2.1721           2.5964                 1.0  \nS0_M_T100                     NaN              NaN                 NaN  \nS0_M_T1000                    NaN              NaN                 NaN  \nS0_M_T1001                    NaN              NaN                 NaN  \n...                           ...              ...                 ...  \nS3_H_T9995                    NaN              NaN                 NaN  \nS3_H_T9996                -2.3105           3.3307                 1.0  \nS3_H_T9997                    NaN              NaN                 NaN  \nS3_H_T9998                    NaN              NaN                 NaN  \nS3_H_T9999                    NaN              NaN                 NaN  \n\n[90000 rows x 10 columns]",
      "text/html": "<div>\n<style scoped>\n    .dataframe tbody tr th:only-of-type {\n        vertical-align: middle;\n    }\n\n    .dataframe tbody tr th {\n        vertical-align: top;\n    }\n\n    .dataframe thead th {\n        text-align: right;\n    }\n</style>\n<table border=\"1\" class=\"dataframe\">\n  <thead>\n    <tr style=\"text-align: right;\">\n      <th></th>\n      <th>sequence</th>\n      <th>secondary_structure</th>\n      <th>free_energy</th>\n      <th>secondary_structure_prob</th>\n      <th>log2_deg_rate_a_plus</th>\n      <th>log2_x0_a_plus</th>\n      <th>onset_time_a_plus</th>\n      <th>log2_deg_rate_a_minus</th>\n      <th>log2_x0_a_minus</th>\n      <th>onset_time_a_minus</th>\n    </tr>\n    <tr>\n      <th>id</th>\n      <th></th>\n      <th></th>\n      <th></th>\n      <th></th>\n      <th></th>\n      <th></th>\n      <th></th>\n      <th></th>\n      <th></th>\n      <th></th>\n    </tr>\n  </thead>\n  <tbody>\n    <tr>\n      <th>S0_M_T1</th>\n      <td>TGTCCCCGGGTCTTCCAACGGACTGGCGTTGCCCCGGTTCACTGGG...</td>\n      <td>.(.((((((((....(((((......)))))((((((....)))))...</td>\n      <td>-45.92</td>\n      <td>.(.((((((((.,,,{{..(|||{((|{..,{{||||,,,.}))))...</td>\n      <td>NaN</td>\n      <td>NaN</td>\n      <td>NaN</td>\n      <td>NaN</td>\n      <td>NaN</td>\n      <td>NaN</td>\n    </tr>\n    <tr>\n      <th>S0_M_T10</th>\n      <td>AGATTTTTGGTTCAATATGCTCCTTGAGTGGAGTCTTAGTGATTGC...</td>\n      <td>........(((((.....(((((......)))))...(((((..((...</td>\n      <td>-31.17</td>\n      <td>........(((((,.,..(((((......))))}...{({({..({...</td>\n      <td>-2.7469</td>\n      <td>2.7887</td>\n      <td>1.0</td>\n      <td>-2.1721</td>\n      <td>2.5964</td>\n      <td>1.0</td>\n    </tr>\n    <tr>\n      <th>S0_M_T100</th>\n      <td>ACCCGGCGCCGCTCGACCCGGAGCGAGGAGTTGACCCGGAGCGAGG...</td>\n      <td>....((((((.((((..((((..(((....)))..))))..))))....</td>\n      <td>-41.95</td>\n      <td>....((((((.((((..((((.,({(....})).,))))..)}}),...</td>\n      <td>NaN</td>\n      <td>NaN</td>\n      <td>NaN</td>\n      <td>NaN</td>\n      <td>NaN</td>\n      <td>NaN</td>\n    </tr>\n    <tr>\n      <th>S0_M_T1000</th>\n      <td>ATGAGGGCTGGAATTTGCATTGAAACACTGGTCCAGTCGCTGTGTA...</td>\n      <td>.....(((((((...((........))....)))))))..(((......</td>\n      <td>-23.18</td>\n      <td>...,((((((((.,.({........}}..,,))))))).,|((,,....</td>\n      <td>NaN</td>\n      <td>NaN</td>\n      <td>NaN</td>\n      <td>NaN</td>\n      <td>NaN</td>\n      <td>NaN</td>\n    </tr>\n    <tr>\n      <th>S0_M_T1001</th>\n      <td>CCTTAGTGCCCTTAAAATAATGATTTAAGCATTTTACTGTATGTAT...</td>\n      <td>....(.((((((((((.(((.(......((.(((((((((.(.......</td>\n      <td>-30.84</td>\n      <td>....{.(((((((((({(((.{......((.((((((((,.{.......</td>\n      <td>NaN</td>\n      <td>NaN</td>\n      <td>NaN</td>\n      <td>NaN</td>\n      <td>NaN</td>\n      <td>NaN</td>\n    </tr>\n    <tr>\n      <th>...</th>\n      <td>...</td>\n      <td>...</td>\n      <td>...</td>\n      <td>...</td>\n      <td>...</td>\n      <td>...</td>\n      <td>...</td>\n      <td>...</td>\n      <td>...</td>\n      <td>...</td>\n    </tr>\n    <tr>\n      <th>S3_H_T9995</th>\n      <td>TTGTAGCTGTCAATTGTATTTAATATACTTTTTTGTCTTTTTAATT...</td>\n      <td>((((..(((.((((((.((((((...........(((............</td>\n      <td>-18.50</td>\n      <td>,{(((((((.,(({{((((.....}}}}......(((............</td>\n      <td>NaN</td>\n      <td>NaN</td>\n      <td>NaN</td>\n      <td>NaN</td>\n      <td>NaN</td>\n      <td>NaN</td>\n    </tr>\n    <tr>\n      <th>S3_H_T9996</th>\n      <td>AAAACACCACTACATATGTTTCTCATAAGCGCAACTGTAGTGTTAT...</td>\n      <td>((((((((((((((..(((..((....)).)))..))))))).......</td>\n      <td>-19.40</td>\n      <td>((((((((((((((..(((..,.....}}.)})..))))))).......</td>\n      <td>-2.5808</td>\n      <td>3.4966</td>\n      <td>1.0</td>\n      <td>-2.3105</td>\n      <td>3.3307</td>\n      <td>1.0</td>\n    </tr>\n    <tr>\n      <th>S3_H_T9997</th>\n      <td>AGGATTTTTTTTTTCACCAATGCTCTTTAATACACACTTGCCTATA...</td>\n      <td>.(((..((((((((.......((................))........</td>\n      <td>-20.95</td>\n      <td>,((,((((((((({...,,,,({..............,,)}....)...</td>\n      <td>NaN</td>\n      <td>NaN</td>\n      <td>NaN</td>\n      <td>NaN</td>\n      <td>NaN</td>\n      <td>NaN</td>\n    </tr>\n    <tr>\n      <th>S3_H_T9998</th>\n      <td>GGTGCTTCAAAGAGTGATTACCCACTAACTAATGAACCCAGACTGT...</td>\n      <td>((((..(((.....))).))))..((((..((((((((((((.(((...</td>\n      <td>-28.53</td>\n      <td>((((..(((.....))).))))..((((..(((((((((,((.(((...</td>\n      <td>NaN</td>\n      <td>NaN</td>\n      <td>NaN</td>\n      <td>NaN</td>\n      <td>NaN</td>\n      <td>NaN</td>\n    </tr>\n    <tr>\n      <th>S3_H_T9999</th>\n      <td>CTGCAACCATAACTCTAATTGTAGATGTGAAGAAGATTAATGACAG...</td>\n      <td>..(((((((..((((((...((((.(((.......((((((....(...</td>\n      <td>-20.03</td>\n      <td>..(((({({.,((((((...((((.({(.......((((((....{...</td>\n      <td>NaN</td>\n      <td>NaN</td>\n      <td>NaN</td>\n      <td>NaN</td>\n      <td>NaN</td>\n      <td>NaN</td>\n    </tr>\n  </tbody>\n</table>\n<p>90000 rows × 10 columns</p>\n</div>"
     },
     "execution_count": 3,
     "metadata": {},
     "output_type": "execute_result"
    }
   ],
   "source": [
    "# Load data\n",
    "\n",
    "df = read_all_data(\"data/ss_out.txt\",\n",
    "                   \"data/3U_sequences_final.txt\",\n",
    "                   \"data/3U.models.3U.40A.seq1022_param.txt\",\n",
    "                   \"data/3U.models.3U.00A.seq1022_param.txt\")\n",
    "df"
   ],
   "metadata": {
    "collapsed": false,
    "pycharm": {
     "name": "#%%\n"
    }
   }
  },
  {
   "cell_type": "code",
   "execution_count": 4,
   "outputs": [
    {
     "data": {
      "text/plain": "                                                     sequence  \\\nid                                                              \nS0_M_T10    AGATTTTTGGTTCAATATGCTCCTTGAGTGGAGTCTTAGTGATTGC...   \nS0_M_T1006  TAGATAGAGATCATCTTTACAGTTCCTCGGGAAAATGTGCTTGTGA...   \nS0_M_T1009  TAGTTATTGTGTGTTGCTAATCATTGACTGTAGTCCCAGTCTGGGA...   \nS0_M_T1013  TGATTCTAGTATATAATATTTTTGTCACGCACCTGCTGACTTAGGA...   \nS0_M_T1014  TTCTAGACTTTCCAAGTATGTTGTCTTTCCAATGGTGCGACAGAGC...   \n...                                                       ...   \nS3_H_T9985  GTCCTTATTTACATGTTTCATTGAGCCCTTTTTGATGTGATTCTTG...   \nS3_H_T9987  TCAATGGTTACAGGTTTCAAACATTCTTCAAAATATCTTCTTTTTG...   \nS3_H_T9989  TGAAAGCACAGAGGGGCTGAGATTCTAAGGGCACTTCATGTTTTTT...   \nS3_H_T9990  AATTAAAGAGAGAGAGAGACGGAGAACACGGTGGGTTTACTAGCGC...   \nS3_H_T9996  AAAACACCACTACATATGTTTCTCATAAGCGCAACTGTAGTGTTAT...   \n\n                                          secondary_structure  free_energy  \\\nid                                                                           \nS0_M_T10    ........(((((.....(((((......)))))...(((((..((...       -31.17   \nS0_M_T1006  ...(((((((((((...((((.((((...))))..))))...))))...       -26.55   \nS0_M_T1009  .....(((((((((((.(((.((..(((((.(((..((((((((((...       -33.05   \nS0_M_T1013  .......................((((.((....))))))...((....       -20.70   \nS0_M_T1014  .............(((..(((((((((......(((((......))...       -22.82   \n...                                                       ...          ...   \nS3_H_T9985  .............((((..(((((.........(((((((.((((....       -18.22   \nS3_H_T9987  (((((((((((((((((.......((..(((((........)))))...       -30.56   \nS3_H_T9989  .(((((((..((((.(((...........))).)))).)))))))....       -24.03   \nS3_H_T9990  .........((.(((((((((.((....((.(((.....))).)))...       -27.22   \nS3_H_T9996  ((((((((((((((..(((..((....)).)))..))))))).......       -19.40   \n\n                                     secondary_structure_prob  \\\nid                                                              \nS0_M_T10    ........(((((,.,..(((((......))))}...{({({..({...   \nS0_M_T1006  .,,({(((({((((...((((.((((...))))..))))...))))...   \nS0_M_T1009  ...,,(((((((((((.{((.{(..(((((.(((..((((((((((...   \nS0_M_T1013  .......,{,,............((((.((....))))))..,((....   \nS0_M_T1014  ......,,,,...|||,.,(((((,,{{((.{((((((......))...   \n...                                                       ...   \nS3_H_T9985  ,....,,,,...,((((,.((({{.........(((((((.((((....   \nS3_H_T9987  (((((((((((((((((.......{{..(((((........)))))...   \nS3_H_T9989  .((((({(.,((((,(((.,,...,....))).)))).))))))),...   \nS3_H_T9990  .........{(.(((((((((.,{....((.(((.....))).)),...   \nS3_H_T9996  ((((((((((((((..(((..,.....}}.)})..))))))).......   \n\n            log2_deg_rate_a_plus  log2_x0_a_plus  onset_time_a_plus  \\\nid                                                                    \nS0_M_T10               -2.746900          2.7887                1.0   \nS0_M_T1006             -2.495200          3.5146                1.0   \nS0_M_T1009             -2.550700          2.7105                1.0   \nS0_M_T1013             -2.327900          3.7761                1.0   \nS0_M_T1014             -1.623200          1.6160                4.8   \n...                          ...             ...                ...   \nS3_H_T9985             -2.027200          2.6826                1.0   \nS3_H_T9987             -2.589200          2.7555                1.0   \nS3_H_T9989              0.023414          1.2948                4.5   \nS3_H_T9990             -2.463100          1.5812                1.0   \nS3_H_T9996             -2.580800          3.4966                1.0   \n\n            log2_deg_rate_a_minus  log2_x0_a_minus  onset_time_a_minus  \nid                                                                      \nS0_M_T10                 -2.17210           2.5964                 1.0  \nS0_M_T1006               -1.94970           3.1963                 1.0  \nS0_M_T1009               -1.51500           2.8747                 1.0  \nS0_M_T1013               -1.89040           3.2967                 1.0  \nS0_M_T1014               -2.09580           2.1356                 1.0  \n...                           ...              ...                 ...  \nS3_H_T9985               -1.59040           2.5908                 1.0  \nS3_H_T9987               -2.05310           2.5282                 1.0  \nS3_H_T9989               -0.75861           1.4902                 3.0  \nS3_H_T9990               -2.71790           1.2301                 1.0  \nS3_H_T9996               -2.31050           3.3307                 1.0  \n\n[31318 rows x 10 columns]",
      "text/html": "<div>\n<style scoped>\n    .dataframe tbody tr th:only-of-type {\n        vertical-align: middle;\n    }\n\n    .dataframe tbody tr th {\n        vertical-align: top;\n    }\n\n    .dataframe thead th {\n        text-align: right;\n    }\n</style>\n<table border=\"1\" class=\"dataframe\">\n  <thead>\n    <tr style=\"text-align: right;\">\n      <th></th>\n      <th>sequence</th>\n      <th>secondary_structure</th>\n      <th>free_energy</th>\n      <th>secondary_structure_prob</th>\n      <th>log2_deg_rate_a_plus</th>\n      <th>log2_x0_a_plus</th>\n      <th>onset_time_a_plus</th>\n      <th>log2_deg_rate_a_minus</th>\n      <th>log2_x0_a_minus</th>\n      <th>onset_time_a_minus</th>\n    </tr>\n    <tr>\n      <th>id</th>\n      <th></th>\n      <th></th>\n      <th></th>\n      <th></th>\n      <th></th>\n      <th></th>\n      <th></th>\n      <th></th>\n      <th></th>\n      <th></th>\n    </tr>\n  </thead>\n  <tbody>\n    <tr>\n      <th>S0_M_T10</th>\n      <td>AGATTTTTGGTTCAATATGCTCCTTGAGTGGAGTCTTAGTGATTGC...</td>\n      <td>........(((((.....(((((......)))))...(((((..((...</td>\n      <td>-31.17</td>\n      <td>........(((((,.,..(((((......))))}...{({({..({...</td>\n      <td>-2.746900</td>\n      <td>2.7887</td>\n      <td>1.0</td>\n      <td>-2.17210</td>\n      <td>2.5964</td>\n      <td>1.0</td>\n    </tr>\n    <tr>\n      <th>S0_M_T1006</th>\n      <td>TAGATAGAGATCATCTTTACAGTTCCTCGGGAAAATGTGCTTGTGA...</td>\n      <td>...(((((((((((...((((.((((...))))..))))...))))...</td>\n      <td>-26.55</td>\n      <td>.,,({(((({((((...((((.((((...))))..))))...))))...</td>\n      <td>-2.495200</td>\n      <td>3.5146</td>\n      <td>1.0</td>\n      <td>-1.94970</td>\n      <td>3.1963</td>\n      <td>1.0</td>\n    </tr>\n    <tr>\n      <th>S0_M_T1009</th>\n      <td>TAGTTATTGTGTGTTGCTAATCATTGACTGTAGTCCCAGTCTGGGA...</td>\n      <td>.....(((((((((((.(((.((..(((((.(((..((((((((((...</td>\n      <td>-33.05</td>\n      <td>...,,(((((((((((.{((.{(..(((((.(((..((((((((((...</td>\n      <td>-2.550700</td>\n      <td>2.7105</td>\n      <td>1.0</td>\n      <td>-1.51500</td>\n      <td>2.8747</td>\n      <td>1.0</td>\n    </tr>\n    <tr>\n      <th>S0_M_T1013</th>\n      <td>TGATTCTAGTATATAATATTTTTGTCACGCACCTGCTGACTTAGGA...</td>\n      <td>.......................((((.((....))))))...((....</td>\n      <td>-20.70</td>\n      <td>.......,{,,............((((.((....))))))..,((....</td>\n      <td>-2.327900</td>\n      <td>3.7761</td>\n      <td>1.0</td>\n      <td>-1.89040</td>\n      <td>3.2967</td>\n      <td>1.0</td>\n    </tr>\n    <tr>\n      <th>S0_M_T1014</th>\n      <td>TTCTAGACTTTCCAAGTATGTTGTCTTTCCAATGGTGCGACAGAGC...</td>\n      <td>.............(((..(((((((((......(((((......))...</td>\n      <td>-22.82</td>\n      <td>......,,,,...|||,.,(((((,,{{((.{((((((......))...</td>\n      <td>-1.623200</td>\n      <td>1.6160</td>\n      <td>4.8</td>\n      <td>-2.09580</td>\n      <td>2.1356</td>\n      <td>1.0</td>\n    </tr>\n    <tr>\n      <th>...</th>\n      <td>...</td>\n      <td>...</td>\n      <td>...</td>\n      <td>...</td>\n      <td>...</td>\n      <td>...</td>\n      <td>...</td>\n      <td>...</td>\n      <td>...</td>\n      <td>...</td>\n    </tr>\n    <tr>\n      <th>S3_H_T9985</th>\n      <td>GTCCTTATTTACATGTTTCATTGAGCCCTTTTTGATGTGATTCTTG...</td>\n      <td>.............((((..(((((.........(((((((.((((....</td>\n      <td>-18.22</td>\n      <td>,....,,,,...,((((,.((({{.........(((((((.((((....</td>\n      <td>-2.027200</td>\n      <td>2.6826</td>\n      <td>1.0</td>\n      <td>-1.59040</td>\n      <td>2.5908</td>\n      <td>1.0</td>\n    </tr>\n    <tr>\n      <th>S3_H_T9987</th>\n      <td>TCAATGGTTACAGGTTTCAAACATTCTTCAAAATATCTTCTTTTTG...</td>\n      <td>(((((((((((((((((.......((..(((((........)))))...</td>\n      <td>-30.56</td>\n      <td>(((((((((((((((((.......{{..(((((........)))))...</td>\n      <td>-2.589200</td>\n      <td>2.7555</td>\n      <td>1.0</td>\n      <td>-2.05310</td>\n      <td>2.5282</td>\n      <td>1.0</td>\n    </tr>\n    <tr>\n      <th>S3_H_T9989</th>\n      <td>TGAAAGCACAGAGGGGCTGAGATTCTAAGGGCACTTCATGTTTTTT...</td>\n      <td>.(((((((..((((.(((...........))).)))).)))))))....</td>\n      <td>-24.03</td>\n      <td>.((((({(.,((((,(((.,,...,....))).)))).))))))),...</td>\n      <td>0.023414</td>\n      <td>1.2948</td>\n      <td>4.5</td>\n      <td>-0.75861</td>\n      <td>1.4902</td>\n      <td>3.0</td>\n    </tr>\n    <tr>\n      <th>S3_H_T9990</th>\n      <td>AATTAAAGAGAGAGAGAGACGGAGAACACGGTGGGTTTACTAGCGC...</td>\n      <td>.........((.(((((((((.((....((.(((.....))).)))...</td>\n      <td>-27.22</td>\n      <td>.........{(.(((((((((.,{....((.(((.....))).)),...</td>\n      <td>-2.463100</td>\n      <td>1.5812</td>\n      <td>1.0</td>\n      <td>-2.71790</td>\n      <td>1.2301</td>\n      <td>1.0</td>\n    </tr>\n    <tr>\n      <th>S3_H_T9996</th>\n      <td>AAAACACCACTACATATGTTTCTCATAAGCGCAACTGTAGTGTTAT...</td>\n      <td>((((((((((((((..(((..((....)).)))..))))))).......</td>\n      <td>-19.40</td>\n      <td>((((((((((((((..(((..,.....}}.)})..))))))).......</td>\n      <td>-2.580800</td>\n      <td>3.4966</td>\n      <td>1.0</td>\n      <td>-2.31050</td>\n      <td>3.3307</td>\n      <td>1.0</td>\n    </tr>\n  </tbody>\n</table>\n<p>31318 rows × 10 columns</p>\n</div>"
     },
     "execution_count": 4,
     "metadata": {},
     "output_type": "execute_result"
    }
   ],
   "source": [
    "train_df = df.dropna()\n",
    "train_df"
   ],
   "metadata": {
    "collapsed": false,
    "pycharm": {
     "name": "#%%\n"
    }
   }
  },
  {
   "cell_type": "code",
   "execution_count": 5,
   "outputs": [
    {
     "data": {
      "text/plain": "array([[[1., 0., 1., ..., 0., 0., 0.],\n        [0., 0., 0., ..., 1., 1., 0.],\n        [0., 1., 0., ..., 0., 0., 0.],\n        [0., 0., 0., ..., 0., 0., 1.]],\n\n       [[0., 1., 0., ..., 0., 1., 0.],\n        [0., 0., 0., ..., 0., 0., 0.],\n        [0., 0., 1., ..., 0., 0., 0.],\n        [1., 0., 0., ..., 1., 0., 1.]],\n\n       [[0., 1., 0., ..., 0., 1., 0.],\n        [0., 0., 0., ..., 1., 0., 0.],\n        [0., 0., 1., ..., 0., 0., 0.],\n        [1., 0., 0., ..., 0., 0., 1.]],\n\n       ...,\n\n       [[0., 0., 1., ..., 0., 0., 0.],\n        [0., 0., 0., ..., 0., 0., 0.],\n        [0., 1., 0., ..., 0., 0., 1.],\n        [1., 0., 0., ..., 1., 1., 0.]],\n\n       [[1., 1., 0., ..., 1., 0., 1.],\n        [0., 0., 0., ..., 0., 0., 0.],\n        [0., 0., 0., ..., 0., 1., 0.],\n        [0., 0., 1., ..., 0., 0., 0.]],\n\n       [[1., 1., 1., ..., 0., 0., 1.],\n        [0., 0., 0., ..., 0., 0., 0.],\n        [0., 0., 0., ..., 0., 0., 0.],\n        [0., 0., 0., ..., 1., 1., 0.]]], dtype=float32)"
     },
     "execution_count": 5,
     "metadata": {},
     "output_type": "execute_result"
    }
   ],
   "source": [
    "train_sequences = one_hot_encode_sequences(train_df[\"sequence\"])\n",
    "train_sequences"
   ],
   "metadata": {
    "collapsed": false,
    "pycharm": {
     "name": "#%%\n"
    }
   }
  },
  {
   "cell_type": "code",
   "execution_count": 6,
   "outputs": [],
   "source": [
    "X_train = from_numpy(train_sequences)\n",
    "y_train = from_numpy(train_df[f\"log2_deg_rate_{DEG_MODEL}\"].to_numpy(np.float32).reshape(-1, 1))"
   ],
   "metadata": {
    "collapsed": false,
    "pycharm": {
     "name": "#%%\n"
    }
   }
  },
  {
   "cell_type": "code",
   "execution_count": 7,
   "outputs": [],
   "source": [
    "compare_df, a_minus_clip, a_plus_clip = \\\n",
    "    read_original_predictions(\"data/models_full_dg.txt\")"
   ],
   "metadata": {
    "collapsed": false,
    "pycharm": {
     "name": "#%%\n"
    }
   }
  },
  {
   "cell_type": "code",
   "execution_count": 8,
   "outputs": [
    {
     "data": {
      "text/plain": "             a_plus  a_minus  \\\nid                             \nS0_M_T1    -1.12880  -1.1807   \nS0_M_T100  -1.58920  -1.5481   \nS0_M_T1000 -0.26523  -1.4689   \nS0_M_T1001 -0.76394  -3.3179   \nS0_M_T1002 -2.11520  -2.8701   \n...             ...      ...   \nS3_H_T9994 -1.43950  -2.5863   \nS3_H_T9995 -0.96243  -3.6068   \nS3_H_T9997 -1.32350  -2.6724   \nS3_H_T9998 -1.99170  -2.3379   \nS3_H_T9999 -1.07090  -2.3330   \n\n                                                     sequence  \nid                                                             \nS0_M_T1     TGTCCCCGGGTCTTCCAACGGACTGGCGTTGCCCCGGTTCACTGGG...  \nS0_M_T100   ACCCGGCGCCGCTCGACCCGGAGCGAGGAGTTGACCCGGAGCGAGG...  \nS0_M_T1000  ATGAGGGCTGGAATTTGCATTGAAACACTGGTCCAGTCGCTGTGTA...  \nS0_M_T1001  CCTTAGTGCCCTTAAAATAATGATTTAAGCATTTTACTGTATGTAT...  \nS0_M_T1002  GTAGGCCATGATAATAGGTCATATGTTGTGTTTGGTTCTGTGTTCA...  \n...                                                       ...  \nS3_H_T9994  TTTGGCTATAGAATCAGGCGGCCGTTTTATGTGGGATTTGACGACC...  \nS3_H_T9995  TTGTAGCTGTCAATTGTATTTAATATACTTTTTTGTCTTTTTAATT...  \nS3_H_T9997  AGGATTTTTTTTTTCACCAATGCTCTTTAATACACACTTGCCTATA...  \nS3_H_T9998  GGTGCTTCAAAGAGTGATTACCCACTAACTAATGAACCCAGACTGT...  \nS3_H_T9999  CTGCAACCATAACTCTAATTGTAGATGTGAAGAAGATTAATGACAG...  \n\n[58682 rows x 3 columns]",
      "text/html": "<div>\n<style scoped>\n    .dataframe tbody tr th:only-of-type {\n        vertical-align: middle;\n    }\n\n    .dataframe tbody tr th {\n        vertical-align: top;\n    }\n\n    .dataframe thead th {\n        text-align: right;\n    }\n</style>\n<table border=\"1\" class=\"dataframe\">\n  <thead>\n    <tr style=\"text-align: right;\">\n      <th></th>\n      <th>a_plus</th>\n      <th>a_minus</th>\n      <th>sequence</th>\n    </tr>\n    <tr>\n      <th>id</th>\n      <th></th>\n      <th></th>\n      <th></th>\n    </tr>\n  </thead>\n  <tbody>\n    <tr>\n      <th>S0_M_T1</th>\n      <td>-1.12880</td>\n      <td>-1.1807</td>\n      <td>TGTCCCCGGGTCTTCCAACGGACTGGCGTTGCCCCGGTTCACTGGG...</td>\n    </tr>\n    <tr>\n      <th>S0_M_T100</th>\n      <td>-1.58920</td>\n      <td>-1.5481</td>\n      <td>ACCCGGCGCCGCTCGACCCGGAGCGAGGAGTTGACCCGGAGCGAGG...</td>\n    </tr>\n    <tr>\n      <th>S0_M_T1000</th>\n      <td>-0.26523</td>\n      <td>-1.4689</td>\n      <td>ATGAGGGCTGGAATTTGCATTGAAACACTGGTCCAGTCGCTGTGTA...</td>\n    </tr>\n    <tr>\n      <th>S0_M_T1001</th>\n      <td>-0.76394</td>\n      <td>-3.3179</td>\n      <td>CCTTAGTGCCCTTAAAATAATGATTTAAGCATTTTACTGTATGTAT...</td>\n    </tr>\n    <tr>\n      <th>S0_M_T1002</th>\n      <td>-2.11520</td>\n      <td>-2.8701</td>\n      <td>GTAGGCCATGATAATAGGTCATATGTTGTGTTTGGTTCTGTGTTCA...</td>\n    </tr>\n    <tr>\n      <th>...</th>\n      <td>...</td>\n      <td>...</td>\n      <td>...</td>\n    </tr>\n    <tr>\n      <th>S3_H_T9994</th>\n      <td>-1.43950</td>\n      <td>-2.5863</td>\n      <td>TTTGGCTATAGAATCAGGCGGCCGTTTTATGTGGGATTTGACGACC...</td>\n    </tr>\n    <tr>\n      <th>S3_H_T9995</th>\n      <td>-0.96243</td>\n      <td>-3.6068</td>\n      <td>TTGTAGCTGTCAATTGTATTTAATATACTTTTTTGTCTTTTTAATT...</td>\n    </tr>\n    <tr>\n      <th>S3_H_T9997</th>\n      <td>-1.32350</td>\n      <td>-2.6724</td>\n      <td>AGGATTTTTTTTTTCACCAATGCTCTTTAATACACACTTGCCTATA...</td>\n    </tr>\n    <tr>\n      <th>S3_H_T9998</th>\n      <td>-1.99170</td>\n      <td>-2.3379</td>\n      <td>GGTGCTTCAAAGAGTGATTACCCACTAACTAATGAACCCAGACTGT...</td>\n    </tr>\n    <tr>\n      <th>S3_H_T9999</th>\n      <td>-1.07090</td>\n      <td>-2.3330</td>\n      <td>CTGCAACCATAACTCTAATTGTAGATGTGAAGAAGATTAATGACAG...</td>\n    </tr>\n  </tbody>\n</table>\n<p>58682 rows × 3 columns</p>\n</div>"
     },
     "execution_count": 8,
     "metadata": {},
     "output_type": "execute_result"
    }
   ],
   "source": [
    "# We'll be testing against the sequences for which we do not have\n",
    "# a calculated degradation rate\n",
    "test_index = df.index.difference(train_df.index)\n",
    "\n",
    "test_df = compare_df.loc[test_index]\n",
    "test_df[\"sequence\"] = df[\"sequence\"].loc[test_index]\n",
    "test_df"
   ],
   "metadata": {
    "collapsed": false,
    "pycharm": {
     "name": "#%%\n"
    }
   }
  },
  {
   "cell_type": "code",
   "execution_count": 9,
   "outputs": [
    {
     "data": {
      "text/plain": "array([[[0., 0., 0., ..., 0., 0., 0.],\n        [0., 0., 0., ..., 0., 0., 0.],\n        [0., 1., 0., ..., 0., 1., 0.],\n        [1., 0., 1., ..., 1., 0., 1.]],\n\n       [[1., 0., 0., ..., 0., 0., 1.],\n        [0., 1., 1., ..., 1., 1., 0.],\n        [0., 0., 0., ..., 0., 0., 0.],\n        [0., 0., 0., ..., 0., 0., 0.]],\n\n       [[1., 0., 0., ..., 1., 0., 0.],\n        [0., 0., 0., ..., 0., 1., 0.],\n        [0., 0., 1., ..., 0., 0., 1.],\n        [0., 1., 0., ..., 0., 0., 0.]],\n\n       ...,\n\n       [[1., 0., 0., ..., 1., 0., 0.],\n        [0., 0., 0., ..., 0., 0., 0.],\n        [0., 1., 1., ..., 0., 0., 1.],\n        [0., 0., 0., ..., 0., 1., 0.]],\n\n       [[0., 0., 0., ..., 0., 0., 1.],\n        [0., 0., 0., ..., 0., 0., 0.],\n        [1., 1., 0., ..., 1., 1., 0.],\n        [0., 0., 1., ..., 0., 0., 0.]],\n\n       [[0., 0., 0., ..., 0., 0., 0.],\n        [1., 0., 0., ..., 0., 0., 0.],\n        [0., 0., 1., ..., 0., 0., 0.],\n        [0., 1., 0., ..., 1., 1., 1.]]], dtype=float32)"
     },
     "execution_count": 9,
     "metadata": {},
     "output_type": "execute_result"
    }
   ],
   "source": [
    "test_sequences = one_hot_encode_sequences(test_df[\"sequence\"])\n",
    "test_sequences"
   ],
   "metadata": {
    "collapsed": false,
    "pycharm": {
     "name": "#%%\n"
    }
   }
  },
  {
   "cell_type": "code",
   "execution_count": 10,
   "outputs": [],
   "source": [
    "X_test = from_numpy(test_sequences)\n",
    "y_test = from_numpy(test_df[DEG_MODEL].to_numpy(np.float32).reshape(-1, 1))"
   ],
   "metadata": {
    "collapsed": false,
    "pycharm": {
     "name": "#%%\n"
    }
   }
  },
  {
   "cell_type": "markdown",
   "source": [
    "# NN"
   ],
   "metadata": {
    "collapsed": false,
    "pycharm": {
     "name": "#%% md\n"
    }
   }
  },
  {
   "cell_type": "code",
   "execution_count": 11,
   "outputs": [
    {
     "data": {
      "text/plain": "ResidualDegrade(\n  (stage1): Sequential(\n    (0): Conv1d(4, 97, kernel_size=(7,), stride=(1,))\n    (1): BatchNorm1d(97, eps=1e-05, momentum=0.1, affine=True, track_running_stats=True)\n    (2): ReLU()\n  )\n  (stage2): ResidualLayer(\n    (conv1): Conv1d(97, 97, kernel_size=(3,), stride=(1,), padding=(1,))\n    (norm1): BatchNorm1d(97, eps=1e-05, momentum=0.1, affine=True, track_running_stats=True)\n    (conv2): Conv1d(97, 97, kernel_size=(3,), stride=(1,), padding=(1,))\n    (norm2): BatchNorm1d(97, eps=1e-05, momentum=0.1, affine=True, track_running_stats=True)\n  )\n  (stage3): AvgPool1d(kernel_size=(8,), stride=(8,), padding=(0,))\n  (stage4): Sequential(\n    (0): Conv1d(97, 198, kernel_size=(13,), stride=(1,))\n    (1): BatchNorm1d(198, eps=1e-05, momentum=0.1, affine=True, track_running_stats=True)\n    (2): ReLU()\n  )\n  (stage5): Linear(in_features=198, out_features=1, bias=True)\n)"
     },
     "execution_count": 11,
     "metadata": {},
     "output_type": "execute_result"
    }
   ],
   "source": [
    "network = NETWORK(**PARAMS)\n",
    "network"
   ],
   "metadata": {
    "collapsed": false,
    "pycharm": {
     "name": "#%%\n"
    }
   }
  },
  {
   "cell_type": "code",
   "execution_count": 12,
   "outputs": [
    {
     "name": "stdout",
     "output_type": "stream",
     "text": [
      "Epoch 1\n",
      "Epoch 2\n",
      "Epoch 3\n",
      "Epoch 4\n",
      "Epoch 5\n"
     ]
    }
   ],
   "source": [
    "train_loader = DataLoader(TensorDataset(X_train, y_train),\n",
    "                          batch_size=4, shuffle=True)\n",
    "optimizer = torch.optim.Adam(network.parameters(), lr=0.001)\n",
    "train_network(network, train_loader, 5, nn.MSELoss(), optimizer)"
   ],
   "metadata": {
    "collapsed": false,
    "pycharm": {
     "name": "#%%\n"
    }
   }
  },
  {
   "cell_type": "code",
   "execution_count": 13,
   "outputs": [],
   "source": [
    "with torch.no_grad():\n",
    "    y_pred = network(X_test)"
   ],
   "metadata": {
    "collapsed": false,
    "pycharm": {
     "name": "#%%\n"
    }
   }
  },
  {
   "cell_type": "code",
   "execution_count": 14,
   "outputs": [
    {
     "data": {
      "text/plain": "0.2820798"
     },
     "execution_count": 14,
     "metadata": {},
     "output_type": "execute_result"
    }
   ],
   "source": [
    "mean_squared_error(y_true=y_test, y_pred=y_pred)"
   ],
   "metadata": {
    "collapsed": false,
    "pycharm": {
     "name": "#%%\n"
    }
   }
  }
 ],
 "metadata": {
  "kernelspec": {
   "display_name": "Python 3",
   "language": "python",
   "name": "python3"
  },
  "language_info": {
   "codemirror_mode": {
    "name": "ipython",
    "version": 2
   },
   "file_extension": ".py",
   "mimetype": "text/x-python",
   "name": "python",
   "nbconvert_exporter": "python",
   "pygments_lexer": "ipython2",
   "version": "2.7.6"
  }
 },
 "nbformat": 4,
 "nbformat_minor": 0
}